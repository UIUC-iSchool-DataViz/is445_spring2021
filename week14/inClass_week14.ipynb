{
 "cells": [
  {
   "cell_type": "markdown",
   "id": "innovative-airplane",
   "metadata": {},
   "source": [
    "# In Class Notebook, Week 14"
   ]
  },
  {
   "cell_type": "markdown",
   "id": "recovered-dimension",
   "metadata": {},
   "source": [
    "You can always paste the URL of this notebook (https://github.com/UIUC-iSchool-DataViz/is445_spring2021/blob/master/week14/inClass_week14.ipynb ) into the nbviewer interface for a plain-text rendering:\n",
    "\n",
    "https://kokes.github.io/nbviewer.js/viewer.html"
   ]
  },
  {
   "cell_type": "markdown",
   "id": "adolescent-segment",
   "metadata": {},
   "source": [
    "Let me write something!"
   ]
  },
  {
   "cell_type": "markdown",
   "id": "foreign-tooth",
   "metadata": {},
   "source": [
    "Before yt, let's check out ipyvolume\n",
    "\n",
    "## ipyvolume"
   ]
  },
  {
   "cell_type": "code",
   "execution_count": 1,
   "id": "cutting-litigation",
   "metadata": {},
   "outputs": [],
   "source": [
    "# import our usual things\n",
    "import numpy as np\n",
    "import pandas as pd\n",
    "import ipyvolume"
   ]
  },
  {
   "cell_type": "code",
   "execution_count": 2,
   "id": "critical-package",
   "metadata": {},
   "outputs": [],
   "source": [
    "x, y, z = np.random.random((3, 100)) # 3 dimensions, 100 points total"
   ]
  },
  {
   "cell_type": "code",
   "execution_count": 7,
   "id": "cardiac-infrastructure",
   "metadata": {},
   "outputs": [],
   "source": [
    "ipyvolume.quickscatter?"
   ]
  },
  {
   "cell_type": "code",
   "execution_count": 8,
   "id": "narrative-surname",
   "metadata": {},
   "outputs": [
    {
     "data": {
      "application/vnd.jupyter.widget-view+json": {
       "model_id": "baf14fc09dcb4a988cb0c183a490d891",
       "version_major": 2,
       "version_minor": 0
      },
      "text/plain": [
       "VBox(children=(Figure(camera=PerspectiveCamera(fov=45.0, position=(0.0, 0.0, 2.0), projectionMatrix=(1.0, 0.0,…"
      ]
     },
     "metadata": {},
     "output_type": "display_data"
    }
   ],
   "source": [
    "# quick 3d scatter plot\n",
    "ipyvolume.quickscatter(x,y,z, size=5, marker='diamond')"
   ]
  },
  {
   "cell_type": "markdown",
   "id": "constitutional-arrest",
   "metadata": {},
   "source": [
    "Now using \"real\" data -- data from a VERY low resolution simulation of 2 galaxies colliding. (Galaxies are collections of billions of stars, we live in the Milky Way galaxy, our star (the Sun!) is about 1/2 out on a disk of stars in the Milky Way)."
   ]
  },
  {
   "cell_type": "code",
   "execution_count": 9,
   "id": "cubic-harris",
   "metadata": {},
   "outputs": [],
   "source": [
    "galaxy_file = '/Users/jillnaiman/Downloads/outarrsnap_001_fac1n3.txt'"
   ]
  },
  {
   "cell_type": "markdown",
   "id": "artificial-dragon",
   "metadata": {},
   "source": [
    "We note: the data is super confusing to look at!  Luckily there is a data reader -- solverlibs.py -- included in the galaxyFiles.zip!"
   ]
  },
  {
   "cell_type": "code",
   "execution_count": 22,
   "id": "alert-fundamental",
   "metadata": {},
   "outputs": [],
   "source": [
    "# to load solver -- can copy to current directory\n",
    "\n",
    "# or update path:\n",
    "from sys import path\n",
    "path.append('/Users/jillnaiman/Downloads/')\n",
    "#path.append('C:\\\\Users\\\\jillnaiman\\\\Downloads\\\\') # maybe windows?!"
   ]
  },
  {
   "cell_type": "code",
   "execution_count": 23,
   "id": "sharing-packing",
   "metadata": {},
   "outputs": [
    {
     "data": {
      "text/plain": [
       "['/Users/jillnaiman/is445_spring2021/week14',\n",
       " '/opt/anaconda3/envs/DataViz/lib/python37.zip',\n",
       " '/opt/anaconda3/envs/DataViz/lib/python3.7',\n",
       " '/opt/anaconda3/envs/DataViz/lib/python3.7/lib-dynload',\n",
       " '',\n",
       " '/Users/jillnaiman/.local/lib/python3.7/site-packages',\n",
       " '/opt/anaconda3/envs/DataViz/lib/python3.7/site-packages',\n",
       " '/opt/anaconda3/envs/DataViz/lib/python3.7/site-packages/IPython/extensions',\n",
       " '/Users/jillnaiman/.ipython',\n",
       " '/Users/jillnaiman/Downloads/',\n",
       " '/Users/jillnaiman/Downloads/']"
      ]
     },
     "execution_count": 23,
     "metadata": {},
     "output_type": "execute_result"
    }
   ],
   "source": [
    "path"
   ]
  },
  {
   "cell_type": "code",
   "execution_count": 21,
   "id": "medical-examination",
   "metadata": {},
   "outputs": [],
   "source": [
    "from solverlibs import read_in_galaxy_data"
   ]
  },
  {
   "cell_type": "code",
   "execution_count": 13,
   "id": "spoken-bottom",
   "metadata": {},
   "outputs": [],
   "source": [
    "read_in_galaxy_data?"
   ]
  },
  {
   "cell_type": "code",
   "execution_count": 14,
   "id": "universal-boulder",
   "metadata": {},
   "outputs": [],
   "source": [
    "# Note: a terrible person has not included doc strings!!!"
   ]
  },
  {
   "cell_type": "code",
   "execution_count": 15,
   "id": "future-tourist",
   "metadata": {},
   "outputs": [],
   "source": [
    "t_h, r_h, v_h, e_h, N, part_type = read_in_galaxy_data(galaxy_file)"
   ]
  },
  {
   "cell_type": "code",
   "execution_count": 17,
   "id": "original-lunch",
   "metadata": {},
   "outputs": [
    {
     "data": {
      "text/plain": [
       "(82, 3, 500)"
      ]
     },
     "execution_count": 17,
     "metadata": {},
     "output_type": "execute_result"
    }
   ],
   "source": [
    "r_h.shape # 82 particles, 3 positions -- x/y/z, 500 time steps"
   ]
  },
  {
   "cell_type": "code",
   "execution_count": 18,
   "id": "pleased-premises",
   "metadata": {},
   "outputs": [
    {
     "data": {
      "text/plain": [
       "82"
      ]
     },
     "execution_count": 18,
     "metadata": {},
     "output_type": "execute_result"
    }
   ],
   "source": [
    "N"
   ]
  },
  {
   "cell_type": "code",
   "execution_count": 32,
   "id": "confidential-matthew",
   "metadata": {},
   "outputs": [],
   "source": [
    "# 3D plot of my initial time step:\n",
    "nT = 0 # first time step\n",
    "\n",
    "x, y, z = r_h[:,0, nT], r_h[:,1,nT], r_h[:,2,nT]"
   ]
  },
  {
   "cell_type": "code",
   "execution_count": 33,
   "id": "together-algorithm",
   "metadata": {},
   "outputs": [
    {
     "data": {
      "application/vnd.jupyter.widget-view+json": {
       "model_id": "84d24ccac9ba45c1ba704b36a5956f60",
       "version_major": 2,
       "version_minor": 0
      },
      "text/plain": [
       "VBox(children=(Figure(camera=PerspectiveCamera(fov=45.0, position=(0.0, 0.0, 2.0), projectionMatrix=(1.0, 0.0,…"
      ]
     },
     "metadata": {},
     "output_type": "display_data"
    }
   ],
   "source": [
    "ipyvolume.quickscatter(x,y,z, size=3, marker=\"sphere\") # plots one time step"
   ]
  },
  {
   "cell_type": "code",
   "execution_count": 34,
   "id": "voluntary-quest",
   "metadata": {},
   "outputs": [],
   "source": [
    "# all timesteps by \"unwrapping\"\n",
    "\n",
    "x = r_h[:,0,:].ravel() # 1D\n",
    "y = r_h[:,1,:].ravel()\n",
    "z = r_h[:,2,:].ravel()"
   ]
  },
  {
   "cell_type": "code",
   "execution_count": 35,
   "id": "fifty-hudson",
   "metadata": {},
   "outputs": [
    {
     "data": {
      "text/plain": [
       "array([-0.55503449, -0.5316963 , -0.50835813, ..., -1.42056334,\n",
       "       -1.42175787, -1.42295243])"
      ]
     },
     "execution_count": 35,
     "metadata": {},
     "output_type": "execute_result"
    }
   ],
   "source": [
    "x"
   ]
  },
  {
   "cell_type": "code",
   "execution_count": 36,
   "id": "herbal-might",
   "metadata": {},
   "outputs": [
    {
     "data": {
      "application/vnd.jupyter.widget-view+json": {
       "model_id": "e7c87eeda5294f53a451b57a36d5b5b8",
       "version_major": 2,
       "version_minor": 0
      },
      "text/plain": [
       "VBox(children=(Figure(camera=PerspectiveCamera(fov=45.0, position=(0.0, 0.0, 2.0), projectionMatrix=(1.0, 0.0,…"
      ]
     },
     "metadata": {},
     "output_type": "display_data"
    }
   ],
   "source": [
    "ipyvolume.quickscatter(x,y,z, size=3, marker='sphere')"
   ]
  },
  {
   "cell_type": "markdown",
   "id": "raised-cleaner",
   "metadata": {},
   "source": [
    "This is not super useful, but we can do better using a quiver plot:"
   ]
  },
  {
   "cell_type": "code",
   "execution_count": 38,
   "id": "accredited-press",
   "metadata": {},
   "outputs": [
    {
     "data": {
      "application/vnd.jupyter.widget-view+json": {
       "model_id": "69072a73fb794d8a95b1952745eda4dc",
       "version_major": 2,
       "version_minor": 0
      },
      "text/plain": [
       "VBox(children=(Figure(camera=PerspectiveCamera(fov=45.0, position=(0.0, 0.0, 2.0), projectionMatrix=(1.0, 0.0,…"
      ]
     },
     "metadata": {},
     "output_type": "display_data"
    }
   ],
   "source": [
    "ipyvolume.figure()\n",
    "# use quiver plot -- x,y,z positions and vx,vy,vz velocity vector components\n",
    "\n",
    "for i in range(r_h.shape[0]): # loop through every particle\n",
    "    ipyvolume.quiver(r_h[i,0,:], # ith particle, x position, all time steps\n",
    "                    r_h[i,1,:], # ith particle, y postion, all time steps\n",
    "                    r_h[i,2,:], # ith particle, z postion, all timesteps\n",
    "                    v_h[i,0,:], # ith particle, vx (velocity in x direction), all time steps\n",
    "                    v_h[i,1,:], # ith particle, vy, all times\n",
    "                    v_h[i,2,:], # ith particle, vz, all times\n",
    "                    size=1)\n",
    "ipyvolume.show()"
   ]
  },
  {
   "cell_type": "code",
   "execution_count": null,
   "id": "quarterly-trust",
   "metadata": {},
   "outputs": [],
   "source": []
  }
 ],
 "metadata": {
  "kernelspec": {
   "display_name": "Python 3",
   "language": "python",
   "name": "python3"
  },
  "language_info": {
   "codemirror_mode": {
    "name": "ipython",
    "version": 3
   },
   "file_extension": ".py",
   "mimetype": "text/x-python",
   "name": "python",
   "nbconvert_exporter": "python",
   "pygments_lexer": "ipython3",
   "version": "3.7.9"
  }
 },
 "nbformat": 4,
 "nbformat_minor": 5
}
