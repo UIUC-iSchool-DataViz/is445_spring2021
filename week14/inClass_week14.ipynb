{
 "cells": [
  {
   "cell_type": "markdown",
   "id": "innovative-airplane",
   "metadata": {},
   "source": [
    "# In Class Notebook, Week 14"
   ]
  },
  {
   "cell_type": "markdown",
   "id": "recovered-dimension",
   "metadata": {},
   "source": [
    "You can always paste the URL of this notebook (https://github.com/UIUC-iSchool-DataViz/is445_spring2021/blob/master/week14/inClass_week14.ipynb ) into the nbviewer interface for a plain-text rendering:\n",
    "\n",
    "https://kokes.github.io/nbviewer.js/viewer.html"
   ]
  },
  {
   "cell_type": "markdown",
   "id": "friendly-midnight",
   "metadata": {},
   "source": [
    "Let me write something!"
   ]
  },
  {
   "cell_type": "markdown",
   "id": "seventh-strike",
   "metadata": {},
   "source": [
    "Before yt, let's check out ipyvolume\n",
    "\n",
    "## ipyvolume"
   ]
  },
  {
   "cell_type": "code",
   "execution_count": 1,
   "id": "concrete-seminar",
   "metadata": {},
   "outputs": [],
   "source": [
    "# import our usual things\n",
    "import numpy as np\n",
    "import pandas as pd\n",
    "import ipyvolume"
   ]
  },
  {
   "cell_type": "code",
   "execution_count": 2,
   "id": "homeless-swedish",
   "metadata": {},
   "outputs": [],
   "source": [
    "x, y, z = np.random.random((3, 100)) # 3 dimensions, 100 points total"
   ]
  },
  {
   "cell_type": "code",
   "execution_count": 7,
   "id": "stretch-guest",
   "metadata": {},
   "outputs": [],
   "source": [
    "ipyvolume.quickscatter?"
   ]
  },
  {
   "cell_type": "code",
   "execution_count": 8,
   "id": "increasing-serve",
   "metadata": {},
   "outputs": [
    {
     "data": {
      "application/vnd.jupyter.widget-view+json": {
       "model_id": "baf14fc09dcb4a988cb0c183a490d891",
       "version_major": 2,
       "version_minor": 0
      },
      "text/plain": [
       "VBox(children=(Figure(camera=PerspectiveCamera(fov=45.0, position=(0.0, 0.0, 2.0), projectionMatrix=(1.0, 0.0,…"
      ]
     },
     "metadata": {},
     "output_type": "display_data"
    }
   ],
   "source": [
    "# quick 3d scatter plot\n",
    "ipyvolume.quickscatter(x,y,z, size=5, marker='diamond')"
   ]
  },
  {
   "cell_type": "markdown",
   "id": "second-television",
   "metadata": {},
   "source": [
    "Now using \"real\" data -- data from a VERY low resolution simulation of 2 galaxies colliding. (Galaxies are collections of billions of stars, we live in the Milky Way galaxy, our star (the Sun!) is about 1/2 out on a disk of stars in the Milky Way)."
   ]
  },
  {
   "cell_type": "code",
   "execution_count": 96,
   "id": "durable-michigan",
   "metadata": {},
   "outputs": [],
   "source": [
    "galaxy_file = '/Users/jillnaiman/Downloads/outarrsnap_001_fac1n3.txt' # 7 Mb\n",
    "galaxy_file = '/Users/jillnaiman/Downloads/outarrsnap_001_fac1n2_nt500.txt'\n",
    "\n"
   ]
  },
  {
   "cell_type": "markdown",
   "id": "hawaiian-smart",
   "metadata": {},
   "source": [
    "We note: the data is super confusing to look at!  Luckily there is a data reader -- solverlibs.py -- included in the galaxyFiles.zip!"
   ]
  },
  {
   "cell_type": "code",
   "execution_count": 22,
   "id": "sharp-habitat",
   "metadata": {},
   "outputs": [],
   "source": [
    "# to load solver -- can copy to current directory\n",
    "\n",
    "# or update path:\n",
    "from sys import path\n",
    "path.append('/Users/jillnaiman/Downloads/')\n",
    "#path.append('C:\\\\Users\\\\jillnaiman\\\\Downloads\\\\') # maybe windows?!"
   ]
  },
  {
   "cell_type": "code",
   "execution_count": 23,
   "id": "light-chest",
   "metadata": {},
   "outputs": [
    {
     "data": {
      "text/plain": [
       "['/Users/jillnaiman/is445_spring2021/week14',\n",
       " '/opt/anaconda3/envs/DataViz/lib/python37.zip',\n",
       " '/opt/anaconda3/envs/DataViz/lib/python3.7',\n",
       " '/opt/anaconda3/envs/DataViz/lib/python3.7/lib-dynload',\n",
       " '',\n",
       " '/Users/jillnaiman/.local/lib/python3.7/site-packages',\n",
       " '/opt/anaconda3/envs/DataViz/lib/python3.7/site-packages',\n",
       " '/opt/anaconda3/envs/DataViz/lib/python3.7/site-packages/IPython/extensions',\n",
       " '/Users/jillnaiman/.ipython',\n",
       " '/Users/jillnaiman/Downloads/',\n",
       " '/Users/jillnaiman/Downloads/']"
      ]
     },
     "execution_count": 23,
     "metadata": {},
     "output_type": "execute_result"
    }
   ],
   "source": [
    "path"
   ]
  },
  {
   "cell_type": "code",
   "execution_count": 21,
   "id": "cooperative-eugene",
   "metadata": {},
   "outputs": [],
   "source": [
    "from solverlibs import read_in_galaxy_data"
   ]
  },
  {
   "cell_type": "code",
   "execution_count": 13,
   "id": "understood-brass",
   "metadata": {},
   "outputs": [],
   "source": [
    "read_in_galaxy_data?"
   ]
  },
  {
   "cell_type": "code",
   "execution_count": 14,
   "id": "strange-uncertainty",
   "metadata": {},
   "outputs": [],
   "source": [
    "# Note: a terrible person has not included doc strings!!!"
   ]
  },
  {
   "cell_type": "code",
   "execution_count": 97,
   "id": "environmental-winter",
   "metadata": {},
   "outputs": [],
   "source": [
    "t_h, r_h, v_h, e_h, N, part_type = read_in_galaxy_data(galaxy_file)"
   ]
  },
  {
   "cell_type": "code",
   "execution_count": 17,
   "id": "fiscal-publication",
   "metadata": {},
   "outputs": [
    {
     "data": {
      "text/plain": [
       "(82, 3, 500)"
      ]
     },
     "execution_count": 17,
     "metadata": {},
     "output_type": "execute_result"
    }
   ],
   "source": [
    "r_h.shape # 82 particles, 3 positions -- x/y/z, 500 time steps"
   ]
  },
  {
   "cell_type": "code",
   "execution_count": 18,
   "id": "subsequent-student",
   "metadata": {},
   "outputs": [
    {
     "data": {
      "text/plain": [
       "82"
      ]
     },
     "execution_count": 18,
     "metadata": {},
     "output_type": "execute_result"
    }
   ],
   "source": [
    "N"
   ]
  },
  {
   "cell_type": "code",
   "execution_count": 98,
   "id": "possible-community",
   "metadata": {},
   "outputs": [],
   "source": [
    "# 3D plot of my initial time step:\n",
    "nT = 0 # first time step\n",
    "\n",
    "x, y, z = r_h[:,0, nT], r_h[:,1,nT], r_h[:,2,nT]"
   ]
  },
  {
   "cell_type": "code",
   "execution_count": 99,
   "id": "industrial-asbestos",
   "metadata": {},
   "outputs": [
    {
     "data": {
      "application/vnd.jupyter.widget-view+json": {
       "model_id": "948bdc74a7bd4cdcbac87765e84f2688",
       "version_major": 2,
       "version_minor": 0
      },
      "text/plain": [
       "VBox(children=(Figure(camera=PerspectiveCamera(fov=45.0, position=(0.0, 0.0, 2.0), projectionMatrix=(1.0, 0.0,…"
      ]
     },
     "metadata": {},
     "output_type": "display_data"
    }
   ],
   "source": [
    "ipyvolume.quickscatter(x,y,z, size=3, marker=\"sphere\") # plots one time step"
   ]
  },
  {
   "cell_type": "code",
   "execution_count": 34,
   "id": "mediterranean-calculator",
   "metadata": {},
   "outputs": [],
   "source": [
    "# all timesteps by \"unwrapping\"\n",
    "\n",
    "x = r_h[:,0,:].ravel() # 1D\n",
    "y = r_h[:,1,:].ravel()\n",
    "z = r_h[:,2,:].ravel()"
   ]
  },
  {
   "cell_type": "code",
   "execution_count": 35,
   "id": "earned-montgomery",
   "metadata": {},
   "outputs": [
    {
     "data": {
      "text/plain": [
       "array([-0.55503449, -0.5316963 , -0.50835813, ..., -1.42056334,\n",
       "       -1.42175787, -1.42295243])"
      ]
     },
     "execution_count": 35,
     "metadata": {},
     "output_type": "execute_result"
    }
   ],
   "source": [
    "x"
   ]
  },
  {
   "cell_type": "code",
   "execution_count": 36,
   "id": "bound-enclosure",
   "metadata": {},
   "outputs": [
    {
     "data": {
      "application/vnd.jupyter.widget-view+json": {
       "model_id": "e7c87eeda5294f53a451b57a36d5b5b8",
       "version_major": 2,
       "version_minor": 0
      },
      "text/plain": [
       "VBox(children=(Figure(camera=PerspectiveCamera(fov=45.0, position=(0.0, 0.0, 2.0), projectionMatrix=(1.0, 0.0,…"
      ]
     },
     "metadata": {},
     "output_type": "display_data"
    }
   ],
   "source": [
    "ipyvolume.quickscatter(x,y,z, size=3, marker='sphere')"
   ]
  },
  {
   "cell_type": "markdown",
   "id": "comprehensive-consciousness",
   "metadata": {},
   "source": [
    "This is not super useful, but we can do better using a quiver plot:"
   ]
  },
  {
   "cell_type": "code",
   "execution_count": 38,
   "id": "japanese-table",
   "metadata": {},
   "outputs": [
    {
     "data": {
      "application/vnd.jupyter.widget-view+json": {
       "model_id": "69072a73fb794d8a95b1952745eda4dc",
       "version_major": 2,
       "version_minor": 0
      },
      "text/plain": [
       "VBox(children=(Figure(camera=PerspectiveCamera(fov=45.0, position=(0.0, 0.0, 2.0), projectionMatrix=(1.0, 0.0,…"
      ]
     },
     "metadata": {},
     "output_type": "display_data"
    }
   ],
   "source": [
    "ipyvolume.figure()\n",
    "# use quiver plot -- x,y,z positions and vx,vy,vz velocity vector components\n",
    "\n",
    "for i in range(r_h.shape[0]): # loop through every particle\n",
    "    ipyvolume.quiver(r_h[i,0,:], # ith particle, x position, all time steps\n",
    "                    r_h[i,1,:], # ith particle, y postion, all time steps\n",
    "                    r_h[i,2,:], # ith particle, z postion, all timesteps\n",
    "                    v_h[i,0,:], # ith particle, vx (velocity in x direction), all time steps\n",
    "                    v_h[i,1,:], # ith particle, vy, all times\n",
    "                    v_h[i,2,:], # ith particle, vz, all times\n",
    "                    size=1)\n",
    "ipyvolume.show()"
   ]
  },
  {
   "cell_type": "code",
   "execution_count": 52,
   "id": "lyric-puppy",
   "metadata": {},
   "outputs": [
    {
     "data": {
      "text/plain": [
       "82"
      ]
     },
     "execution_count": 52,
     "metadata": {},
     "output_type": "execute_result"
    }
   ],
   "source": [
    "N # number of particles"
   ]
  },
  {
   "cell_type": "code",
   "execution_count": 54,
   "id": "pressed-integral",
   "metadata": {},
   "outputs": [
    {
     "data": {
      "text/plain": [
       "500"
      ]
     },
     "execution_count": 54,
     "metadata": {},
     "output_type": "execute_result"
    }
   ],
   "source": [
    "Nt = r_h.shape[2] # number of timesteps!\n",
    "Nt"
   ]
  },
  {
   "cell_type": "code",
   "execution_count": 55,
   "id": "boxed-movie",
   "metadata": {},
   "outputs": [
    {
     "data": {
      "application/vnd.jupyter.widget-view+json": {
       "model_id": "0c502c94f36f44fb85763ff58f9492c2",
       "version_major": 2,
       "version_minor": 0
      },
      "text/plain": [
       "VBox(children=(Figure(camera=PerspectiveCamera(fov=45.0, position=(0.0, 0.0, 2.0), projectionMatrix=(1.0, 0.0,…"
      ]
     },
     "metadata": {},
     "output_type": "display_data"
    }
   ],
   "source": [
    "# sub sample to see arrows\n",
    "step = 10 # only plot each 10th timestep\n",
    "\n",
    "ipyvolume.figure()\n",
    "# use quiver plot -- x,y,z positions and vx,vy,vz velocity vector components\n",
    "\n",
    "for i in range(r_h.shape[0]): # loop through every particle\n",
    "    ipyvolume.quiver(r_h[i,0,0:Nt:step], # ith particle, x position, every 10th time step\n",
    "                    r_h[i,1,0:Nt:step], # ith particle, y postion\n",
    "                    r_h[i,2,0:Nt:step], # ith particle, z postion\n",
    "                    v_h[i,0,0:Nt:step], # ith particle, vx (velocity in x direction)\n",
    "                    v_h[i,1,0:Nt:step], # ith particle, vy\n",
    "                    v_h[i,2,0:Nt:step], # ith particle, vz\n",
    "                    size=1)\n",
    "ipyvolume.show()"
   ]
  },
  {
   "cell_type": "markdown",
   "id": "surprising-kernel",
   "metadata": {},
   "source": [
    "## 3D animations with ipyvolume"
   ]
  },
  {
   "cell_type": "markdown",
   "id": "comfortable-tourist",
   "metadata": {},
   "source": [
    "For data formatting reasons, we will take the **transpose** of our data matricies"
   ]
  },
  {
   "cell_type": "code",
   "execution_count": 44,
   "id": "trained-alliance",
   "metadata": {},
   "outputs": [
    {
     "name": "stdout",
     "output_type": "stream",
     "text": [
      "(82, 500) (500, 82)\n"
     ]
    }
   ],
   "source": [
    "print(r_h[:,0,:].shape, r_h[:,0,:].T.shape)"
   ]
  },
  {
   "cell_type": "markdown",
   "id": "peaceful-puzzle",
   "metadata": {},
   "source": [
    "Down sample our position and velocity vectors for smoother animations:"
   ]
  },
  {
   "cell_type": "code",
   "execution_count": 100,
   "id": "educational-tradition",
   "metadata": {},
   "outputs": [],
   "source": [
    "step = 10 # only save each 10th time step\n",
    "\n",
    "r = r_h[:,:,0:Nt:step]\n",
    "v = v_h[:,:,0:Nt:step]"
   ]
  },
  {
   "cell_type": "code",
   "execution_count": 58,
   "id": "short-charles",
   "metadata": {},
   "outputs": [
    {
     "data": {
      "text/plain": [
       "(82, 3, 50)"
      ]
     },
     "execution_count": 58,
     "metadata": {},
     "output_type": "execute_result"
    }
   ],
   "source": [
    "r.shape"
   ]
  },
  {
   "cell_type": "markdown",
   "id": "grand-employment",
   "metadata": {},
   "source": [
    "Scatter plot + animation:"
   ]
  },
  {
   "cell_type": "code",
   "execution_count": 101,
   "id": "incredible-basics",
   "metadata": {},
   "outputs": [
    {
     "data": {
      "application/vnd.jupyter.widget-view+json": {
       "model_id": "d1158f381d3f4c74bc0008b014e580c2",
       "version_major": 2,
       "version_minor": 0
      },
      "text/plain": [
       "VBox(children=(Figure(animation=200.0, camera=PerspectiveCamera(fov=45.0, position=(0.0, 0.0, 2.0), projection…"
      ]
     },
     "metadata": {},
     "output_type": "display_data"
    }
   ],
   "source": [
    "ipyvolume.figure()\n",
    "\n",
    "s = ipyvolume.scatter(r[:,0,:].T, r[:,1,:].T, r[:,2,:].T, marker='sphere')\n",
    "#s = ipyvolume.scatter(r[:,0,:], r[:,1,:], r[:,2,:], marker='sphere') # shows 1 trajectory\n",
    "#s = ipyvolume.scatter(r[:,0,:].ravel(), r[:,1,:].ravel(), r[:,2,:].ravel(), marker='sphere') # all particles, all time\n",
    "\n",
    "# add in animation\n",
    "ani = ipyvolume.animation_control(s, interval=200) # 200 millisec between \"snapshots\"\n",
    "\n",
    "ipyvolume.show()"
   ]
  },
  {
   "cell_type": "markdown",
   "id": "executive-dependence",
   "metadata": {},
   "source": [
    "**Astronomy note:** this is a VERY low resolution simulation!  That is why the galaxies don't merge but fly apart!"
   ]
  },
  {
   "cell_type": "markdown",
   "id": "wound-needle",
   "metadata": {},
   "source": [
    "## Combine ipywidgets + ipyvolume for more controls"
   ]
  },
  {
   "cell_type": "code",
   "execution_count": 66,
   "id": "cathedral-waste",
   "metadata": {},
   "outputs": [],
   "source": [
    "import ipywidgets"
   ]
  },
  {
   "cell_type": "code",
   "execution_count": 67,
   "id": "extended-geometry",
   "metadata": {},
   "outputs": [],
   "source": [
    "# plot all trajectories, static scatter plot, downsampled data"
   ]
  },
  {
   "cell_type": "code",
   "execution_count": 74,
   "id": "missing-inspiration",
   "metadata": {},
   "outputs": [
    {
     "data": {
      "application/vnd.jupyter.widget-view+json": {
       "model_id": "e74438875d3c4101baf9b1ee90d87ac6",
       "version_major": 2,
       "version_minor": 0
      },
      "text/plain": [
       "VBox(children=(Figure(camera=PerspectiveCamera(fov=45.0, position=(0.0, 0.0, 2.0), projectionMatrix=(1.0, 0.0,…"
      ]
     },
     "metadata": {},
     "output_type": "display_data"
    }
   ],
   "source": [
    "ipyvolume.figure()\n",
    "\n",
    "s = ipyvolume.scatter(r[:,0,:].ravel(), r[:,1,:].ravel(), r[:,2,:].ravel(), \n",
    "                     marker='sphere', size=5)\n",
    "\n",
    "ipyvolume.show()"
   ]
  },
  {
   "cell_type": "markdown",
   "id": "pharmaceutical-singing",
   "metadata": {},
   "source": [
    "Make a float slider widget that I can use to change the sizes of my spheres:"
   ]
  },
  {
   "cell_type": "code",
   "execution_count": 69,
   "id": "seventh-entity",
   "metadata": {},
   "outputs": [],
   "source": [
    "size = ipywidgets.FloatSlider(min=0,max=30,step=0.1)"
   ]
  },
  {
   "cell_type": "code",
   "execution_count": 70,
   "id": "modern-palestinian",
   "metadata": {},
   "outputs": [
    {
     "data": {
      "application/vnd.jupyter.widget-view+json": {
       "model_id": "5f16cb7c272044d3886f874a208edf84",
       "version_major": 2,
       "version_minor": 0
      },
      "text/plain": [
       "FloatSlider(value=0.0, max=30.0)"
      ]
     },
     "metadata": {},
     "output_type": "display_data"
    }
   ],
   "source": [
    "size"
   ]
  },
  {
   "cell_type": "code",
   "execution_count": 72,
   "id": "powerful-captain",
   "metadata": {},
   "outputs": [
    {
     "data": {
      "text/plain": [
       "9.8"
      ]
     },
     "execution_count": 72,
     "metadata": {},
     "output_type": "execute_result"
    }
   ],
   "source": [
    "size.value # value attribute associated with this widget slider"
   ]
  },
  {
   "cell_type": "code",
   "execution_count": 75,
   "id": "alleged-newark",
   "metadata": {},
   "outputs": [
    {
     "data": {
      "text/plain": [
       "array(5)"
      ]
     },
     "execution_count": 75,
     "metadata": {},
     "output_type": "execute_result"
    }
   ],
   "source": [
    "s.size"
   ]
  },
  {
   "cell_type": "markdown",
   "id": "prescribed-impact",
   "metadata": {},
   "source": [
    "Recall: `jslink` a function to link attributes of widgets on the JS/\"front-end\" side:"
   ]
  },
  {
   "cell_type": "code",
   "execution_count": 76,
   "id": "opposite-lecture",
   "metadata": {},
   "outputs": [
    {
     "data": {
      "text/plain": [
       "Link(source=(Scatter(color_selected=array('white', dtype='<U5'), geo='sphere', line_material=ShaderMaterial(),…"
      ]
     },
     "metadata": {},
     "output_type": "display_data"
    }
   ],
   "source": [
    "ipywidgets.jslink((s,'size'),(size,'value'))"
   ]
  },
  {
   "cell_type": "markdown",
   "id": "several-thomson",
   "metadata": {},
   "source": [
    "Recall we can also use layout widgets:"
   ]
  },
  {
   "cell_type": "code",
   "execution_count": 77,
   "id": "labeled-glossary",
   "metadata": {},
   "outputs": [
    {
     "data": {
      "application/vnd.jupyter.widget-view+json": {
       "model_id": "51f033fd281e4ec8b28d693b1f3103cf",
       "version_major": 2,
       "version_minor": 0
      },
      "text/plain": [
       "VBox(children=(VBox(children=(Figure(camera=PerspectiveCamera(aspect=0.8, fov=45.0, matrixWorldNeedsUpdate=Tru…"
      ]
     },
     "metadata": {},
     "output_type": "display_data"
    }
   ],
   "source": [
    "ipywidgets.VBox([ipyvolume.gcc(),size]) # ipyvolume.gcc() grabs current plot"
   ]
  },
  {
   "cell_type": "markdown",
   "id": "posted-boating",
   "metadata": {},
   "source": [
    "Also link a color widget:"
   ]
  },
  {
   "cell_type": "code",
   "execution_count": 78,
   "id": "lyric-december",
   "metadata": {},
   "outputs": [],
   "source": [
    "color = ipywidgets.ColorPicker()"
   ]
  },
  {
   "cell_type": "code",
   "execution_count": 79,
   "id": "floppy-lemon",
   "metadata": {},
   "outputs": [
    {
     "data": {
      "application/vnd.jupyter.widget-view+json": {
       "model_id": "4827d716a6af461ebc4281cd81508e4a",
       "version_major": 2,
       "version_minor": 0
      },
      "text/plain": [
       "ColorPicker(value='black')"
      ]
     },
     "metadata": {},
     "output_type": "display_data"
    }
   ],
   "source": [
    "color"
   ]
  },
  {
   "cell_type": "code",
   "execution_count": 81,
   "id": "activated-theta",
   "metadata": {},
   "outputs": [
    {
     "data": {
      "text/plain": [
       "'#2f5b44'"
      ]
     },
     "execution_count": 81,
     "metadata": {},
     "output_type": "execute_result"
    }
   ],
   "source": [
    "color.value"
   ]
  },
  {
   "cell_type": "code",
   "execution_count": 80,
   "id": "disciplinary-missile",
   "metadata": {},
   "outputs": [
    {
     "data": {
      "text/plain": [
       "array('red', dtype='<U3')"
      ]
     },
     "execution_count": 80,
     "metadata": {},
     "output_type": "execute_result"
    }
   ],
   "source": [
    "s.color"
   ]
  },
  {
   "cell_type": "code",
   "execution_count": 82,
   "id": "marked-shock",
   "metadata": {},
   "outputs": [
    {
     "data": {
      "text/plain": [
       "Link(source=(Scatter(color_selected=array('white', dtype='<U5'), geo='sphere', line_material=ShaderMaterial(),…"
      ]
     },
     "metadata": {},
     "output_type": "display_data"
    }
   ],
   "source": [
    "# link color attribute of ipyvolume plot with widget\n",
    "ipywidgets.jslink((s,'color'),(color,'value'))"
   ]
  },
  {
   "cell_type": "code",
   "execution_count": 83,
   "id": "atmospheric-question",
   "metadata": {},
   "outputs": [
    {
     "data": {
      "application/vnd.jupyter.widget-view+json": {
       "model_id": "6d4bd4fc36ce444d9a953706e46c8fb9",
       "version_major": 2,
       "version_minor": 0
      },
      "text/plain": [
       "VBox(children=(VBox(children=(Figure(camera=PerspectiveCamera(aspect=0.8, fov=45.0, matrixWorldNeedsUpdate=Tru…"
      ]
     },
     "metadata": {},
     "output_type": "display_data"
    }
   ],
   "source": [
    "# layout again:\n",
    "ipywidgets.VBox([ipyvolume.gcc(), size, color])"
   ]
  },
  {
   "cell_type": "markdown",
   "id": "valuable-partnership",
   "metadata": {},
   "source": [
    "## Export ipyvolume to a HTML page"
   ]
  },
  {
   "cell_type": "code",
   "execution_count": 84,
   "id": "nonprofit-radiation",
   "metadata": {},
   "outputs": [],
   "source": [
    "myVBox = ipywidgets.VBox([ipyvolume.gcc(), size, color])"
   ]
  },
  {
   "cell_type": "code",
   "execution_count": 85,
   "id": "proof-policy",
   "metadata": {},
   "outputs": [],
   "source": [
    "# some formatting things so that our box isn't super small\n",
    "ipyvolume.embed.layout = myVBox.children[1].layout\n",
    "ipyvolume.embed.layout.min_width = \"400px\""
   ]
  },
  {
   "cell_type": "markdown",
   "id": "human-bowling",
   "metadata": {},
   "source": [
    "Make this into a webpage!"
   ]
  },
  {
   "cell_type": "code",
   "execution_count": 86,
   "id": "proved-samba",
   "metadata": {},
   "outputs": [],
   "source": [
    "ipyvolume.embed.embed_html(\"testPage.html\",myVBox,offline=False,devmode=False)"
   ]
  },
  {
   "cell_type": "markdown",
   "id": "herbal-seafood",
   "metadata": {},
   "source": [
    "If on mac/linux:"
   ]
  },
  {
   "cell_type": "code",
   "execution_count": 87,
   "id": "recreational-steam",
   "metadata": {},
   "outputs": [],
   "source": [
    "!open myPage.html"
   ]
  },
  {
   "cell_type": "markdown",
   "id": "secure-chick",
   "metadata": {},
   "source": [
    "## Export widgets + ipyvolume + animation"
   ]
  },
  {
   "cell_type": "code",
   "execution_count": 94,
   "id": "twelve-career",
   "metadata": {},
   "outputs": [],
   "source": [
    "ipyvolume.figure()\n",
    "\n",
    "# widgets\n",
    "size = ipywidgets.FloatSlider(min=0,max=30, step=0.1, description='Size')\n",
    "color = ipywidgets.ColorPicker()\n",
    "\n",
    "# scatter plot\n",
    "s = ipyvolume.scatter(r[:,0,:].T, r[:,1,:].T, r[:,2,:].T, marker='sphere')\n",
    "\n",
    "# widget links to scatter plot\n",
    "ipywidgets.jslink((s,'size'),(size,'value'))\n",
    "ipywidgets.jslink((s,'color'),(color,'value'))\n",
    "\n",
    "# add in animation\n",
    "ani = ipyvolume.animation_control(s, interval=200)\n",
    "\n",
    "#ipyvolume.show()\n",
    "myVbox = ipywidgets.VBox([ipyvolume.gcc(),size,color])\n",
    "\n",
    "# layout things like before:\n",
    "ipyvolume.embed.layout = myVbox.children[1].layout \n",
    "ipyvolume.embed.layout.min_width = '400px'\n",
    "ipyvolume.embed.embed_html(\"testPage2.html\", myVbox, offline=False, devmode=False)"
   ]
  },
  {
   "cell_type": "code",
   "execution_count": 95,
   "id": "entitled-kidney",
   "metadata": {},
   "outputs": [],
   "source": [
    "!open testPage2.html"
   ]
  },
  {
   "cell_type": "markdown",
   "id": "primary-funds",
   "metadata": {},
   "source": [
    "# yt (finally!)"
   ]
  },
  {
   "cell_type": "code",
   "execution_count": 102,
   "id": "warming-schedule",
   "metadata": {},
   "outputs": [],
   "source": [
    "import yt"
   ]
  },
  {
   "cell_type": "code",
   "execution_count": 103,
   "id": "legendary-cooperation",
   "metadata": {},
   "outputs": [
    {
     "name": "stderr",
     "output_type": "stream",
     "text": [
      "yt : [INFO     ] 2021-04-26 11:13:14,039 Parameters: current_time              = 0.0060000200028298\n",
      "yt : [INFO     ] 2021-04-26 11:13:14,040 Parameters: domain_dimensions         = [32 32 32]\n",
      "yt : [INFO     ] 2021-04-26 11:13:14,041 Parameters: domain_left_edge          = [0. 0. 0.]\n",
      "yt : [INFO     ] 2021-04-26 11:13:14,041 Parameters: domain_right_edge         = [1. 1. 1.]\n",
      "yt : [INFO     ] 2021-04-26 11:13:14,042 Parameters: cosmological_simulation   = 0.0\n"
     ]
    }
   ],
   "source": [
    "ds = yt.load(\"/Users/jillnaiman/Downloads/IsolatedGalaxy/galaxy0030/galaxy0030\")"
   ]
  },
  {
   "cell_type": "code",
   "execution_count": 104,
   "id": "infrared-artwork",
   "metadata": {},
   "outputs": [
    {
     "name": "stderr",
     "output_type": "stream",
     "text": [
      "Parsing Hierarchy : 100%|██████████| 173/173 [00:00<00:00, 10187.21it/s]\n",
      "yt : [INFO     ] 2021-04-26 11:14:46,977 Gathering a field list (this may take a moment.)\n"
     ]
    },
    {
     "name": "stdout",
     "output_type": "stream",
     "text": [
      "level\t# grids\t       # cells\t     # cells^3\n",
      "----------------------------------------------\n",
      "  0\t     1\t         32768\t            32\n",
      "  1\t     8\t         34304\t            33\n",
      "  2\t     8\t        181888\t            57\n",
      "  3\t     8\t        646968\t            87\n",
      "  4\t    15\t        947856\t            99\n",
      "  5\t    51\t        874128\t            96\n",
      "  6\t    18\t        786328\t            93\n",
      "  7\t    28\t        446776\t            77\n",
      "  8\t    36\t        209400\t            60\n",
      "----------------------------------------------\n",
      "   \t   173\t       4160416\n",
      "\n",
      "\n",
      "t = 6.00002000e-03 = 1.39768066e+16 s = 4.42898275e+08 years\n",
      "\n",
      "Smallest Cell:\n",
      "\tWidth: 1.221e-04 Mpc\n",
      "\tWidth: 1.221e+02 pc\n",
      "\tWidth: 2.518e+07 AU\n",
      "\tWidth: 3.767e+20 cm\n"
     ]
    }
   ],
   "source": [
    "ds.print_stats()"
   ]
  },
  {
   "cell_type": "code",
   "execution_count": 105,
   "id": "liquid-essence",
   "metadata": {},
   "outputs": [
    {
     "data": {
      "text/plain": [
       "[('all', 'creation_time'),\n",
       " ('all', 'dynamical_time'),\n",
       " ('all', 'metallicity_fraction'),\n",
       " ('all', 'particle_index'),\n",
       " ('all', 'particle_mass'),\n",
       " ('all', 'particle_position_x'),\n",
       " ('all', 'particle_position_y'),\n",
       " ('all', 'particle_position_z'),\n",
       " ('all', 'particle_type'),\n",
       " ('all', 'particle_velocity_x'),\n",
       " ('all', 'particle_velocity_y'),\n",
       " ('all', 'particle_velocity_z'),\n",
       " ('enzo', 'Average_creation_time'),\n",
       " ('enzo', 'Bx'),\n",
       " ('enzo', 'By'),\n",
       " ('enzo', 'Bz'),\n",
       " ('enzo', 'Cooling_Time'),\n",
       " ('enzo', 'Dark_Matter_Density'),\n",
       " ('enzo', 'Density'),\n",
       " ('enzo', 'Electron_Density'),\n",
       " ('enzo', 'Forming_Stellar_Mass_Density'),\n",
       " ('enzo', 'Galaxy1Colour'),\n",
       " ('enzo', 'Galaxy2Colour'),\n",
       " ('enzo', 'HII_Density'),\n",
       " ('enzo', 'HI_Density'),\n",
       " ('enzo', 'HeIII_Density'),\n",
       " ('enzo', 'HeII_Density'),\n",
       " ('enzo', 'HeI_Density'),\n",
       " ('enzo', 'MBHColour'),\n",
       " ('enzo', 'Metal_Density'),\n",
       " ('enzo', 'PhiField'),\n",
       " ('enzo', 'Phi_pField'),\n",
       " ('enzo', 'SFR_Density'),\n",
       " ('enzo', 'Star_Particle_Density'),\n",
       " ('enzo', 'Temperature'),\n",
       " ('enzo', 'TotalEnergy'),\n",
       " ('enzo', 'gammaHI'),\n",
       " ('enzo', 'kphHI'),\n",
       " ('enzo', 'kphHeI'),\n",
       " ('enzo', 'kphHeII'),\n",
       " ('enzo', 'x-velocity'),\n",
       " ('enzo', 'y-velocity'),\n",
       " ('enzo', 'z-velocity'),\n",
       " ('io', 'creation_time'),\n",
       " ('io', 'dynamical_time'),\n",
       " ('io', 'metallicity_fraction'),\n",
       " ('io', 'particle_index'),\n",
       " ('io', 'particle_mass'),\n",
       " ('io', 'particle_position_x'),\n",
       " ('io', 'particle_position_y'),\n",
       " ('io', 'particle_position_z'),\n",
       " ('io', 'particle_type'),\n",
       " ('io', 'particle_velocity_x'),\n",
       " ('io', 'particle_velocity_y'),\n",
       " ('io', 'particle_velocity_z')]"
      ]
     },
     "execution_count": 105,
     "metadata": {},
     "output_type": "execute_result"
    }
   ],
   "source": [
    "ds.field_list"
   ]
  },
  {
   "cell_type": "code",
   "execution_count": 106,
   "id": "statistical-valuation",
   "metadata": {},
   "outputs": [
    {
     "data": {
      "text/plain": [
       "[('all', 'age'),\n",
       " ('all', 'creation_time'),\n",
       " ('all', 'dynamical_time'),\n",
       " ('all', 'mesh_id'),\n",
       " ('all', 'metallicity_fraction'),\n",
       " ('all', 'particle_angular_momentum'),\n",
       " ('all', 'particle_angular_momentum_magnitude'),\n",
       " ('all', 'particle_angular_momentum_x'),\n",
       " ('all', 'particle_angular_momentum_y'),\n",
       " ('all', 'particle_angular_momentum_z'),\n",
       " ('all', 'particle_cylindrical_velocity_theta'),\n",
       " ('all', 'particle_cylindrical_velocity_z'),\n",
       " ('all', 'particle_index'),\n",
       " ('all', 'particle_mass'),\n",
       " ('all', 'particle_ones'),\n",
       " ('all', 'particle_position'),\n",
       " ('all', 'particle_position_cylindrical_radius'),\n",
       " ('all', 'particle_position_cylindrical_theta'),\n",
       " ('all', 'particle_position_cylindrical_z'),\n",
       " ('all', 'particle_position_relative'),\n",
       " ('all', 'particle_position_relative_x'),\n",
       " ('all', 'particle_position_relative_y'),\n",
       " ('all', 'particle_position_relative_z'),\n",
       " ('all', 'particle_position_spherical_phi'),\n",
       " ('all', 'particle_position_spherical_radius'),\n",
       " ('all', 'particle_position_spherical_theta'),\n",
       " ('all', 'particle_position_x'),\n",
       " ('all', 'particle_position_y'),\n",
       " ('all', 'particle_position_z'),\n",
       " ('all', 'particle_radial_velocity'),\n",
       " ('all', 'particle_radius'),\n",
       " ('all', 'particle_specific_angular_momentum'),\n",
       " ('all', 'particle_specific_angular_momentum_x'),\n",
       " ('all', 'particle_specific_angular_momentum_y'),\n",
       " ('all', 'particle_specific_angular_momentum_z'),\n",
       " ('all', 'particle_spherical_position_phi'),\n",
       " ('all', 'particle_spherical_position_radius'),\n",
       " ('all', 'particle_spherical_position_theta'),\n",
       " ('all', 'particle_spherical_velocity_phi'),\n",
       " ('all', 'particle_spherical_velocity_radius'),\n",
       " ('all', 'particle_spherical_velocity_theta'),\n",
       " ('all', 'particle_type'),\n",
       " ('all', 'particle_velocity'),\n",
       " ('all', 'particle_velocity_cylindrical_radius'),\n",
       " ('all', 'particle_velocity_cylindrical_theta'),\n",
       " ('all', 'particle_velocity_cylindrical_z'),\n",
       " ('all', 'particle_velocity_magnitude'),\n",
       " ('all', 'particle_velocity_relative'),\n",
       " ('all', 'particle_velocity_relative_x'),\n",
       " ('all', 'particle_velocity_relative_y'),\n",
       " ('all', 'particle_velocity_relative_z'),\n",
       " ('all', 'particle_velocity_spherical_phi'),\n",
       " ('all', 'particle_velocity_spherical_radius'),\n",
       " ('all', 'particle_velocity_spherical_theta'),\n",
       " ('all', 'particle_velocity_x'),\n",
       " ('all', 'particle_velocity_y'),\n",
       " ('all', 'particle_velocity_z'),\n",
       " ('all', 'relative_particle_position'),\n",
       " ('all', 'relative_particle_position_x'),\n",
       " ('all', 'relative_particle_position_y'),\n",
       " ('all', 'relative_particle_position_z'),\n",
       " ('all', 'relative_particle_velocity'),\n",
       " ('all', 'relative_particle_velocity_x'),\n",
       " ('all', 'relative_particle_velocity_y'),\n",
       " ('all', 'relative_particle_velocity_z'),\n",
       " ('deposit', 'all_cic'),\n",
       " ('deposit', 'all_cic_age'),\n",
       " ('deposit', 'all_cic_velocity_x'),\n",
       " ('deposit', 'all_cic_velocity_y'),\n",
       " ('deposit', 'all_cic_velocity_z'),\n",
       " ('deposit', 'all_count'),\n",
       " ('deposit', 'all_density'),\n",
       " ('deposit', 'all_mass'),\n",
       " ('deposit', 'all_nn_age'),\n",
       " ('deposit', 'all_nn_velocity_x'),\n",
       " ('deposit', 'all_nn_velocity_y'),\n",
       " ('deposit', 'all_nn_velocity_z'),\n",
       " ('deposit', 'io_cic'),\n",
       " ('deposit', 'io_cic_age'),\n",
       " ('deposit', 'io_cic_velocity_x'),\n",
       " ('deposit', 'io_cic_velocity_y'),\n",
       " ('deposit', 'io_cic_velocity_z'),\n",
       " ('deposit', 'io_count'),\n",
       " ('deposit', 'io_density'),\n",
       " ('deposit', 'io_mass'),\n",
       " ('deposit', 'io_nn_age'),\n",
       " ('deposit', 'io_nn_velocity_x'),\n",
       " ('deposit', 'io_nn_velocity_y'),\n",
       " ('deposit', 'io_nn_velocity_z'),\n",
       " ('enzo', 'Average_creation_time'),\n",
       " ('enzo', 'Bx'),\n",
       " ('enzo', 'By'),\n",
       " ('enzo', 'Bz'),\n",
       " ('enzo', 'Cooling_Time'),\n",
       " ('enzo', 'Dark_Matter_Density'),\n",
       " ('enzo', 'Density'),\n",
       " ('enzo', 'Electron_Density'),\n",
       " ('enzo', 'Forming_Stellar_Mass_Density'),\n",
       " ('enzo', 'Galaxy1Colour'),\n",
       " ('enzo', 'Galaxy2Colour'),\n",
       " ('enzo', 'HII_Density'),\n",
       " ('enzo', 'HI_Density'),\n",
       " ('enzo', 'HeIII_Density'),\n",
       " ('enzo', 'HeII_Density'),\n",
       " ('enzo', 'HeI_Density'),\n",
       " ('enzo', 'MBHColour'),\n",
       " ('enzo', 'Metal_Density'),\n",
       " ('enzo', 'PhiField'),\n",
       " ('enzo', 'Phi_pField'),\n",
       " ('enzo', 'SFR_Density'),\n",
       " ('enzo', 'Star_Particle_Density'),\n",
       " ('enzo', 'Temperature'),\n",
       " ('enzo', 'TotalEnergy'),\n",
       " ('enzo', 'cell_volume'),\n",
       " ('enzo', 'dx'),\n",
       " ('enzo', 'dy'),\n",
       " ('enzo', 'dz'),\n",
       " ('enzo', 'gammaHI'),\n",
       " ('enzo', 'kphHI'),\n",
       " ('enzo', 'kphHeI'),\n",
       " ('enzo', 'kphHeII'),\n",
       " ('enzo', 'path_element_x'),\n",
       " ('enzo', 'path_element_y'),\n",
       " ('enzo', 'path_element_z'),\n",
       " ('enzo', 'vertex_x'),\n",
       " ('enzo', 'vertex_y'),\n",
       " ('enzo', 'vertex_z'),\n",
       " ('enzo', 'x'),\n",
       " ('enzo', 'x-velocity'),\n",
       " ('enzo', 'y'),\n",
       " ('enzo', 'y-velocity'),\n",
       " ('enzo', 'z'),\n",
       " ('enzo', 'z-velocity'),\n",
       " ('gas', 'El_density'),\n",
       " ('gas', 'El_fraction'),\n",
       " ('gas', 'El_mass'),\n",
       " ('gas', 'El_number_density'),\n",
       " ('gas', 'H_density'),\n",
       " ('gas', 'H_fraction'),\n",
       " ('gas', 'H_mass'),\n",
       " ('gas', 'H_nuclei_density'),\n",
       " ('gas', 'H_number_density'),\n",
       " ('gas', 'H_p0_density'),\n",
       " ('gas', 'H_p0_fraction'),\n",
       " ('gas', 'H_p0_mass'),\n",
       " ('gas', 'H_p0_number_density'),\n",
       " ('gas', 'H_p1_density'),\n",
       " ('gas', 'H_p1_fraction'),\n",
       " ('gas', 'H_p1_mass'),\n",
       " ('gas', 'H_p1_number_density'),\n",
       " ('gas', 'He_density'),\n",
       " ('gas', 'He_fraction'),\n",
       " ('gas', 'He_mass'),\n",
       " ('gas', 'He_nuclei_density'),\n",
       " ('gas', 'He_number_density'),\n",
       " ('gas', 'He_p0_density'),\n",
       " ('gas', 'He_p0_fraction'),\n",
       " ('gas', 'He_p0_mass'),\n",
       " ('gas', 'He_p0_number_density'),\n",
       " ('gas', 'He_p1_density'),\n",
       " ('gas', 'He_p1_fraction'),\n",
       " ('gas', 'He_p1_mass'),\n",
       " ('gas', 'He_p1_number_density'),\n",
       " ('gas', 'He_p2_density'),\n",
       " ('gas', 'He_p2_fraction'),\n",
       " ('gas', 'He_p2_mass'),\n",
       " ('gas', 'He_p2_number_density'),\n",
       " ('gas', 'alfven_speed'),\n",
       " ('gas', 'angular_momentum_magnitude'),\n",
       " ('gas', 'angular_momentum_x'),\n",
       " ('gas', 'angular_momentum_y'),\n",
       " ('gas', 'angular_momentum_z'),\n",
       " ('gas', 'averaged_density'),\n",
       " ('gas', 'baroclinic_vorticity_magnitude'),\n",
       " ('gas', 'baroclinic_vorticity_x'),\n",
       " ('gas', 'baroclinic_vorticity_y'),\n",
       " ('gas', 'baroclinic_vorticity_z'),\n",
       " ('gas', 'cell_mass'),\n",
       " ('gas', 'cell_volume'),\n",
       " ('gas', 'chandra_emissivity'),\n",
       " ('gas', 'cooling_time'),\n",
       " ('gas', 'courant_time_step'),\n",
       " ('gas', 'cutting_plane_magnetic_field_x'),\n",
       " ('gas', 'cutting_plane_magnetic_field_y'),\n",
       " ('gas', 'cutting_plane_magnetic_field_z'),\n",
       " ('gas', 'cutting_plane_velocity_x'),\n",
       " ('gas', 'cutting_plane_velocity_y'),\n",
       " ('gas', 'cutting_plane_velocity_z'),\n",
       " ('gas', 'cylindrical_radial_magnetic_field'),\n",
       " ('gas', 'cylindrical_radial_magnetic_field_absolute'),\n",
       " ('gas', 'cylindrical_radial_velocity'),\n",
       " ('gas', 'cylindrical_radial_velocity_absolute'),\n",
       " ('gas', 'cylindrical_tangential_magnetic_field'),\n",
       " ('gas', 'cylindrical_tangential_magnetic_field_absolute'),\n",
       " ('gas', 'cylindrical_tangential_velocity'),\n",
       " ('gas', 'cylindrical_tangential_velocity_absolute'),\n",
       " ('gas', 'dark_matter_density'),\n",
       " ('gas', 'density'),\n",
       " ('gas', 'density_gradient_magnitude'),\n",
       " ('gas', 'density_gradient_x'),\n",
       " ('gas', 'density_gradient_y'),\n",
       " ('gas', 'density_gradient_z'),\n",
       " ('gas', 'dx'),\n",
       " ('gas', 'dy'),\n",
       " ('gas', 'dynamical_time'),\n",
       " ('gas', 'dz'),\n",
       " ('gas', 'emission_measure'),\n",
       " ('gas', 'entropy'),\n",
       " ('gas', 'jeans_mass'),\n",
       " ('gas', 'kT'),\n",
       " ('gas', 'kinetic_energy'),\n",
       " ('gas', 'mach_alfven'),\n",
       " ('gas', 'mach_number'),\n",
       " ('gas', 'magnetic_energy'),\n",
       " ('gas', 'magnetic_field_cylindrical_radius'),\n",
       " ('gas', 'magnetic_field_cylindrical_theta'),\n",
       " ('gas', 'magnetic_field_cylindrical_z'),\n",
       " ('gas', 'magnetic_field_divergence'),\n",
       " ('gas', 'magnetic_field_divergence_absolute'),\n",
       " ('gas', 'magnetic_field_magnitude'),\n",
       " ('gas', 'magnetic_field_poloidal'),\n",
       " ('gas', 'magnetic_field_spherical_phi'),\n",
       " ('gas', 'magnetic_field_spherical_radius'),\n",
       " ('gas', 'magnetic_field_spherical_theta'),\n",
       " ('gas', 'magnetic_field_strength'),\n",
       " ('gas', 'magnetic_field_toroidal'),\n",
       " ('gas', 'magnetic_field_x'),\n",
       " ('gas', 'magnetic_field_y'),\n",
       " ('gas', 'magnetic_field_z'),\n",
       " ('gas', 'magnetic_pressure'),\n",
       " ('gas', 'matter_density'),\n",
       " ('gas', 'matter_mass'),\n",
       " ('gas', 'mazzotta_weighting'),\n",
       " ('gas', 'mean_molecular_weight'),\n",
       " ('gas', 'metal_density'),\n",
       " ('gas', 'metal_mass'),\n",
       " ('gas', 'metallicity'),\n",
       " ('gas', 'number_density'),\n",
       " ('gas', 'path_element_x'),\n",
       " ('gas', 'path_element_y'),\n",
       " ('gas', 'path_element_z'),\n",
       " ('gas', 'plasma_beta'),\n",
       " ('gas', 'pressure'),\n",
       " ('gas', 'pressure_gradient_magnitude'),\n",
       " ('gas', 'pressure_gradient_x'),\n",
       " ('gas', 'pressure_gradient_y'),\n",
       " ('gas', 'pressure_gradient_z'),\n",
       " ('gas', 'radial_mach_number'),\n",
       " ('gas', 'radial_magnetic_field'),\n",
       " ('gas', 'radial_magnetic_field_absolute'),\n",
       " ('gas', 'radial_velocity'),\n",
       " ('gas', 'radial_velocity_absolute'),\n",
       " ('gas', 'relative_magnetic_field_x'),\n",
       " ('gas', 'relative_magnetic_field_y'),\n",
       " ('gas', 'relative_magnetic_field_z'),\n",
       " ('gas', 'relative_velocity_x'),\n",
       " ('gas', 'relative_velocity_y'),\n",
       " ('gas', 'relative_velocity_z'),\n",
       " ('gas', 'shear'),\n",
       " ('gas', 'shear_criterion'),\n",
       " ('gas', 'shear_mach'),\n",
       " ('gas', 'sound_speed'),\n",
       " ('gas', 'specific_angular_momentum_magnitude'),\n",
       " ('gas', 'specific_angular_momentum_x'),\n",
       " ('gas', 'specific_angular_momentum_y'),\n",
       " ('gas', 'specific_angular_momentum_z'),\n",
       " ('gas', 'sz_kinetic'),\n",
       " ('gas', 'szy'),\n",
       " ('gas', 'tangential_magnetic_field'),\n",
       " ('gas', 'tangential_over_magnetic_field_magnitude'),\n",
       " ('gas', 'tangential_over_velocity_magnitude'),\n",
       " ('gas', 'tangential_velocity'),\n",
       " ('gas', 'temperature'),\n",
       " ('gas', 'thermal_energy'),\n",
       " ('gas', 'total_energy'),\n",
       " ('gas', 'velocity_cylindrical_radius'),\n",
       " ('gas', 'velocity_cylindrical_theta'),\n",
       " ('gas', 'velocity_cylindrical_z'),\n",
       " ('gas', 'velocity_divergence'),\n",
       " ('gas', 'velocity_divergence_absolute'),\n",
       " ('gas', 'velocity_magnitude'),\n",
       " ('gas', 'velocity_spherical_phi'),\n",
       " ('gas', 'velocity_spherical_radius'),\n",
       " ('gas', 'velocity_spherical_theta'),\n",
       " ('gas', 'velocity_x'),\n",
       " ('gas', 'velocity_y'),\n",
       " ('gas', 'velocity_z'),\n",
       " ('gas', 'vertex_x'),\n",
       " ('gas', 'vertex_y'),\n",
       " ('gas', 'vertex_z'),\n",
       " ('gas', 'vorticity_growth_magnitude'),\n",
       " ('gas', 'vorticity_growth_magnitude_absolute'),\n",
       " ('gas', 'vorticity_growth_timescale'),\n",
       " ('gas', 'vorticity_growth_x'),\n",
       " ('gas', 'vorticity_growth_y'),\n",
       " ('gas', 'vorticity_growth_z'),\n",
       " ('gas', 'vorticity_magnitude'),\n",
       " ('gas', 'vorticity_squared'),\n",
       " ('gas', 'vorticity_stretching_magnitude'),\n",
       " ('gas', 'vorticity_stretching_x'),\n",
       " ('gas', 'vorticity_stretching_y'),\n",
       " ('gas', 'vorticity_stretching_z'),\n",
       " ('gas', 'vorticity_x'),\n",
       " ('gas', 'vorticity_y'),\n",
       " ('gas', 'vorticity_z'),\n",
       " ('gas', 'x'),\n",
       " ('gas', 'xray_emissivity'),\n",
       " ('gas', 'y'),\n",
       " ('gas', 'z'),\n",
       " ('index', 'cell_volume'),\n",
       " ('index', 'cylindrical_r'),\n",
       " ('index', 'cylindrical_radius'),\n",
       " ('index', 'cylindrical_theta'),\n",
       " ('index', 'cylindrical_z'),\n",
       " ('index', 'disk_angle'),\n",
       " ('index', 'dx'),\n",
       " ('index', 'dy'),\n",
       " ('index', 'dz'),\n",
       " ('index', 'grid_indices'),\n",
       " ('index', 'grid_level'),\n",
       " ('index', 'height'),\n",
       " ('index', 'morton_index'),\n",
       " ('index', 'ones'),\n",
       " ('index', 'ones_over_dx'),\n",
       " ('index', 'path_element_x'),\n",
       " ('index', 'path_element_y'),\n",
       " ('index', 'path_element_z'),\n",
       " ('index', 'radius'),\n",
       " ('index', 'spherical_phi'),\n",
       " ('index', 'spherical_r'),\n",
       " ('index', 'spherical_radius'),\n",
       " ('index', 'spherical_theta'),\n",
       " ('index', 'vertex_x'),\n",
       " ('index', 'vertex_y'),\n",
       " ('index', 'vertex_z'),\n",
       " ('index', 'virial_radius_fraction'),\n",
       " ('index', 'x'),\n",
       " ('index', 'y'),\n",
       " ('index', 'z'),\n",
       " ('index', 'zeros'),\n",
       " ('io', 'age'),\n",
       " ('io', 'creation_time'),\n",
       " ('io', 'dynamical_time'),\n",
       " ('io', 'mesh_id'),\n",
       " ('io', 'metallicity_fraction'),\n",
       " ('io', 'particle_angular_momentum'),\n",
       " ('io', 'particle_angular_momentum_magnitude'),\n",
       " ('io', 'particle_angular_momentum_x'),\n",
       " ('io', 'particle_angular_momentum_y'),\n",
       " ('io', 'particle_angular_momentum_z'),\n",
       " ('io', 'particle_cylindrical_velocity_theta'),\n",
       " ('io', 'particle_cylindrical_velocity_z'),\n",
       " ('io', 'particle_index'),\n",
       " ('io', 'particle_mass'),\n",
       " ('io', 'particle_ones'),\n",
       " ('io', 'particle_position'),\n",
       " ('io', 'particle_position_cylindrical_radius'),\n",
       " ('io', 'particle_position_cylindrical_theta'),\n",
       " ('io', 'particle_position_cylindrical_z'),\n",
       " ('io', 'particle_position_relative'),\n",
       " ('io', 'particle_position_relative_x'),\n",
       " ('io', 'particle_position_relative_y'),\n",
       " ('io', 'particle_position_relative_z'),\n",
       " ('io', 'particle_position_spherical_phi'),\n",
       " ('io', 'particle_position_spherical_radius'),\n",
       " ('io', 'particle_position_spherical_theta'),\n",
       " ('io', 'particle_position_x'),\n",
       " ('io', 'particle_position_y'),\n",
       " ('io', 'particle_position_z'),\n",
       " ('io', 'particle_radial_velocity'),\n",
       " ('io', 'particle_radius'),\n",
       " ('io', 'particle_specific_angular_momentum'),\n",
       " ('io', 'particle_specific_angular_momentum_x'),\n",
       " ('io', 'particle_specific_angular_momentum_y'),\n",
       " ('io', 'particle_specific_angular_momentum_z'),\n",
       " ('io', 'particle_spherical_position_phi'),\n",
       " ('io', 'particle_spherical_position_radius'),\n",
       " ('io', 'particle_spherical_position_theta'),\n",
       " ('io', 'particle_spherical_velocity_phi'),\n",
       " ('io', 'particle_spherical_velocity_radius'),\n",
       " ('io', 'particle_spherical_velocity_theta'),\n",
       " ('io', 'particle_type'),\n",
       " ('io', 'particle_velocity'),\n",
       " ('io', 'particle_velocity_cylindrical_radius'),\n",
       " ('io', 'particle_velocity_cylindrical_theta'),\n",
       " ('io', 'particle_velocity_cylindrical_z'),\n",
       " ('io', 'particle_velocity_magnitude'),\n",
       " ('io', 'particle_velocity_relative'),\n",
       " ('io', 'particle_velocity_relative_x'),\n",
       " ('io', 'particle_velocity_relative_y'),\n",
       " ('io', 'particle_velocity_relative_z'),\n",
       " ('io', 'particle_velocity_spherical_phi'),\n",
       " ('io', 'particle_velocity_spherical_radius'),\n",
       " ('io', 'particle_velocity_spherical_theta'),\n",
       " ('io', 'particle_velocity_x'),\n",
       " ('io', 'particle_velocity_y'),\n",
       " ('io', 'particle_velocity_z'),\n",
       " ('io', 'relative_particle_position'),\n",
       " ('io', 'relative_particle_position_x'),\n",
       " ('io', 'relative_particle_position_y'),\n",
       " ('io', 'relative_particle_position_z'),\n",
       " ('io', 'relative_particle_velocity'),\n",
       " ('io', 'relative_particle_velocity_x'),\n",
       " ('io', 'relative_particle_velocity_y'),\n",
       " ('io', 'relative_particle_velocity_z')]"
      ]
     },
     "execution_count": 106,
     "metadata": {},
     "output_type": "execute_result"
    }
   ],
   "source": [
    "ds.derived_field_list"
   ]
  },
  {
   "cell_type": "code",
   "execution_count": 107,
   "id": "material-magazine",
   "metadata": {},
   "outputs": [
    {
     "data": {
      "application/vnd.jupyter.widget-view+json": {
       "model_id": "bdbab40311af48bdb7d3a53acda7445e",
       "version_major": 2,
       "version_minor": 0
      },
      "text/plain": [
       "HBox(children=(Text(value='1.0', disabled=True), Text(value='1.0', disabled=True), Text(value='1.0', disabled=…"
      ]
     },
     "metadata": {},
     "output_type": "display_data"
    }
   ],
   "source": [
    "ds.domain_right_edge"
   ]
  },
  {
   "cell_type": "code",
   "execution_count": 108,
   "id": "opponent-theorem",
   "metadata": {},
   "outputs": [
    {
     "data": {
      "application/vnd.jupyter.widget-view+json": {
       "model_id": "39931e8b1291411ba95d741acc364154",
       "version_major": 2,
       "version_minor": 0
      },
      "text/plain": [
       "HBox(children=(Text(value='0.0', disabled=True), Text(value='0.0', disabled=True), Text(value='0.0', disabled=…"
      ]
     },
     "metadata": {},
     "output_type": "display_data"
    }
   ],
   "source": [
    "ds.domain_left_edge"
   ]
  },
  {
   "cell_type": "code",
   "execution_count": 109,
   "id": "czech-casino",
   "metadata": {},
   "outputs": [
    {
     "data": {
      "text/plain": [
       "7.73426503924e-24 g/cm**3"
      ]
     },
     "execution_count": 109,
     "metadata": {},
     "output_type": "execute_result"
    }
   ],
   "source": [
    "ds.r[:].max(\"density\")"
   ]
  },
  {
   "cell_type": "code",
   "execution_count": 110,
   "id": "transsexual-challenge",
   "metadata": {},
   "outputs": [
    {
     "data": {
      "text/plain": [
       "8.472937507539987e-32 g/cm**3"
      ]
     },
     "execution_count": 110,
     "metadata": {},
     "output_type": "execute_result"
    }
   ],
   "source": [
    "ds.r[:].min(\"density\")"
   ]
  },
  {
   "cell_type": "code",
   "execution_count": 111,
   "id": "wired-reality",
   "metadata": {},
   "outputs": [
    {
     "data": {
      "text/plain": [
       "(1.5556197509765625e+24 cm,\n",
       " 1.5424349365234375e+24 cm,\n",
       " 1.5435650634765623e+24 cm)"
      ]
     },
     "execution_count": 111,
     "metadata": {},
     "output_type": "execute_result"
    }
   ],
   "source": [
    "ds.r[:].argmax(\"density\")"
   ]
  },
  {
   "cell_type": "code",
   "execution_count": 114,
   "id": "opponent-pleasure",
   "metadata": {},
   "outputs": [
    {
     "name": "stderr",
     "output_type": "stream",
     "text": [
      "yt : [INFO     ] 2021-04-26 11:22:34,953 xlim = 0.000000 1.000000\n",
      "yt : [INFO     ] 2021-04-26 11:22:34,954 ylim = 0.000000 1.000000\n",
      "yt : [INFO     ] 2021-04-26 11:22:34,956 Making a fixed resolution buffer of (density) 800 by 800\n",
      "yt : [INFO     ] 2021-04-26 11:22:35,035 Making a fixed resolution buffer of (('gas', 'density')) 800 by 800\n"
     ]
    },
    {
     "data": {
      "text/html": [
       "<img style=\"max-width:100%%;max-height:100%%;\" src=\"data:image/png;base64,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\"><br>"
      ],
      "text/plain": [
       "<yt.visualization.plot_window.PWViewerMPL at 0x7f7e8a6918d0>"
      ]
     },
     "metadata": {},
     "output_type": "display_data"
    }
   ],
   "source": [
    "# quick slice plot -- 1/2 of the way through the z-direction:\n",
    "import matplotlib.pyplot as plt\n",
    "plt.rcParams['figure.figsize'] = [2,2]\n",
    "\n",
    "\n",
    "p = ds.r[:,:,0.5].plot(\"density\")"
   ]
  },
  {
   "cell_type": "code",
   "execution_count": null,
   "id": "neither-carter",
   "metadata": {},
   "outputs": [],
   "source": []
  }
 ],
 "metadata": {
  "kernelspec": {
   "display_name": "Python 3",
   "language": "python",
   "name": "python3"
  },
  "language_info": {
   "codemirror_mode": {
    "name": "ipython",
    "version": 3
   },
   "file_extension": ".py",
   "mimetype": "text/x-python",
   "name": "python",
   "nbconvert_exporter": "python",
   "pygments_lexer": "ipython3",
   "version": "3.7.9"
  }
 },
 "nbformat": 4,
 "nbformat_minor": 5
}
