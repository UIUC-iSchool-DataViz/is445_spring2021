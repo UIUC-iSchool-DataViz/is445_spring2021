{
 "cells": [
  {
   "cell_type": "markdown",
   "id": "innovative-airplane",
   "metadata": {},
   "source": [
    "# In Class Notebook, Week 14"
   ]
  },
  {
   "cell_type": "markdown",
   "id": "recovered-dimension",
   "metadata": {},
   "source": [
    "You can always paste the URL of this notebook (https://github.com/UIUC-iSchool-DataViz/is445_spring2021/blob/master/week14/inClass_week14.ipynb ) into the nbviewer interface for a plain-text rendering:\n",
    "\n",
    "https://kokes.github.io/nbviewer.js/viewer.html"
   ]
  },
  {
   "cell_type": "markdown",
   "id": "spectacular-strain",
   "metadata": {},
   "source": [
    "Let me write something!"
   ]
  },
  {
   "cell_type": "markdown",
   "id": "rough-carpet",
   "metadata": {},
   "source": [
    "Before yt, let's check out ipyvolume\n",
    "\n",
    "## ipyvolume"
   ]
  },
  {
   "cell_type": "code",
   "execution_count": 1,
   "id": "preceding-offer",
   "metadata": {},
   "outputs": [],
   "source": [
    "# import our usual things\n",
    "import numpy as np\n",
    "import pandas as pd\n",
    "import ipyvolume"
   ]
  },
  {
   "cell_type": "code",
   "execution_count": 2,
   "id": "sound-andorra",
   "metadata": {},
   "outputs": [],
   "source": [
    "x, y, z = np.random.random((3, 100)) # 3 dimensions, 100 points total"
   ]
  },
  {
   "cell_type": "code",
   "execution_count": 7,
   "id": "primary-engineer",
   "metadata": {},
   "outputs": [],
   "source": [
    "ipyvolume.quickscatter?"
   ]
  },
  {
   "cell_type": "code",
   "execution_count": 8,
   "id": "stunning-acquisition",
   "metadata": {},
   "outputs": [
    {
     "data": {
      "application/vnd.jupyter.widget-view+json": {
       "model_id": "baf14fc09dcb4a988cb0c183a490d891",
       "version_major": 2,
       "version_minor": 0
      },
      "text/plain": [
       "VBox(children=(Figure(camera=PerspectiveCamera(fov=45.0, position=(0.0, 0.0, 2.0), projectionMatrix=(1.0, 0.0,…"
      ]
     },
     "metadata": {},
     "output_type": "display_data"
    }
   ],
   "source": [
    "# quick 3d scatter plot\n",
    "ipyvolume.quickscatter(x,y,z, size=5, marker='diamond')"
   ]
  },
  {
   "cell_type": "markdown",
   "id": "comparable-proceeding",
   "metadata": {},
   "source": [
    "Now using \"real\" data -- data from a VERY low resolution simulation of 2 galaxies colliding. (Galaxies are collections of billions of stars, we live in the Milky Way galaxy, our star (the Sun!) is about 1/2 out on a disk of stars in the Milky Way)."
   ]
  },
  {
   "cell_type": "code",
   "execution_count": 96,
   "id": "large-lambda",
   "metadata": {},
   "outputs": [],
   "source": [
    "galaxy_file = '/Users/jillnaiman/Downloads/outarrsnap_001_fac1n3.txt' # 7 Mb\n",
    "galaxy_file = '/Users/jillnaiman/Downloads/outarrsnap_001_fac1n2_nt500.txt'\n",
    "\n"
   ]
  },
  {
   "cell_type": "markdown",
   "id": "excited-excerpt",
   "metadata": {},
   "source": [
    "We note: the data is super confusing to look at!  Luckily there is a data reader -- solverlibs.py -- included in the galaxyFiles.zip!"
   ]
  },
  {
   "cell_type": "code",
   "execution_count": 22,
   "id": "single-instruction",
   "metadata": {},
   "outputs": [],
   "source": [
    "# to load solver -- can copy to current directory\n",
    "\n",
    "# or update path:\n",
    "from sys import path\n",
    "path.append('/Users/jillnaiman/Downloads/')\n",
    "#path.append('C:\\\\Users\\\\jillnaiman\\\\Downloads\\\\') # maybe windows?!"
   ]
  },
  {
   "cell_type": "code",
   "execution_count": 23,
   "id": "featured-forty",
   "metadata": {},
   "outputs": [
    {
     "data": {
      "text/plain": [
       "['/Users/jillnaiman/is445_spring2021/week14',\n",
       " '/opt/anaconda3/envs/DataViz/lib/python37.zip',\n",
       " '/opt/anaconda3/envs/DataViz/lib/python3.7',\n",
       " '/opt/anaconda3/envs/DataViz/lib/python3.7/lib-dynload',\n",
       " '',\n",
       " '/Users/jillnaiman/.local/lib/python3.7/site-packages',\n",
       " '/opt/anaconda3/envs/DataViz/lib/python3.7/site-packages',\n",
       " '/opt/anaconda3/envs/DataViz/lib/python3.7/site-packages/IPython/extensions',\n",
       " '/Users/jillnaiman/.ipython',\n",
       " '/Users/jillnaiman/Downloads/',\n",
       " '/Users/jillnaiman/Downloads/']"
      ]
     },
     "execution_count": 23,
     "metadata": {},
     "output_type": "execute_result"
    }
   ],
   "source": [
    "path"
   ]
  },
  {
   "cell_type": "code",
   "execution_count": 21,
   "id": "civic-abortion",
   "metadata": {},
   "outputs": [],
   "source": [
    "from solverlibs import read_in_galaxy_data"
   ]
  },
  {
   "cell_type": "code",
   "execution_count": 13,
   "id": "reported-cleveland",
   "metadata": {},
   "outputs": [],
   "source": [
    "read_in_galaxy_data?"
   ]
  },
  {
   "cell_type": "code",
   "execution_count": 14,
   "id": "liquid-grounds",
   "metadata": {},
   "outputs": [],
   "source": [
    "# Note: a terrible person has not included doc strings!!!"
   ]
  },
  {
   "cell_type": "code",
   "execution_count": 97,
   "id": "convinced-conspiracy",
   "metadata": {},
   "outputs": [],
   "source": [
    "t_h, r_h, v_h, e_h, N, part_type = read_in_galaxy_data(galaxy_file)"
   ]
  },
  {
   "cell_type": "code",
   "execution_count": 17,
   "id": "unable-mustang",
   "metadata": {},
   "outputs": [
    {
     "data": {
      "text/plain": [
       "(82, 3, 500)"
      ]
     },
     "execution_count": 17,
     "metadata": {},
     "output_type": "execute_result"
    }
   ],
   "source": [
    "r_h.shape # 82 particles, 3 positions -- x/y/z, 500 time steps"
   ]
  },
  {
   "cell_type": "code",
   "execution_count": 18,
   "id": "breathing-genome",
   "metadata": {},
   "outputs": [
    {
     "data": {
      "text/plain": [
       "82"
      ]
     },
     "execution_count": 18,
     "metadata": {},
     "output_type": "execute_result"
    }
   ],
   "source": [
    "N"
   ]
  },
  {
   "cell_type": "code",
   "execution_count": 98,
   "id": "eight-newton",
   "metadata": {},
   "outputs": [],
   "source": [
    "# 3D plot of my initial time step:\n",
    "nT = 0 # first time step\n",
    "\n",
    "x, y, z = r_h[:,0, nT], r_h[:,1,nT], r_h[:,2,nT]"
   ]
  },
  {
   "cell_type": "code",
   "execution_count": 99,
   "id": "dependent-blackjack",
   "metadata": {},
   "outputs": [
    {
     "data": {
      "application/vnd.jupyter.widget-view+json": {
       "model_id": "948bdc74a7bd4cdcbac87765e84f2688",
       "version_major": 2,
       "version_minor": 0
      },
      "text/plain": [
       "VBox(children=(Figure(camera=PerspectiveCamera(fov=45.0, position=(0.0, 0.0, 2.0), projectionMatrix=(1.0, 0.0,…"
      ]
     },
     "metadata": {},
     "output_type": "display_data"
    }
   ],
   "source": [
    "ipyvolume.quickscatter(x,y,z, size=3, marker=\"sphere\") # plots one time step"
   ]
  },
  {
   "cell_type": "code",
   "execution_count": 34,
   "id": "extraordinary-fluid",
   "metadata": {},
   "outputs": [],
   "source": [
    "# all timesteps by \"unwrapping\"\n",
    "\n",
    "x = r_h[:,0,:].ravel() # 1D\n",
    "y = r_h[:,1,:].ravel()\n",
    "z = r_h[:,2,:].ravel()"
   ]
  },
  {
   "cell_type": "code",
   "execution_count": 35,
   "id": "orange-hughes",
   "metadata": {},
   "outputs": [
    {
     "data": {
      "text/plain": [
       "array([-0.55503449, -0.5316963 , -0.50835813, ..., -1.42056334,\n",
       "       -1.42175787, -1.42295243])"
      ]
     },
     "execution_count": 35,
     "metadata": {},
     "output_type": "execute_result"
    }
   ],
   "source": [
    "x"
   ]
  },
  {
   "cell_type": "code",
   "execution_count": 36,
   "id": "appreciated-services",
   "metadata": {},
   "outputs": [
    {
     "data": {
      "application/vnd.jupyter.widget-view+json": {
       "model_id": "e7c87eeda5294f53a451b57a36d5b5b8",
       "version_major": 2,
       "version_minor": 0
      },
      "text/plain": [
       "VBox(children=(Figure(camera=PerspectiveCamera(fov=45.0, position=(0.0, 0.0, 2.0), projectionMatrix=(1.0, 0.0,…"
      ]
     },
     "metadata": {},
     "output_type": "display_data"
    }
   ],
   "source": [
    "ipyvolume.quickscatter(x,y,z, size=3, marker='sphere')"
   ]
  },
  {
   "cell_type": "markdown",
   "id": "painful-sequence",
   "metadata": {},
   "source": [
    "This is not super useful, but we can do better using a quiver plot:"
   ]
  },
  {
   "cell_type": "code",
   "execution_count": 38,
   "id": "pregnant-georgia",
   "metadata": {},
   "outputs": [
    {
     "data": {
      "application/vnd.jupyter.widget-view+json": {
       "model_id": "69072a73fb794d8a95b1952745eda4dc",
       "version_major": 2,
       "version_minor": 0
      },
      "text/plain": [
       "VBox(children=(Figure(camera=PerspectiveCamera(fov=45.0, position=(0.0, 0.0, 2.0), projectionMatrix=(1.0, 0.0,…"
      ]
     },
     "metadata": {},
     "output_type": "display_data"
    }
   ],
   "source": [
    "ipyvolume.figure()\n",
    "# use quiver plot -- x,y,z positions and vx,vy,vz velocity vector components\n",
    "\n",
    "for i in range(r_h.shape[0]): # loop through every particle\n",
    "    ipyvolume.quiver(r_h[i,0,:], # ith particle, x position, all time steps\n",
    "                    r_h[i,1,:], # ith particle, y postion, all time steps\n",
    "                    r_h[i,2,:], # ith particle, z postion, all timesteps\n",
    "                    v_h[i,0,:], # ith particle, vx (velocity in x direction), all time steps\n",
    "                    v_h[i,1,:], # ith particle, vy, all times\n",
    "                    v_h[i,2,:], # ith particle, vz, all times\n",
    "                    size=1)\n",
    "ipyvolume.show()"
   ]
  },
  {
   "cell_type": "code",
   "execution_count": 52,
   "id": "blessed-syracuse",
   "metadata": {},
   "outputs": [
    {
     "data": {
      "text/plain": [
       "82"
      ]
     },
     "execution_count": 52,
     "metadata": {},
     "output_type": "execute_result"
    }
   ],
   "source": [
    "N # number of particles"
   ]
  },
  {
   "cell_type": "code",
   "execution_count": 54,
   "id": "faced-colon",
   "metadata": {},
   "outputs": [
    {
     "data": {
      "text/plain": [
       "500"
      ]
     },
     "execution_count": 54,
     "metadata": {},
     "output_type": "execute_result"
    }
   ],
   "source": [
    "Nt = r_h.shape[2] # number of timesteps!\n",
    "Nt"
   ]
  },
  {
   "cell_type": "code",
   "execution_count": 55,
   "id": "suspected-grenada",
   "metadata": {},
   "outputs": [
    {
     "data": {
      "application/vnd.jupyter.widget-view+json": {
       "model_id": "0c502c94f36f44fb85763ff58f9492c2",
       "version_major": 2,
       "version_minor": 0
      },
      "text/plain": [
       "VBox(children=(Figure(camera=PerspectiveCamera(fov=45.0, position=(0.0, 0.0, 2.0), projectionMatrix=(1.0, 0.0,…"
      ]
     },
     "metadata": {},
     "output_type": "display_data"
    }
   ],
   "source": [
    "# sub sample to see arrows\n",
    "step = 10 # only plot each 10th timestep\n",
    "\n",
    "ipyvolume.figure()\n",
    "# use quiver plot -- x,y,z positions and vx,vy,vz velocity vector components\n",
    "\n",
    "for i in range(r_h.shape[0]): # loop through every particle\n",
    "    ipyvolume.quiver(r_h[i,0,0:Nt:step], # ith particle, x position, every 10th time step\n",
    "                    r_h[i,1,0:Nt:step], # ith particle, y postion\n",
    "                    r_h[i,2,0:Nt:step], # ith particle, z postion\n",
    "                    v_h[i,0,0:Nt:step], # ith particle, vx (velocity in x direction)\n",
    "                    v_h[i,1,0:Nt:step], # ith particle, vy\n",
    "                    v_h[i,2,0:Nt:step], # ith particle, vz\n",
    "                    size=1)\n",
    "ipyvolume.show()"
   ]
  },
  {
   "cell_type": "markdown",
   "id": "committed-switch",
   "metadata": {},
   "source": [
    "## 3D animations with ipyvolume"
   ]
  },
  {
   "cell_type": "markdown",
   "id": "korean-length",
   "metadata": {},
   "source": [
    "For data formatting reasons, we will take the **transpose** of our data matricies"
   ]
  },
  {
   "cell_type": "code",
   "execution_count": 44,
   "id": "stunning-destiny",
   "metadata": {},
   "outputs": [
    {
     "name": "stdout",
     "output_type": "stream",
     "text": [
      "(82, 500) (500, 82)\n"
     ]
    }
   ],
   "source": [
    "print(r_h[:,0,:].shape, r_h[:,0,:].T.shape)"
   ]
  },
  {
   "cell_type": "markdown",
   "id": "contemporary-appraisal",
   "metadata": {},
   "source": [
    "Down sample our position and velocity vectors for smoother animations:"
   ]
  },
  {
   "cell_type": "code",
   "execution_count": 100,
   "id": "imperial-omaha",
   "metadata": {},
   "outputs": [],
   "source": [
    "step = 10 # only save each 10th time step\n",
    "\n",
    "r = r_h[:,:,0:Nt:step]\n",
    "v = v_h[:,:,0:Nt:step]"
   ]
  },
  {
   "cell_type": "code",
   "execution_count": 58,
   "id": "congressional-offense",
   "metadata": {},
   "outputs": [
    {
     "data": {
      "text/plain": [
       "(82, 3, 50)"
      ]
     },
     "execution_count": 58,
     "metadata": {},
     "output_type": "execute_result"
    }
   ],
   "source": [
    "r.shape"
   ]
  },
  {
   "cell_type": "markdown",
   "id": "subject-resistance",
   "metadata": {},
   "source": [
    "Scatter plot + animation:"
   ]
  },
  {
   "cell_type": "code",
   "execution_count": 101,
   "id": "adult-edwards",
   "metadata": {},
   "outputs": [
    {
     "data": {
      "application/vnd.jupyter.widget-view+json": {
       "model_id": "d1158f381d3f4c74bc0008b014e580c2",
       "version_major": 2,
       "version_minor": 0
      },
      "text/plain": [
       "VBox(children=(Figure(animation=200.0, camera=PerspectiveCamera(fov=45.0, position=(0.0, 0.0, 2.0), projection…"
      ]
     },
     "metadata": {},
     "output_type": "display_data"
    }
   ],
   "source": [
    "ipyvolume.figure()\n",
    "\n",
    "s = ipyvolume.scatter(r[:,0,:].T, r[:,1,:].T, r[:,2,:].T, marker='sphere')\n",
    "#s = ipyvolume.scatter(r[:,0,:], r[:,1,:], r[:,2,:], marker='sphere') # shows 1 trajectory\n",
    "#s = ipyvolume.scatter(r[:,0,:].ravel(), r[:,1,:].ravel(), r[:,2,:].ravel(), marker='sphere') # all particles, all time\n",
    "\n",
    "# add in animation\n",
    "ani = ipyvolume.animation_control(s, interval=200) # 200 millisec between \"snapshots\"\n",
    "\n",
    "ipyvolume.show()"
   ]
  },
  {
   "cell_type": "markdown",
   "id": "balanced-pittsburgh",
   "metadata": {},
   "source": [
    "**Astronomy note:** this is a VERY low resolution simulation!  That is why the galaxies don't merge but fly apart!"
   ]
  },
  {
   "cell_type": "markdown",
   "id": "demonstrated-contemporary",
   "metadata": {},
   "source": [
    "## Combine ipywidgets + ipyvolume for more controls"
   ]
  },
  {
   "cell_type": "code",
   "execution_count": 66,
   "id": "liquid-bacon",
   "metadata": {},
   "outputs": [],
   "source": [
    "import ipywidgets"
   ]
  },
  {
   "cell_type": "code",
   "execution_count": 67,
   "id": "lightweight-collapse",
   "metadata": {},
   "outputs": [],
   "source": [
    "# plot all trajectories, static scatter plot, downsampled data"
   ]
  },
  {
   "cell_type": "code",
   "execution_count": 74,
   "id": "early-fruit",
   "metadata": {},
   "outputs": [
    {
     "data": {
      "application/vnd.jupyter.widget-view+json": {
       "model_id": "e74438875d3c4101baf9b1ee90d87ac6",
       "version_major": 2,
       "version_minor": 0
      },
      "text/plain": [
       "VBox(children=(Figure(camera=PerspectiveCamera(fov=45.0, position=(0.0, 0.0, 2.0), projectionMatrix=(1.0, 0.0,…"
      ]
     },
     "metadata": {},
     "output_type": "display_data"
    }
   ],
   "source": [
    "ipyvolume.figure()\n",
    "\n",
    "s = ipyvolume.scatter(r[:,0,:].ravel(), r[:,1,:].ravel(), r[:,2,:].ravel(), \n",
    "                     marker='sphere', size=5)\n",
    "\n",
    "ipyvolume.show()"
   ]
  },
  {
   "cell_type": "markdown",
   "id": "devoted-prescription",
   "metadata": {},
   "source": [
    "Make a float slider widget that I can use to change the sizes of my spheres:"
   ]
  },
  {
   "cell_type": "code",
   "execution_count": 69,
   "id": "accepting-factory",
   "metadata": {},
   "outputs": [],
   "source": [
    "size = ipywidgets.FloatSlider(min=0,max=30,step=0.1)"
   ]
  },
  {
   "cell_type": "code",
   "execution_count": 70,
   "id": "significant-champagne",
   "metadata": {},
   "outputs": [
    {
     "data": {
      "application/vnd.jupyter.widget-view+json": {
       "model_id": "5f16cb7c272044d3886f874a208edf84",
       "version_major": 2,
       "version_minor": 0
      },
      "text/plain": [
       "FloatSlider(value=0.0, max=30.0)"
      ]
     },
     "metadata": {},
     "output_type": "display_data"
    }
   ],
   "source": [
    "size"
   ]
  },
  {
   "cell_type": "code",
   "execution_count": 72,
   "id": "configured-infrared",
   "metadata": {},
   "outputs": [
    {
     "data": {
      "text/plain": [
       "9.8"
      ]
     },
     "execution_count": 72,
     "metadata": {},
     "output_type": "execute_result"
    }
   ],
   "source": [
    "size.value # value attribute associated with this widget slider"
   ]
  },
  {
   "cell_type": "code",
   "execution_count": 75,
   "id": "marked-report",
   "metadata": {},
   "outputs": [
    {
     "data": {
      "text/plain": [
       "array(5)"
      ]
     },
     "execution_count": 75,
     "metadata": {},
     "output_type": "execute_result"
    }
   ],
   "source": [
    "s.size"
   ]
  },
  {
   "cell_type": "markdown",
   "id": "unlike-retirement",
   "metadata": {},
   "source": [
    "Recall: `jslink` a function to link attributes of widgets on the JS/\"front-end\" side:"
   ]
  },
  {
   "cell_type": "code",
   "execution_count": 76,
   "id": "stretch-concord",
   "metadata": {},
   "outputs": [
    {
     "data": {
      "text/plain": [
       "Link(source=(Scatter(color_selected=array('white', dtype='<U5'), geo='sphere', line_material=ShaderMaterial(),…"
      ]
     },
     "metadata": {},
     "output_type": "display_data"
    }
   ],
   "source": [
    "ipywidgets.jslink((s,'size'),(size,'value'))"
   ]
  },
  {
   "cell_type": "markdown",
   "id": "swedish-evening",
   "metadata": {},
   "source": [
    "Recall we can also use layout widgets:"
   ]
  },
  {
   "cell_type": "code",
   "execution_count": 77,
   "id": "starting-annual",
   "metadata": {},
   "outputs": [
    {
     "data": {
      "application/vnd.jupyter.widget-view+json": {
       "model_id": "51f033fd281e4ec8b28d693b1f3103cf",
       "version_major": 2,
       "version_minor": 0
      },
      "text/plain": [
       "VBox(children=(VBox(children=(Figure(camera=PerspectiveCamera(aspect=0.8, fov=45.0, matrixWorldNeedsUpdate=Tru…"
      ]
     },
     "metadata": {},
     "output_type": "display_data"
    }
   ],
   "source": [
    "ipywidgets.VBox([ipyvolume.gcc(),size]) # ipyvolume.gcc() grabs current plot"
   ]
  },
  {
   "cell_type": "markdown",
   "id": "duplicate-receiver",
   "metadata": {},
   "source": [
    "Also link a color widget:"
   ]
  },
  {
   "cell_type": "code",
   "execution_count": 78,
   "id": "passive-commonwealth",
   "metadata": {},
   "outputs": [],
   "source": [
    "color = ipywidgets.ColorPicker()"
   ]
  },
  {
   "cell_type": "code",
   "execution_count": 79,
   "id": "premier-throat",
   "metadata": {},
   "outputs": [
    {
     "data": {
      "application/vnd.jupyter.widget-view+json": {
       "model_id": "4827d716a6af461ebc4281cd81508e4a",
       "version_major": 2,
       "version_minor": 0
      },
      "text/plain": [
       "ColorPicker(value='black')"
      ]
     },
     "metadata": {},
     "output_type": "display_data"
    }
   ],
   "source": [
    "color"
   ]
  },
  {
   "cell_type": "code",
   "execution_count": 81,
   "id": "behind-quick",
   "metadata": {},
   "outputs": [
    {
     "data": {
      "text/plain": [
       "'#2f5b44'"
      ]
     },
     "execution_count": 81,
     "metadata": {},
     "output_type": "execute_result"
    }
   ],
   "source": [
    "color.value"
   ]
  },
  {
   "cell_type": "code",
   "execution_count": 80,
   "id": "departmental-spirituality",
   "metadata": {},
   "outputs": [
    {
     "data": {
      "text/plain": [
       "array('red', dtype='<U3')"
      ]
     },
     "execution_count": 80,
     "metadata": {},
     "output_type": "execute_result"
    }
   ],
   "source": [
    "s.color"
   ]
  },
  {
   "cell_type": "code",
   "execution_count": 82,
   "id": "exempt-brick",
   "metadata": {},
   "outputs": [
    {
     "data": {
      "text/plain": [
       "Link(source=(Scatter(color_selected=array('white', dtype='<U5'), geo='sphere', line_material=ShaderMaterial(),…"
      ]
     },
     "metadata": {},
     "output_type": "display_data"
    }
   ],
   "source": [
    "# link color attribute of ipyvolume plot with widget\n",
    "ipywidgets.jslink((s,'color'),(color,'value'))"
   ]
  },
  {
   "cell_type": "code",
   "execution_count": 83,
   "id": "express-drawing",
   "metadata": {},
   "outputs": [
    {
     "data": {
      "application/vnd.jupyter.widget-view+json": {
       "model_id": "6d4bd4fc36ce444d9a953706e46c8fb9",
       "version_major": 2,
       "version_minor": 0
      },
      "text/plain": [
       "VBox(children=(VBox(children=(Figure(camera=PerspectiveCamera(aspect=0.8, fov=45.0, matrixWorldNeedsUpdate=Tru…"
      ]
     },
     "metadata": {},
     "output_type": "display_data"
    }
   ],
   "source": [
    "# layout again:\n",
    "ipywidgets.VBox([ipyvolume.gcc(), size, color])"
   ]
  },
  {
   "cell_type": "markdown",
   "id": "comic-passion",
   "metadata": {},
   "source": [
    "## Export ipyvolume to a HTML page"
   ]
  },
  {
   "cell_type": "code",
   "execution_count": 84,
   "id": "colored-bridges",
   "metadata": {},
   "outputs": [],
   "source": [
    "myVBox = ipywidgets.VBox([ipyvolume.gcc(), size, color])"
   ]
  },
  {
   "cell_type": "code",
   "execution_count": 85,
   "id": "cloudy-craps",
   "metadata": {},
   "outputs": [],
   "source": [
    "# some formatting things so that our box isn't super small\n",
    "ipyvolume.embed.layout = myVBox.children[1].layout\n",
    "ipyvolume.embed.layout.min_width = \"400px\""
   ]
  },
  {
   "cell_type": "markdown",
   "id": "front-option",
   "metadata": {},
   "source": [
    "Make this into a webpage!"
   ]
  },
  {
   "cell_type": "code",
   "execution_count": 86,
   "id": "improved-punishment",
   "metadata": {},
   "outputs": [],
   "source": [
    "ipyvolume.embed.embed_html(\"testPage.html\",myVBox,offline=False,devmode=False)"
   ]
  },
  {
   "cell_type": "markdown",
   "id": "living-actress",
   "metadata": {},
   "source": [
    "If on mac/linux:"
   ]
  },
  {
   "cell_type": "code",
   "execution_count": 87,
   "id": "cubic-panic",
   "metadata": {},
   "outputs": [],
   "source": [
    "!open myPage.html"
   ]
  },
  {
   "cell_type": "markdown",
   "id": "tight-million",
   "metadata": {},
   "source": [
    "## Export widgets + ipyvolume + animation"
   ]
  },
  {
   "cell_type": "code",
   "execution_count": 94,
   "id": "opening-citation",
   "metadata": {},
   "outputs": [],
   "source": [
    "ipyvolume.figure()\n",
    "\n",
    "# widgets\n",
    "size = ipywidgets.FloatSlider(min=0,max=30, step=0.1, description='Size')\n",
    "color = ipywidgets.ColorPicker()\n",
    "\n",
    "# scatter plot\n",
    "s = ipyvolume.scatter(r[:,0,:].T, r[:,1,:].T, r[:,2,:].T, marker='sphere')\n",
    "\n",
    "# widget links to scatter plot\n",
    "ipywidgets.jslink((s,'size'),(size,'value'))\n",
    "ipywidgets.jslink((s,'color'),(color,'value'))\n",
    "\n",
    "# add in animation\n",
    "ani = ipyvolume.animation_control(s, interval=200)\n",
    "\n",
    "#ipyvolume.show()\n",
    "myVbox = ipywidgets.VBox([ipyvolume.gcc(),size,color])\n",
    "\n",
    "# layout things like before:\n",
    "ipyvolume.embed.layout = myVbox.children[1].layout \n",
    "ipyvolume.embed.layout.min_width = '400px'\n",
    "ipyvolume.embed.embed_html(\"testPage2.html\", myVbox, offline=False, devmode=False)"
   ]
  },
  {
   "cell_type": "code",
   "execution_count": 95,
   "id": "moving-deadline",
   "metadata": {},
   "outputs": [],
   "source": [
    "!open testPage2.html"
   ]
  },
  {
   "cell_type": "code",
   "execution_count": null,
   "id": "wound-booth",
   "metadata": {},
   "outputs": [],
   "source": []
  }
 ],
 "metadata": {
  "kernelspec": {
   "display_name": "Python 3",
   "language": "python",
   "name": "python3"
  },
  "language_info": {
   "codemirror_mode": {
    "name": "ipython",
    "version": 3
   },
   "file_extension": ".py",
   "mimetype": "text/x-python",
   "name": "python",
   "nbconvert_exporter": "python",
   "pygments_lexer": "ipython3",
   "version": "3.7.9"
  }
 },
 "nbformat": 4,
 "nbformat_minor": 5
}
