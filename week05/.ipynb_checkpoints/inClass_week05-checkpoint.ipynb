{
 "cells": [
  {
   "cell_type": "markdown",
   "metadata": {},
   "source": [
    "Let's import our usual things:"
   ]
  },
  {
   "cell_type": "code",
   "execution_count": 1,
   "metadata": {},
   "outputs": [],
   "source": [
    "import bqplot\n",
    "import numpy as np\n",
    "import ipywidgets\n",
    "%matplotlib inline"
   ]
  },
  {
   "cell_type": "code",
   "execution_count": 2,
   "metadata": {},
   "outputs": [],
   "source": [
    "# generating random data, first for a line plot\n",
    "x = np.arange(100) # integers 0->99\n",
    "y = np.random.random(100) + 5"
   ]
  },
  {
   "cell_type": "code",
   "execution_count": 3,
   "metadata": {},
   "outputs": [
    {
     "data": {
      "text/plain": [
       "array([ 0,  1,  2,  3,  4,  5,  6,  7,  8,  9, 10, 11, 12, 13, 14, 15, 16,\n",
       "       17, 18, 19, 20, 21, 22, 23, 24, 25, 26, 27, 28, 29, 30, 31, 32, 33,\n",
       "       34, 35, 36, 37, 38, 39, 40, 41, 42, 43, 44, 45, 46, 47, 48, 49, 50,\n",
       "       51, 52, 53, 54, 55, 56, 57, 58, 59, 60, 61, 62, 63, 64, 65, 66, 67,\n",
       "       68, 69, 70, 71, 72, 73, 74, 75, 76, 77, 78, 79, 80, 81, 82, 83, 84,\n",
       "       85, 86, 87, 88, 89, 90, 91, 92, 93, 94, 95, 96, 97, 98, 99])"
      ]
     },
     "execution_count": 3,
     "metadata": {},
     "output_type": "execute_result"
    }
   ],
   "source": [
    "x"
   ]
  },
  {
   "cell_type": "code",
   "execution_count": 4,
   "metadata": {},
   "outputs": [
    {
     "data": {
      "text/plain": [
       "array([5.70635671, 5.03930155, 5.39517812, 5.06503291, 5.99000314,\n",
       "       5.30844022, 5.14778745, 5.56049654, 5.95127541, 5.29031111,\n",
       "       5.41240707, 5.98772101, 5.62492901, 5.72386883, 5.48080022,\n",
       "       5.85178972, 5.05974412, 5.89081065, 5.80283272, 5.40473191,\n",
       "       5.90423397, 5.34946917, 5.51799738, 5.73215745, 5.88730427,\n",
       "       5.13076284, 5.37012709, 5.27165141, 5.74741654, 5.02221166,\n",
       "       5.64104873, 5.2037555 , 5.7882892 , 5.77741368, 5.24257115,\n",
       "       5.32143117, 5.92112559, 5.83251687, 5.9128743 , 5.61754822,\n",
       "       5.43157681, 5.71432313, 5.01328999, 5.44679099, 5.53170192,\n",
       "       5.76480903, 5.43614595, 5.88475663, 5.52850947, 5.54816343,\n",
       "       5.83920454, 5.56944922, 5.32907948, 5.08031411, 5.77385833,\n",
       "       5.43187291, 5.8691123 , 5.79886605, 5.3194119 , 5.46618662,\n",
       "       5.56766139, 5.60360098, 5.12651835, 5.52015506, 5.74727565,\n",
       "       5.38649463, 5.63551613, 5.27047557, 5.99074177, 5.80253222,\n",
       "       5.68522039, 5.77123912, 5.69481507, 5.39787868, 5.76629856,\n",
       "       5.35877831, 5.28839053, 5.91521177, 5.69032648, 5.56749594,\n",
       "       5.57170855, 5.07459101, 5.68904614, 5.62625549, 5.30710311,\n",
       "       5.62355856, 5.76925291, 5.85033989, 5.5349312 , 5.20139473,\n",
       "       5.76212375, 5.06774013, 5.58607382, 5.89156296, 5.9149744 ,\n",
       "       5.42085411, 5.94345982, 5.32469796, 5.33663573, 5.8100581 ])"
      ]
     },
     "execution_count": 4,
     "metadata": {},
     "output_type": "execute_result"
    }
   ],
   "source": [
    "y"
   ]
  },
  {
   "cell_type": "markdown",
   "metadata": {},
   "source": [
    "Our data is pretty linear, we have 2 scales & we want to do a line plot, so let's choose linear scales:"
   ]
  },
  {
   "cell_type": "code",
   "execution_count": 5,
   "metadata": {},
   "outputs": [],
   "source": [
    "x_sc = bqplot.LinearScale()\n",
    "y_sc = bqplot.LinearScale()"
   ]
  },
  {
   "cell_type": "code",
   "execution_count": 7,
   "metadata": {},
   "outputs": [],
   "source": [
    "bqplot.LinearScale?"
   ]
  },
  {
   "cell_type": "markdown",
   "metadata": {},
   "source": [
    "Let's define our \"mark\" in this case a Line plot:"
   ]
  },
  {
   "cell_type": "code",
   "execution_count": 8,
   "metadata": {},
   "outputs": [],
   "source": [
    "lines = bqplot.Lines(x=x, y=y, scales={'x': x_sc, 'y': y_sc})"
   ]
  },
  {
   "cell_type": "markdown",
   "metadata": {},
   "source": [
    "Define my axis: 2 axis, one that is horizontal and on the bottom and one that is vertical and on the left side:"
   ]
  },
  {
   "cell_type": "code",
   "execution_count": 9,
   "metadata": {},
   "outputs": [],
   "source": [
    "ax_x = bqplot.Axis(scale=x_sc, label='X Value')\n",
    "ax_y = bqplot.Axis(scale=y_sc, label='Y Value', orientation='vertical')"
   ]
  },
  {
   "cell_type": "code",
   "execution_count": 10,
   "metadata": {},
   "outputs": [],
   "source": [
    "bqplot.Axis?"
   ]
  },
  {
   "cell_type": "markdown",
   "metadata": {},
   "source": [
    "Put everything together into a figure:"
   ]
  },
  {
   "cell_type": "code",
   "execution_count": 11,
   "metadata": {},
   "outputs": [
    {
     "data": {
      "application/vnd.jupyter.widget-view+json": {
       "model_id": "6c377d72f76a4cd68ad5a6262be340a7",
       "version_major": 2,
       "version_minor": 0
      },
      "text/plain": [
       "Figure(axes=[Axis(label='X Value', scale=LinearScale(), side='bottom'), Axis(label='Y Value', orientation='ver…"
      ]
     },
     "metadata": {},
     "output_type": "display_data"
    }
   ],
   "source": [
    "fig = bqplot.Figure(marks = [lines], axes=[ax_x, ax_y])\n",
    "fig"
   ]
  },
  {
   "cell_type": "code",
   "execution_count": 12,
   "metadata": {},
   "outputs": [
    {
     "data": {
      "application/vnd.jupyter.widget-view+json": {
       "model_id": "448c3f54b22d4a4bbe63161686ed2ea9",
       "version_major": 2,
       "version_minor": 0
      },
      "text/plain": [
       "Figure(axes=[Axis(label='X Value', scale=LinearScale()), Axis(label='Y Value', orientation='vertical', scale=L…"
      ]
     },
     "metadata": {},
     "output_type": "display_data"
    }
   ],
   "source": [
    "# scales\n",
    "x_sc = bqplot.LinearScale()\n",
    "y_sc = bqplot.LinearScale()\n",
    "\n",
    "# marks\n",
    "lines = bqplot.Lines(x=x, y=y, scales={'x': x_sc, 'y': y_sc})\n",
    "\n",
    "# axis\n",
    "ax_x = bqplot.Axis(scale=x_sc, label='X Value')\n",
    "ax_y = bqplot.Axis(scale=y_sc, label='Y Value', orientation='vertical')\n",
    "\n",
    "# construct fig\n",
    "fig = bqplot.Figure(marks = [lines], axes=[ax_x, ax_y])\n",
    "fig"
   ]
  },
  {
   "cell_type": "markdown",
   "metadata": {},
   "source": [
    "Adding in interactivity:"
   ]
  },
  {
   "cell_type": "code",
   "execution_count": 13,
   "metadata": {},
   "outputs": [],
   "source": [
    "panzoom = bqplot.interacts.PanZoom( scales={'x':[x_sc], 'y':[y_sc]})"
   ]
  },
  {
   "cell_type": "code",
   "execution_count": 15,
   "metadata": {},
   "outputs": [],
   "source": [
    "from IPython.display import display"
   ]
  },
  {
   "cell_type": "code",
   "execution_count": 16,
   "metadata": {},
   "outputs": [
    {
     "data": {
      "application/vnd.jupyter.widget-view+json": {
       "model_id": "170c87ec9ea243468ffbf8f1808b67c7",
       "version_major": 2,
       "version_minor": 0
      },
      "text/plain": [
       "Figure(axes=[Axis(label='X Value', scale=LinearScale(max=112.59378383836136, min=13.692734354857162), side='bo…"
      ]
     },
     "metadata": {},
     "output_type": "display_data"
    }
   ],
   "source": [
    "fig = bqplot.Figure(marks=[lines], axes=[ax_x, ax_y], interaction=panzoom)\n",
    "display(fig) # if figures are not showing, give this a shot"
   ]
  },
  {
   "cell_type": "markdown",
   "metadata": {},
   "source": [
    "## Scatter plot - with random numbers"
   ]
  },
  {
   "cell_type": "code",
   "execution_count": 17,
   "metadata": {},
   "outputs": [],
   "source": [
    "x = np.random.random(100) # random points between 0->1\n",
    "y = np.random.random(100) # random points between 0->1"
   ]
  },
  {
   "cell_type": "code",
   "execution_count": 21,
   "metadata": {},
   "outputs": [],
   "source": [
    "# scales: linear because not doing colors yet or a log-space anything\n",
    "x_sc = bqplot.LinearScale()\n",
    "y_sc = bqplot.LinearScale()\n",
    "\n",
    "# axes using these scales - just some scales on the left & bottom of the plot\n",
    "x_ax = bqplot.Axis(scale = x_sc, label='X')\n",
    "y_ax = bqplot.Axis(scale = y_sc, label='Y', orientation='vertical')"
   ]
  },
  {
   "cell_type": "code",
   "execution_count": 22,
   "metadata": {},
   "outputs": [],
   "source": [
    "# marks: will be a scatter plot\n",
    "scatters = bqplot.Scatter(x=x, y=y, scales={'x':x_sc, 'y':y_sc})"
   ]
  },
  {
   "cell_type": "code",
   "execution_count": 23,
   "metadata": {},
   "outputs": [],
   "source": [
    "# adding in an interaction now: select points on the x-axis\n",
    "selector = bqplot.interacts.FastIntervalSelector(scale=x_sc, marks=[scatters])"
   ]
  },
  {
   "cell_type": "code",
   "execution_count": 24,
   "metadata": {},
   "outputs": [
    {
     "data": {
      "application/vnd.jupyter.widget-view+json": {
       "model_id": "ba14bc31c7184bfaa61ba67108db0fcb",
       "version_major": 2,
       "version_minor": 0
      },
      "text/plain": [
       "Figure(axes=[Axis(label='X', scale=LinearScale(), side='bottom'), Axis(label='Y', orientation='vertical', scal…"
      ]
     },
     "metadata": {},
     "output_type": "display_data"
    }
   ],
   "source": [
    "# put it all together in a figure!\n",
    "fig = bqplot.Figure(marks=[scatters], axes=[x_ax, y_ax], interaction=selector)\n",
    "fig"
   ]
  },
  {
   "cell_type": "code",
   "execution_count": 25,
   "metadata": {},
   "outputs": [
    {
     "data": {
      "text/plain": [
       "['_model_module',\n",
       " '_model_module_version',\n",
       " '_model_name',\n",
       " '_view_count',\n",
       " '_view_module',\n",
       " '_view_module_version',\n",
       " '_view_name',\n",
       " 'color',\n",
       " 'marks',\n",
       " 'scale',\n",
       " 'selected',\n",
       " 'size']"
      ]
     },
     "execution_count": 25,
     "metadata": {},
     "output_type": "execute_result"
    }
   ],
   "source": [
    "selector.keys"
   ]
  },
  {
   "cell_type": "code",
   "execution_count": 27,
   "metadata": {},
   "outputs": [
    {
     "data": {
      "text/plain": [
       "array([0.32938296, 0.81524344])"
      ]
     },
     "execution_count": 27,
     "metadata": {},
     "output_type": "execute_result"
    }
   ],
   "source": [
    "selector.selected # this is a trait that we can \"watch\" like before"
   ]
  },
  {
   "cell_type": "code",
   "execution_count": 28,
   "metadata": {},
   "outputs": [],
   "source": [
    "# we can play with how our selection looks:\n",
    "scatters.unselected_style={'opacity':0.8} # unselected a little see-through\n",
    "scatters.selected_style={'fill':'red', 'stroke':'yellow'}"
   ]
  },
  {
   "cell_type": "code",
   "execution_count": 29,
   "metadata": {},
   "outputs": [
    {
     "data": {
      "application/vnd.jupyter.widget-view+json": {
       "model_id": "4f029362f6414a70bc1248f82d7a7996",
       "version_major": 2,
       "version_minor": 0
      },
      "text/plain": [
       "Figure(axes=[Axis(label='X', scale=LinearScale(), side='bottom'), Axis(label='Y', orientation='vertical', scal…"
      ]
     },
     "metadata": {},
     "output_type": "display_data"
    }
   ],
   "source": [
    "fig = bqplot.Figure(marks=[scatters], axes=[x_ax,y_ax], interaction=selector)\n",
    "fig"
   ]
  },
  {
   "cell_type": "markdown",
   "metadata": {},
   "source": [
    "## Gridheatmap mark"
   ]
  },
  {
   "cell_type": "code",
   "execution_count": 30,
   "metadata": {},
   "outputs": [],
   "source": [
    "# define the data\n",
    "data = np.random.random((10,10))"
   ]
  },
  {
   "cell_type": "code",
   "execution_count": 32,
   "metadata": {},
   "outputs": [
    {
     "data": {
      "text/plain": [
       "(10, 10)"
      ]
     },
     "execution_count": 32,
     "metadata": {},
     "output_type": "execute_result"
    }
   ],
   "source": [
    "data.shape"
   ]
  },
  {
   "cell_type": "code",
   "execution_count": 33,
   "metadata": {},
   "outputs": [
    {
     "data": {
      "application/vnd.jupyter.widget-view+json": {
       "model_id": "abc63fd262444f9299d4b2d1a16c0c1f",
       "version_major": 2,
       "version_minor": 0
      },
      "text/plain": [
       "Figure(fig_margin={'top': 60, 'bottom': 60, 'left': 60, 'right': 60}, marks=[GridHeatMap(color=array([[0.81919…"
      ]
     },
     "metadata": {},
     "output_type": "display_data"
    }
   ],
   "source": [
    "# step 1: define a scale, in this case color\n",
    "col_sc = bqplot.ColorScale() # like x/y but color\n",
    "\n",
    "# step2: I am ignoring axes for now\n",
    "\n",
    "# step 3: gridheatmap mark\n",
    "heat_map = bqplot.GridHeatMap(color=data, scales={'color':col_sc})\n",
    "\n",
    "# step 4: interaction, but ignoring for now too\n",
    "\n",
    "# step 5: put it all togehter in a figure\n",
    "fig = bqplot.Figure(marks=[heat_map])\n",
    "fig"
   ]
  },
  {
   "cell_type": "code",
   "execution_count": 34,
   "metadata": {},
   "outputs": [
    {
     "data": {
      "application/vnd.jupyter.widget-view+json": {
       "model_id": "b414cdb6d07641bf98795aef9082212d",
       "version_major": 2,
       "version_minor": 0
      },
      "text/plain": [
       "Figure(fig_margin={'top': 60, 'bottom': 60, 'left': 60, 'right': 60}, marks=[GridHeatMap(color=array([[0.81919…"
      ]
     },
     "metadata": {},
     "output_type": "display_data"
    }
   ],
   "source": [
    "# step 1: define a scale, in this case color\n",
    "col_sc = bqplot.ColorScale(scheme=\"Reds\") # like x/y but color\n",
    "\n",
    "# step2: I am ignoring axes for now\n",
    "\n",
    "# step 3: gridheatmap mark\n",
    "heat_map = bqplot.GridHeatMap(color=data, scales={'color':col_sc})\n",
    "\n",
    "# step 4: interaction, but ignoring for now too\n",
    "\n",
    "# step 5: put it all togehter in a figure\n",
    "fig = bqplot.Figure(marks=[heat_map])\n",
    "fig"
   ]
  },
  {
   "cell_type": "code",
   "execution_count": 35,
   "metadata": {},
   "outputs": [
    {
     "data": {
      "application/vnd.jupyter.widget-view+json": {
       "model_id": "848804334e95458893c7172faec27730",
       "version_major": 2,
       "version_minor": 0
      },
      "text/plain": [
       "Figure(axes=[ColorAxis(orientation='vertical', scale=ColorScale(scheme='Reds'), side='right')], fig_margin={'t…"
      ]
     },
     "metadata": {},
     "output_type": "display_data"
    }
   ],
   "source": [
    "# step 1: define a scale, in this case color\n",
    "col_sc = bqplot.ColorScale(scheme=\"Reds\") # like x/y but color\n",
    "\n",
    "# step2: I am ignoring axes for now\n",
    "# first axis will be for color\n",
    "c_ax = bqplot.ColorAxis(scale = col_sc, \n",
    "                       orientation = 'vertical', \n",
    "                       side = 'right')\n",
    "\n",
    "# step 3: gridheatmap mark\n",
    "heat_map = bqplot.GridHeatMap(color=data, scales={'color':col_sc})\n",
    "\n",
    "# step 4: interaction, but ignoring for now too\n",
    "\n",
    "# step 5: put it all togehter in a figure\n",
    "fig = bqplot.Figure(marks=[heat_map], axes = [c_ax])\n",
    "fig"
   ]
  },
  {
   "cell_type": "markdown",
   "metadata": {},
   "source": [
    "Adding in x/y labels -> set their scales and axis"
   ]
  },
  {
   "cell_type": "code",
   "execution_count": 36,
   "metadata": {},
   "outputs": [
    {
     "data": {
      "application/vnd.jupyter.widget-view+json": {
       "model_id": "96aa68ba13224a63b4f7657b60cd5914",
       "version_major": 2,
       "version_minor": 0
      },
      "text/plain": [
       "Figure(axes=[ColorAxis(orientation='vertical', scale=ColorScale(scheme='Reds'), side='right'), Axis(scale=Ordi…"
      ]
     },
     "metadata": {},
     "output_type": "display_data"
    }
   ],
   "source": [
    "# step 1: define a scale, in this case color\n",
    "col_sc = bqplot.ColorScale(scheme=\"Reds\") # like x/y but color\n",
    "x_sc = bqplot.OrdinalScale() # because bins are more categorical than numerical\n",
    "y_sc = bqplot.OrdinalScale() # ... we are using a 10x10 grid of numbers, these will be bin #\n",
    "\n",
    "# step2: I am ignoring axes for now\n",
    "# first axis will be for color\n",
    "c_ax = bqplot.ColorAxis(scale = col_sc, \n",
    "                       orientation = 'vertical', \n",
    "                       side = 'right')\n",
    "# adding in x/y axis with labels\n",
    "x_ax = bqplot.Axis(scale = x_sc)\n",
    "y_ax = bqplot.Axis(scale = y_sc, orientation='vertical')\n",
    "\n",
    "# step 3: gridheatmap mark\n",
    "heat_map = bqplot.GridHeatMap(color=data, scales={'color':col_sc, \n",
    "                                                 'row': y_sc,\n",
    "                                                 'column': x_sc})\n",
    "\n",
    "# step 4: interaction, but ignoring for now too\n",
    "\n",
    "# step 5: put it all togehter in a figure\n",
    "fig = bqplot.Figure(marks=[heat_map], axes = [c_ax, x_ax, y_ax])\n",
    "fig"
   ]
  },
  {
   "cell_type": "code",
   "execution_count": 40,
   "metadata": {},
   "outputs": [
    {
     "data": {
      "application/vnd.jupyter.widget-view+json": {
       "model_id": "a38d43cd40494f71bf1b3bbd2b5965da",
       "version_major": 2,
       "version_minor": 0
      },
      "text/plain": [
       "Figure(axes=[ColorAxis(orientation='vertical', scale=ColorScale(scheme='Reds'), side='right'), Axis(scale=Ordi…"
      ]
     },
     "metadata": {},
     "output_type": "display_data"
    }
   ],
   "source": [
    "# step 1: define a scale, in this case color\n",
    "col_sc = bqplot.ColorScale(scheme=\"Reds\") # like x/y but color\n",
    "x_sc = bqplot.OrdinalScale() # because bins are more categorical than numerical\n",
    "y_sc = bqplot.OrdinalScale() # ... we are using a 10x10 grid of numbers, these will be bin #\n",
    "\n",
    "# step2: I am ignoring axes for now\n",
    "# first axis will be for color\n",
    "c_ax = bqplot.ColorAxis(scale = col_sc, \n",
    "                       orientation = 'vertical', \n",
    "                       side = 'right')\n",
    "# adding in x/y axis with labels\n",
    "x_ax = bqplot.Axis(scale = x_sc)\n",
    "y_ax = bqplot.Axis(scale = y_sc, orientation='vertical')\n",
    "\n",
    "# step 3: gridheatmap mark\n",
    "heat_map = bqplot.GridHeatMap(color=data, scales={'color':col_sc, \n",
    "                                                 'row': y_sc,\n",
    "                                                 'column': x_sc}, \n",
    "                             interactions={'click':'select'}, # an interaction associated with GHM\n",
    "                             anchor_style = {'fill':'blue'}) \n",
    "\n",
    "# step 4: interaction, but ignoring for now too\n",
    "\n",
    "# step 5: put it all togehter in a figure\n",
    "fig = bqplot.Figure(marks=[heat_map], axes = [c_ax, x_ax, y_ax])\n",
    "fig"
   ]
  },
  {
   "cell_type": "code",
   "execution_count": 43,
   "metadata": {},
   "outputs": [
    {
     "data": {
      "text/plain": [
       "array([[3, 4]])"
      ]
     },
     "execution_count": 43,
     "metadata": {},
     "output_type": "execute_result"
    }
   ],
   "source": [
    "heat_map.selected # trait of my heatmap -> can use selection to drive updates"
   ]
  },
  {
   "cell_type": "markdown",
   "metadata": {},
   "source": [
    "Use our selection to change the value of a ipywidgets.Label (print out data value)"
   ]
  },
  {
   "cell_type": "code",
   "execution_count": 44,
   "metadata": {},
   "outputs": [],
   "source": [
    "mySelectedLabel = ipywidgets.Label()"
   ]
  },
  {
   "cell_type": "code",
   "execution_count": 46,
   "metadata": {},
   "outputs": [
    {
     "data": {
      "application/vnd.jupyter.widget-view+json": {
       "model_id": "72b355e364aa4cb6b516c8c27bb4514a",
       "version_major": 2,
       "version_minor": 0
      },
      "text/plain": [
       "Label(value='Hi I am widget')"
      ]
     },
     "metadata": {},
     "output_type": "display_data"
    }
   ],
   "source": [
    "mySelectedLabel.value = 'Hi I am widget'\n",
    "mySelectedLabel"
   ]
  },
  {
   "cell_type": "code",
   "execution_count": 48,
   "metadata": {},
   "outputs": [],
   "source": [
    "# we will just print out whatever \"change\" is when a grid is selected on gridheatmap\n",
    "def on_selected(change):\n",
    "    print(change)"
   ]
  },
  {
   "cell_type": "code",
   "execution_count": 49,
   "metadata": {},
   "outputs": [
    {
     "data": {
      "application/vnd.jupyter.widget-view+json": {
       "model_id": "ab4032c4f8ff4db89c72a912f20e74c2",
       "version_major": 2,
       "version_minor": 0
      },
      "text/plain": [
       "Figure(axes=[ColorAxis(orientation='vertical', scale=ColorScale(scheme='Reds'), side='right'), Axis(scale=Ordi…"
      ]
     },
     "metadata": {},
     "output_type": "display_data"
    },
    {
     "name": "stdout",
     "output_type": "stream",
     "text": [
      "{'name': 'selected', 'old': None, 'new': array([[9, 1]]), 'owner': GridHeatMap(anchor_style={'fill': 'blue'}, color=array([[0.81919382, 0.99622246, 0.08135958, 0.60264496, 0.37817103,\n",
      "        0.90677554, 0.40405674, 0.89391348, 0.4961305 , 0.92402948],\n",
      "       [0.81820656, 0.17425324, 0.49035235, 0.37428901, 0.16130252,\n",
      "        0.11128103, 0.08305745, 0.30748096, 0.64131375, 0.60045082],\n",
      "       [0.26112295, 0.59169297, 0.36762429, 0.11297529, 0.87385117,\n",
      "        0.89740878, 0.11968837, 0.68624103, 0.05624693, 0.15498439],\n",
      "       [0.45251591, 0.43733605, 0.71688318, 0.04578347, 0.5357737 ,\n",
      "        0.49839827, 0.53770759, 0.5736234 , 0.71613683, 0.8627081 ],\n",
      "       [0.46182623, 0.97039187, 0.06966527, 0.12220345, 0.63776615,\n",
      "        0.37749169, 0.55987587, 0.06970454, 0.30961644, 0.08266948],\n",
      "       [0.21320311, 0.30790291, 0.83036939, 0.50957139, 0.8181664 ,\n",
      "        0.46253667, 0.31640393, 0.61079946, 0.17448329, 0.36096526],\n",
      "       [0.98972671, 0.3168095 , 0.78212644, 0.60416984, 0.33400787,\n",
      "        0.83612558, 0.19985929, 0.50573224, 0.84324922, 0.87697165],\n",
      "       [0.43873222, 0.02731906, 0.6661045 , 0.41586928, 0.11089267,\n",
      "        0.67829749, 0.48768361, 0.29971567, 0.55557708, 0.16063676],\n",
      "       [0.72375739, 0.95853958, 0.96512106, 0.64577718, 0.18622916,\n",
      "        0.81971971, 0.91286279, 0.12339993, 0.85762534, 0.62990166],\n",
      "       [0.08249092, 0.67772189, 0.2842589 , 0.8502236 , 0.26999423,\n",
      "        0.40163738, 0.80637171, 0.4119701 , 0.82964218, 0.99653396]]), interactions={'click': 'select'}, scales={'color': ColorScale(scheme='Reds'), 'row': OrdinalScale(), 'column': OrdinalScale()}, scales_metadata={'row': {'orientation': 'vertical', 'dimension': 'y'}, 'column': {'orientation': 'horizontal', 'dimension': 'x'}, 'color': {'dimension': 'color'}}, selected=array([[9, 1]]), tooltip_style={'opacity': 0.9}), 'type': 'change'}\n"
     ]
    }
   ],
   "source": [
    "# step 1: define a scale, in this case color\n",
    "col_sc = bqplot.ColorScale(scheme=\"Reds\") # like x/y but color\n",
    "x_sc = bqplot.OrdinalScale() # because bins are more categorical than numerical\n",
    "y_sc = bqplot.OrdinalScale() # ... we are using a 10x10 grid of numbers, these will be bin #\n",
    "\n",
    "# step2: I am ignoring axes for now\n",
    "# first axis will be for color\n",
    "c_ax = bqplot.ColorAxis(scale = col_sc, \n",
    "                       orientation = 'vertical', \n",
    "                       side = 'right')\n",
    "# adding in x/y axis with labels\n",
    "x_ax = bqplot.Axis(scale = x_sc)\n",
    "y_ax = bqplot.Axis(scale = y_sc, orientation='vertical')\n",
    "\n",
    "# step 3: gridheatmap mark\n",
    "heat_map = bqplot.GridHeatMap(color=data, scales={'color':col_sc, \n",
    "                                                 'row': y_sc,\n",
    "                                                 'column': x_sc}, \n",
    "                             interactions={'click':'select'}, # an interaction associated with GHM\n",
    "                             anchor_style = {'fill':'blue'}) \n",
    "\n",
    "# step 4: interaction\n",
    "# -> we actually defined this in the mark making call in step 3\n",
    "# now we have to define what \"action\" happens\n",
    "heat_map.observe(on_selected, 'selected')\n",
    "\n",
    "# step 5: put it all togehter in a figure\n",
    "fig = bqplot.Figure(marks=[heat_map], axes = [c_ax, x_ax, y_ax])\n",
    "fig"
   ]
  },
  {
   "cell_type": "code",
   "execution_count": 51,
   "metadata": {},
   "outputs": [],
   "source": [
    "# update our on_selected function to print out what is actually selected (indices)\n",
    "def on_selected(change):\n",
    "    print(change['owner'].selected) # print heatmap selected key"
   ]
  },
  {
   "cell_type": "code",
   "execution_count": 52,
   "metadata": {},
   "outputs": [
    {
     "data": {
      "application/vnd.jupyter.widget-view+json": {
       "model_id": "bf0e0693199b4d19829681ede3bd60b9",
       "version_major": 2,
       "version_minor": 0
      },
      "text/plain": [
       "Figure(axes=[ColorAxis(orientation='vertical', scale=ColorScale(scheme='Reds'), side='right'), Axis(scale=Ordi…"
      ]
     },
     "metadata": {},
     "output_type": "display_data"
    },
    {
     "name": "stdout",
     "output_type": "stream",
     "text": [
      "[[2 2]]\n",
      "[[2 1]]\n",
      "[[2 2]\n",
      " [2 1]]\n",
      "[[1 2]\n",
      " [1 1]\n",
      " [2 1]\n",
      " [2 2]]\n",
      "[[2 6]]\n"
     ]
    }
   ],
   "source": [
    "# step 1: define a scale, in this case color\n",
    "col_sc = bqplot.ColorScale(scheme=\"Reds\") # like x/y but color\n",
    "x_sc = bqplot.OrdinalScale() # because bins are more categorical than numerical\n",
    "y_sc = bqplot.OrdinalScale() # ... we are using a 10x10 grid of numbers, these will be bin #\n",
    "\n",
    "# step2: I am ignoring axes for now\n",
    "# first axis will be for color\n",
    "c_ax = bqplot.ColorAxis(scale = col_sc, \n",
    "                       orientation = 'vertical', \n",
    "                       side = 'right')\n",
    "# adding in x/y axis with labels\n",
    "x_ax = bqplot.Axis(scale = x_sc)\n",
    "y_ax = bqplot.Axis(scale = y_sc, orientation='vertical')\n",
    "\n",
    "# step 3: gridheatmap mark\n",
    "heat_map = bqplot.GridHeatMap(color=data, scales={'color':col_sc, \n",
    "                                                 'row': y_sc,\n",
    "                                                 'column': x_sc}, \n",
    "                             interactions={'click':'select'}, # an interaction associated with GHM\n",
    "                             anchor_style = {'fill':'blue'}) \n",
    "\n",
    "# step 4: interaction\n",
    "# -> we actually defined this in the mark making call in step 3\n",
    "# now we have to define what \"action\" happens\n",
    "heat_map.observe(on_selected, 'selected')\n",
    "\n",
    "# step 5: put it all togehter in a figure\n",
    "fig = bqplot.Figure(marks=[heat_map], axes = [c_ax, x_ax, y_ax])\n",
    "fig"
   ]
  },
  {
   "cell_type": "code",
   "execution_count": 53,
   "metadata": {},
   "outputs": [],
   "source": [
    "# we only want to deal with selections of one grid\n",
    "# ignore any SHIFT-selects\n",
    "def on_selected(change):\n",
    "    if len(change['owner'].selected) == 1: # only selecting 1 element at a time\n",
    "        print(change['owner'].selected[0]) # print just the first index selected"
   ]
  },
  {
   "cell_type": "code",
   "execution_count": 54,
   "metadata": {},
   "outputs": [
    {
     "data": {
      "application/vnd.jupyter.widget-view+json": {
       "model_id": "b25f8e25e8d041e19aa57ffc6d8dad9f",
       "version_major": 2,
       "version_minor": 0
      },
      "text/plain": [
       "Figure(axes=[ColorAxis(orientation='vertical', scale=ColorScale(scheme='Reds'), side='right'), Axis(scale=Ordi…"
      ]
     },
     "metadata": {},
     "output_type": "display_data"
    },
    {
     "name": "stdout",
     "output_type": "stream",
     "text": [
      "[2 3]\n",
      "[3 2]\n",
      "[1 4]\n",
      "[1 5]\n",
      "[2 5]\n",
      "[3 1]\n",
      "[2 4]\n",
      "[2 7]\n"
     ]
    }
   ],
   "source": [
    "# step 1: define a scale, in this case color\n",
    "col_sc = bqplot.ColorScale(scheme=\"Reds\") # like x/y but color\n",
    "x_sc = bqplot.OrdinalScale() # because bins are more categorical than numerical\n",
    "y_sc = bqplot.OrdinalScale() # ... we are using a 10x10 grid of numbers, these will be bin #\n",
    "\n",
    "# step2: I am ignoring axes for now\n",
    "# first axis will be for color\n",
    "c_ax = bqplot.ColorAxis(scale = col_sc, \n",
    "                       orientation = 'vertical', \n",
    "                       side = 'right')\n",
    "# adding in x/y axis with labels\n",
    "x_ax = bqplot.Axis(scale = x_sc)\n",
    "y_ax = bqplot.Axis(scale = y_sc, orientation='vertical')\n",
    "\n",
    "# step 3: gridheatmap mark\n",
    "heat_map = bqplot.GridHeatMap(color=data, scales={'color':col_sc, \n",
    "                                                 'row': y_sc,\n",
    "                                                 'column': x_sc}, \n",
    "                             interactions={'click':'select'}, # an interaction associated with GHM\n",
    "                             anchor_style = {'fill':'blue'}) \n",
    "\n",
    "# step 4: interaction\n",
    "# -> we actually defined this in the mark making call in step 3\n",
    "# now we have to define what \"action\" happens\n",
    "heat_map.observe(on_selected, 'selected')\n",
    "\n",
    "# step 5: put it all togehter in a figure\n",
    "fig = bqplot.Figure(marks=[heat_map], axes = [c_ax, x_ax, y_ax])\n",
    "fig"
   ]
  },
  {
   "cell_type": "code",
   "execution_count": 55,
   "metadata": {},
   "outputs": [],
   "source": [
    "# Let's grab our datavalue at this location and then set our ipywidget.Label to\n",
    "#.  display this value\n",
    "\n",
    "# we only want to deal with selections of one grid\n",
    "# ignore any SHIFT-selects\n",
    "def on_selected(change):\n",
    "    if len(change['owner'].selected) == 1: # only selecting 1 element at a time\n",
    "        #print(change['owner'].selected[0]) # print just the first index selected\n",
    "        j, i = change['owner'].selected[0] # y & x indicies\n",
    "        v = data[i,j] # x, y indicies, grab data value at this location\n",
    "        mySelectedLabel.value = 'Data Value = ' + str(v) # update widget label with this value"
   ]
  },
  {
   "cell_type": "code",
   "execution_count": 56,
   "metadata": {},
   "outputs": [],
   "source": [
    "# step 1: define a scale, in this case color\n",
    "col_sc = bqplot.ColorScale(scheme=\"Reds\") # like x/y but color\n",
    "x_sc = bqplot.OrdinalScale() # because bins are more categorical than numerical\n",
    "y_sc = bqplot.OrdinalScale() # ... we are using a 10x10 grid of numbers, these will be bin #\n",
    "\n",
    "# step2: I am ignoring axes for now\n",
    "# first axis will be for color\n",
    "c_ax = bqplot.ColorAxis(scale = col_sc, \n",
    "                       orientation = 'vertical', \n",
    "                       side = 'right')\n",
    "# adding in x/y axis with labels\n",
    "x_ax = bqplot.Axis(scale = x_sc)\n",
    "y_ax = bqplot.Axis(scale = y_sc, orientation='vertical')\n",
    "\n",
    "# step 3: gridheatmap mark\n",
    "heat_map = bqplot.GridHeatMap(color=data, scales={'color':col_sc, \n",
    "                                                 'row': y_sc,\n",
    "                                                 'column': x_sc}, \n",
    "                             interactions={'click':'select'}, # an interaction associated with GHM\n",
    "                             anchor_style = {'fill':'blue'}) \n",
    "\n",
    "# step 4: interaction\n",
    "# -> we actually defined this in the mark making call in step 3\n",
    "# now we have to define what \"action\" happens\n",
    "heat_map.observe(on_selected, 'selected')\n",
    "\n",
    "# step 5: put it all togehter in a figure\n",
    "fig = bqplot.Figure(marks=[heat_map], axes = [c_ax, x_ax, y_ax])\n",
    "#fig"
   ]
  },
  {
   "cell_type": "code",
   "execution_count": 58,
   "metadata": {},
   "outputs": [
    {
     "data": {
      "application/vnd.jupyter.widget-view+json": {
       "model_id": "640024a7fa2947d68e342b0eeab67a9b",
       "version_major": 2,
       "version_minor": 0
      },
      "text/plain": [
       "VBox(children=(Label(value='Hi I am widget'), Figure(axes=[ColorAxis(orientation='vertical', scale=ColorScale(…"
      ]
     },
     "metadata": {},
     "output_type": "display_data"
    }
   ],
   "source": [
    "# use a vertical box to stack both the label and the figure\n",
    "myDashboard = ipywidgets.VBox([mySelectedLabel, fig])\n",
    "myDashboard"
   ]
  },
  {
   "cell_type": "markdown",
   "metadata": {},
   "source": [
    "## 3D data -> dashboard"
   ]
  },
  {
   "cell_type": "code",
   "execution_count": 59,
   "metadata": {},
   "outputs": [],
   "source": [
    "data = np.random.random( (10, 10, 20))"
   ]
  },
  {
   "cell_type": "code",
   "execution_count": 61,
   "metadata": {},
   "outputs": [
    {
     "data": {
      "text/plain": [
       "(10, 10, 20)"
      ]
     },
     "execution_count": 61,
     "metadata": {},
     "output_type": "execute_result"
    }
   ],
   "source": [
    "data.shape"
   ]
  },
  {
   "cell_type": "markdown",
   "metadata": {},
   "source": [
    "Starting back with our base heatmap:"
   ]
  },
  {
   "cell_type": "code",
   "execution_count": 62,
   "metadata": {},
   "outputs": [
    {
     "data": {
      "application/vnd.jupyter.widget-view+json": {
       "model_id": "e7d85f809efa421a9c9e42dc5d5762d0",
       "version_major": 2,
       "version_minor": 0
      },
      "text/plain": [
       "Figure(axes=[ColorAxis(orientation='vertical', scale=ColorScale(scheme='Reds'), side='right'), Axis(scale=Ordi…"
      ]
     },
     "metadata": {},
     "output_type": "display_data"
    }
   ],
   "source": [
    "# step 1: define a scale, in this case color\n",
    "col_sc = bqplot.ColorScale(scheme=\"Reds\") # like x/y but color\n",
    "x_sc = bqplot.OrdinalScale() # because bins are more categorical than numerical\n",
    "y_sc = bqplot.OrdinalScale() # .. we are using a 10x10 grid of numbers, these will be bin #\n",
    "\n",
    "# step2: I am ignoring axes for now\n",
    "# first axis will be for color\n",
    "c_ax = bqplot.ColorAxis(scale = col_sc, \n",
    "                       orientation = 'vertical', \n",
    "                       side = 'right')\n",
    "# adding in x/y axis with labels\n",
    "x_ax = bqplot.Axis(scale = x_sc)\n",
    "y_ax = bqplot.Axis(scale = y_sc, orientation='vertical')\n",
    "\n",
    "# step 3: gridheatmap mark\n",
    "heat_map = bqplot.GridHeatMap(color=np.sum(data,axis=2), scales={'color':col_sc, \n",
    "                                                 'row': y_sc,\n",
    "                                                 'column': x_sc}, \n",
    "                             interactions={'click':'select'}, # an interaction associated with GHM\n",
    "                             anchor_style = {'fill':'blue'}) \n",
    "\n",
    "# step 4: interaction\n",
    "# -> we actually defined this in the mark making call in step 3\n",
    "# now we have to define what \"action\" happens\n",
    "heat_map.observe(on_selected, 'selected')\n",
    "\n",
    "# step 5: put it all togehter in a figure\n",
    "fig = bqplot.Figure(marks=[heat_map], axes = [c_ax, x_ax, y_ax])\n",
    "fig"
   ]
  },
  {
   "cell_type": "code",
   "execution_count": 75,
   "metadata": {},
   "outputs": [],
   "source": [
    "mySelectedLabel = ipywidgets.Label()"
   ]
  },
  {
   "cell_type": "code",
   "execution_count": 76,
   "metadata": {},
   "outputs": [],
   "source": [
    "# Let's grab our datavalue at this location and then set our ipywidget.Label to\n",
    "#  display this value\n",
    "\n",
    "# we only want to deal with selections of one grid\n",
    "# ignore any SHIFT-selects\n",
    "def on_selected_3d(change):\n",
    "    if len(change['owner'].selected) == 1: # only selecting 1 element at a time\n",
    "        j, i = change['owner'].selected[0] # y & x indicies\n",
    "        v = data[i,j].sum() # x, y indicies, grab data value at this location\n",
    "        mySelectedLabel.value = 'Data Sum = ' + str(v) # update widget label with this value"
   ]
  },
  {
   "cell_type": "code",
   "execution_count": 77,
   "metadata": {},
   "outputs": [],
   "source": [
    "# step 1: define a scale, in this case color\n",
    "col_sc = bqplot.ColorScale(scheme=\"Reds\") # like x/y but color\n",
    "x_sc = bqplot.OrdinalScale() # because bins are more categorical than numerical\n",
    "y_sc = bqplot.OrdinalScale() # .. we are using a 10x10 grid of numbers, these will be bin #\n",
    "\n",
    "# step2: I am ignoring axes for now\n",
    "# first axis will be for color\n",
    "c_ax = bqplot.ColorAxis(scale = col_sc, \n",
    "                       orientation = 'vertical', \n",
    "                       side = 'right')\n",
    "# adding in x/y axis with labels\n",
    "x_ax = bqplot.Axis(scale = x_sc)\n",
    "y_ax = bqplot.Axis(scale = y_sc, orientation='vertical')\n",
    "\n",
    "# step 3: gridheatmap mark\n",
    "heat_map = bqplot.GridHeatMap(color=np.sum(data,axis=2), scales={'color':col_sc, \n",
    "                                                 'row': y_sc,\n",
    "                                                 'column': x_sc}, \n",
    "                             interactions={'click':'select'}, # an interaction associated with GHM\n",
    "                             anchor_style = {'fill':'blue'}) \n",
    "\n",
    "# step 4: interaction\n",
    "# -> we actually defined this in the mark making call in step 3\n",
    "# now we have to define what \"action\" happens\n",
    "heat_map.observe(on_selected_3d, 'selected')\n",
    "\n",
    "# step 5: put it all togehter in a figure\n",
    "fig = bqplot.Figure(marks=[heat_map], axes = [c_ax, x_ax, y_ax])\n",
    "#fig"
   ]
  },
  {
   "cell_type": "code",
   "execution_count": 78,
   "metadata": {},
   "outputs": [
    {
     "data": {
      "application/vnd.jupyter.widget-view+json": {
       "model_id": "9e84071149d9407d9deefa861911cdbb",
       "version_major": 2,
       "version_minor": 0
      },
      "text/plain": [
       "VBox(children=(Label(value=''), Figure(axes=[ColorAxis(orientation='vertical', scale=ColorScale(scheme='Reds')…"
      ]
     },
     "metadata": {},
     "output_type": "display_data"
    }
   ],
   "source": [
    "# use a vertical box to stack both the label and the figure\n",
    "myDashboard = ipywidgets.VBox([mySelectedLabel, fig])\n",
    "myDashboard"
   ]
  },
  {
   "cell_type": "markdown",
   "metadata": {},
   "source": [
    "Let's start with just 1 histogram at one x/y index:"
   ]
  },
  {
   "cell_type": "code",
   "execution_count": 79,
   "metadata": {},
   "outputs": [],
   "source": [
    "i, j = 0,0 # selecting the 20 points at x/y = 0,0"
   ]
  },
  {
   "cell_type": "code",
   "execution_count": 81,
   "metadata": {},
   "outputs": [],
   "source": [
    "# step 1: scales for histogram\n",
    "x_sch = bqplot.LinearScale() # range of data along Z -axis => 0->1\n",
    "y_sch = bqplot.LinearScale() # frequency, counts\n",
    "\n",
    "# step 2: axis for histogram\n",
    "x_axh = bqplot.Axis(scale = x_sch, label='Value of 3rd axis')\n",
    "y_axh = bqplot.Axis(scale = y_sch, \n",
    "                   orientation='vertical',\n",
    "                   label = 'Frequency')\n",
    "\n",
    "# step 3: marks => histogram\n",
    "hist = bqplot.Hist(sample=data[i,j,:], # sample is required for mark of Histogram\n",
    "                  normalized=False, # plotting frequency not prob. distribution\n",
    "                  scales={'sample':x_sch, 'count':y_sch}, \n",
    "                  bins=5)"
   ]
  },
  {
   "cell_type": "code",
   "execution_count": 82,
   "metadata": {},
   "outputs": [
    {
     "data": {
      "application/vnd.jupyter.widget-view+json": {
       "model_id": "7a6275b028654affb93bcd6d359dc3bb",
       "version_major": 2,
       "version_minor": 0
      },
      "text/plain": [
       "Figure(axes=[Axis(label='Value of 3rd axis', scale=LinearScale(), side='bottom'), Axis(label='Frequency', orie…"
      ]
     },
     "metadata": {},
     "output_type": "display_data"
    }
   ],
   "source": [
    "# let's take a look\n",
    "# step 4: no interactions (because we want changes in gridheapmap to drive changes in hist)\n",
    "\n",
    "# step 5: put it all together\n",
    "fig_hist = bqplot.Figure(marks=[hist], axes=[x_axh, y_axh])\n",
    "fig_hist"
   ]
  },
  {
   "cell_type": "code",
   "execution_count": 84,
   "metadata": {},
   "outputs": [
    {
     "data": {
      "text/plain": [
       "array([0.9511319 , 0.38342102, 0.13180398, 0.467372  , 0.87930711,\n",
       "       0.21056163, 0.63465908, 0.06243695, 0.27375508, 0.70833129,\n",
       "       0.04303475, 0.84368255, 0.98652019, 0.20432917, 0.33958188,\n",
       "       0.97226996, 0.02692581, 0.01815797, 0.91364864, 0.61864666])"
      ]
     },
     "execution_count": 84,
     "metadata": {},
     "output_type": "execute_result"
    }
   ],
   "source": [
    "hist.sample"
   ]
  },
  {
   "cell_type": "markdown",
   "metadata": {},
   "source": [
    "We want to update this sample based on what is selected in our GridHeatMap.\n",
    "\n",
    "Define what is happening when we select something:"
   ]
  },
  {
   "cell_type": "code",
   "execution_count": 86,
   "metadata": {},
   "outputs": [],
   "source": [
    "# Let's grab our datavalue at this location and then set our ipywidget.Label to\n",
    "#  display this value\n",
    "\n",
    "# we only want to deal with selections of one grid\n",
    "# ignore any SHIFT-selects\n",
    "def on_selected_3d(change):\n",
    "    if len(change['owner'].selected) == 1: # only selecting 1 element at a time\n",
    "        j, i = change['owner'].selected[0] # y & x indicies\n",
    "        v = data[i,j].sum() # x, y indicies, grab data value at this location\n",
    "        mySelectedLabel.value = 'Data Sum = ' + str(v) # update widget label with this value\n",
    "        # now including updates to the histogram sample key\n",
    "        hist.sample = data[i,j,:]"
   ]
  },
  {
   "cell_type": "markdown",
   "metadata": {},
   "source": [
    "Now create the heat-map and observe for selection => when selection happens update everything else based on the 'selected' trait of the gridheatmap:"
   ]
  },
  {
   "cell_type": "code",
   "execution_count": 87,
   "metadata": {},
   "outputs": [],
   "source": [
    "# step 1: define a scale, in this case color\n",
    "col_sc = bqplot.ColorScale(scheme=\"Reds\") # like x/y but color\n",
    "x_sc = bqplot.OrdinalScale() # because bins are more categorical than numerical\n",
    "y_sc = bqplot.OrdinalScale() # .. we are using a 10x10 grid of numbers, these will be bin #\n",
    "\n",
    "# step2: I am ignoring axes for now\n",
    "# first axis will be for color\n",
    "c_ax = bqplot.ColorAxis(scale = col_sc, \n",
    "                       orientation = 'vertical', \n",
    "                       side = 'right')\n",
    "# adding in x/y axis with labels\n",
    "x_ax = bqplot.Axis(scale = x_sc)\n",
    "y_ax = bqplot.Axis(scale = y_sc, orientation='vertical')\n",
    "\n",
    "# step 3: gridheatmap mark\n",
    "heat_map = bqplot.GridHeatMap(color=np.sum(data,axis=2), scales={'color':col_sc, \n",
    "                                                 'row': y_sc,\n",
    "                                                 'column': x_sc}, \n",
    "                             interactions={'click':'select'}, # an interaction associated with GHM\n",
    "                             anchor_style = {'fill':'blue'}) \n",
    "\n",
    "# step 4: interaction\n",
    "# -> we actually defined this in the mark making call in step 3\n",
    "# now we have to define what \"action\" happens\n",
    "heat_map.observe(on_selected_3d, 'selected')\n",
    "\n",
    "# step 5: put it all togehter in a figure\n",
    "fig = bqplot.Figure(marks=[heat_map], axes = [c_ax, x_ax, y_ax])\n",
    "#fig"
   ]
  },
  {
   "cell_type": "markdown",
   "metadata": {},
   "source": [
    "Just for fun: re-create the histogram:"
   ]
  },
  {
   "cell_type": "code",
   "execution_count": 88,
   "metadata": {},
   "outputs": [],
   "source": [
    "# step 1: scales for histogram\n",
    "x_sch = bqplot.LinearScale() # range of data along Z -axis => 0->1\n",
    "y_sch = bqplot.LinearScale() # frequency, counts\n",
    "\n",
    "# step 2: axis for histogram\n",
    "x_axh = bqplot.Axis(scale = x_sch, label='Value of 3rd axis')\n",
    "y_axh = bqplot.Axis(scale = y_sch, \n",
    "                   orientation='vertical',\n",
    "                   label = 'Frequency')\n",
    "\n",
    "# step 3: marks => histogram\n",
    "hist = bqplot.Hist(sample=data[i,j,:], # sample is required for mark of Histogram\n",
    "                  normalized=False, # plotting frequency not prob. distribution\n",
    "                  scales={'sample':x_sch, 'count':y_sch}, \n",
    "                  bins=5)\n",
    "\n",
    "# let's take a look\n",
    "# step 4: no interactions (because we want changes in gridheapmap to drive changes in hist)\n",
    "\n",
    "# step 5: put it all together\n",
    "fig_hist = bqplot.Figure(marks=[hist], axes=[x_axh, y_axh])"
   ]
  },
  {
   "cell_type": "code",
   "execution_count": 92,
   "metadata": {},
   "outputs": [
    {
     "data": {
      "application/vnd.jupyter.widget-view+json": {
       "model_id": "aaac5852bd0343c7a9e03812db7a809e",
       "version_major": 2,
       "version_minor": 0
      },
      "text/plain": [
       "VBox(children=(Label(value='Data Sum = 9.63498242161696'), HBox(children=(Figure(axes=[ColorAxis(orientation='…"
      ]
     },
     "metadata": {},
     "output_type": "display_data"
    }
   ],
   "source": [
    "# layout - nested HBox & VBox\n",
    "figures = ipywidgets.HBox([fig, fig_hist])\n",
    "\n",
    "# change how big my figures appear on my output\n",
    "fig.layout.min_width='400px'\n",
    "fig_hist.layout.min_width='400px'\n",
    "\n",
    "# dashboard\n",
    "myDashboard = ipywidgets.VBox([mySelectedLabel, figures])\n",
    "myDashboard"
   ]
  },
  {
   "cell_type": "code",
   "execution_count": null,
   "metadata": {},
   "outputs": [],
   "source": []
  }
 ],
 "metadata": {
  "kernelspec": {
   "display_name": "Python 3",
   "language": "python",
   "name": "python3"
  },
  "language_info": {
   "codemirror_mode": {
    "name": "ipython",
    "version": 3
   },
   "file_extension": ".py",
   "mimetype": "text/x-python",
   "name": "python",
   "nbconvert_exporter": "python",
   "pygments_lexer": "ipython3",
   "version": "3.7.6"
  }
 },
 "nbformat": 4,
 "nbformat_minor": 4
}
