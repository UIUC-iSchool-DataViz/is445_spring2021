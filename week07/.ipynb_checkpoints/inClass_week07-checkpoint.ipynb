{
 "cells": [
  {
   "cell_type": "markdown",
   "id": "greek-video",
   "metadata": {},
   "source": [
    "# In Class Notebook, Week 07"
   ]
  },
  {
   "cell_type": "markdown",
   "id": "growing-destiny",
   "metadata": {},
   "source": [
    "You can always paste the URL of this notebook (https://github.com/UIUC-iSchool-DataViz/is445_spring2021/blob/master/week07/inClass_week07.ipynb ) into the nbviewer interface for a plain-text rendering:\n",
    "\n",
    "https://kokes.github.io/nbviewer.js/viewer.html"
   ]
  },
  {
   "cell_type": "markdown",
   "id": "cardiac-radar",
   "metadata": {},
   "source": [
    "I am still typing."
   ]
  },
  {
   "cell_type": "markdown",
   "id": "mechanical-serve",
   "metadata": {},
   "source": [
    "More typing too."
   ]
  },
  {
   "cell_type": "code",
   "execution_count": null,
   "id": "fifty-young",
   "metadata": {},
   "outputs": [],
   "source": [
    "More here"
   ]
  }
 ],
 "metadata": {
  "kernelspec": {
   "display_name": "Python 3",
   "language": "python",
   "name": "python3"
  },
  "language_info": {
   "codemirror_mode": {
    "name": "ipython",
    "version": 3
   },
   "file_extension": ".py",
   "mimetype": "text/x-python",
   "name": "python",
   "nbconvert_exporter": "python",
   "pygments_lexer": "ipython3",
   "version": "3.7.9"
  }
 },
 "nbformat": 4,
 "nbformat_minor": 5
}
