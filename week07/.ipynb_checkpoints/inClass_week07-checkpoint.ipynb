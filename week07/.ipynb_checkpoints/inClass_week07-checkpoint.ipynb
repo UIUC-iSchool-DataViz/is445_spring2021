{
 "cells": [
  {
   "cell_type": "markdown",
   "id": "charitable-luther",
   "metadata": {},
   "source": [
    "# In Class Notebook, Week 07"
   ]
  },
  {
   "cell_type": "markdown",
   "id": "discrete-madonna",
   "metadata": {},
   "source": [
    "You can always paste the URL of this notebook (https://github.com/UIUC-iSchool-DataViz/is445_spring2021/blob/master/week07/inClass_week07.ipynb ) into the nbviewer interface for a plain-text rendering:\n",
    "\n",
    "https://kokes.github.io/nbviewer.js/viewer.html"
   ]
  },
  {
   "cell_type": "markdown",
   "id": "decreased-tobacco",
   "metadata": {},
   "source": [
    "I am still typing."
   ]
  },
  {
   "cell_type": "markdown",
   "id": "nominated-dialogue",
   "metadata": {},
   "source": [
    "More typing too."
   ]
  },
  {
   "cell_type": "markdown",
   "id": "decreased-wellington",
   "metadata": {},
   "source": [
    "More here"
   ]
  },
  {
   "cell_type": "code",
   "execution_count": 1,
   "id": "adolescent-ecology",
   "metadata": {},
   "outputs": [
    {
     "ename": "SyntaxError",
     "evalue": "invalid syntax (<ipython-input-1-0932fc9ab271>, line 1)",
     "output_type": "error",
     "traceback": [
      "\u001b[0;36m  File \u001b[0;32m\"<ipython-input-1-0932fc9ab271>\"\u001b[0;36m, line \u001b[0;32m1\u001b[0m\n\u001b[0;31m    And more so.\u001b[0m\n\u001b[0m           ^\u001b[0m\n\u001b[0;31mSyntaxError\u001b[0m\u001b[0;31m:\u001b[0m invalid syntax\n"
     ]
    }
   ],
   "source": [
    "And more so."
   ]
  },
  {
   "cell_type": "code",
   "execution_count": null,
   "id": "indie-delivery",
   "metadata": {},
   "outputs": [],
   "source": []
  }
 ],
 "metadata": {
  "kernelspec": {
   "display_name": "Python 3",
   "language": "python",
   "name": "python3"
  },
  "language_info": {
   "codemirror_mode": {
    "name": "ipython",
    "version": 3
   },
   "file_extension": ".py",
   "mimetype": "text/x-python",
   "name": "python",
   "nbconvert_exporter": "python",
   "pygments_lexer": "ipython3",
   "version": "3.7.9"
  }
 },
 "nbformat": 4,
 "nbformat_minor": 5
}
