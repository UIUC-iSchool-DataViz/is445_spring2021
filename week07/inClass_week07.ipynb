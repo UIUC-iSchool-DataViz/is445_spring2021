{
 "cells": [
  {
   "cell_type": "markdown",
   "id": "ranking-essex",
   "metadata": {},
   "source": [
    "# In Class Notebook, Week 07"
   ]
  },
  {
   "cell_type": "markdown",
   "id": "cognitive-active",
   "metadata": {},
   "source": [
    "You can always paste the URL of this notebook (https://github.com/UIUC-iSchool-DataViz/is445_spring2021/blob/master/week07/inClass_week07.ipynb ) into the nbviewer interface for a plain-text rendering:\n",
    "\n",
    "https://kokes.github.io/nbviewer.js/viewer.html"
   ]
  },
  {
   "cell_type": "markdown",
   "id": "generic-campus",
   "metadata": {},
   "source": [
    "## Start off with bqplot"
   ]
  },
  {
   "cell_type": "code",
   "execution_count": 2,
   "id": "given-context",
   "metadata": {},
   "outputs": [],
   "source": [
    "import bqplot\n",
    "# for later:\n",
    "import geopandas\n",
    "import numpy as np\n",
    "import pandas as pd\n",
    "import matplotlib.pyplot"
   ]
  },
  {
   "cell_type": "code",
   "execution_count": 3,
   "id": "continued-debate",
   "metadata": {},
   "outputs": [
    {
     "data": {
      "application/vnd.jupyter.widget-view+json": {
       "model_id": "0ba79538cdaf41db8296a5d7a26f78b7",
       "version_major": 2,
       "version_minor": 0
      },
      "text/plain": [
       "Figure(fig_margin={'top': 60, 'bottom': 60, 'left': 60, 'right': 60}, marks=[Map(hovered_styles={'hovered_fill…"
      ]
     },
     "metadata": {},
     "output_type": "display_data"
    }
   ],
   "source": [
    "# 1. Data shape data (data/axis)\n",
    "shape_data = bqplot.topo_load('map_data/WorldMap.json')\n",
    "\n",
    "# 2. Scales\n",
    "sc_geo = bqplot.Mercator()\n",
    "\n",
    "# 3. Axis (sort of in #1)\n",
    "\n",
    "# 4. Marks\n",
    "shape_map = bqplot.Map(map_data=shape_data, scales={'projection':sc_geo})\n",
    "\n",
    "# put it together as a figure\n",
    "fig = bqplot.Figure(marks=[shape_map])\n",
    "fig"
   ]
  },
  {
   "cell_type": "code",
   "execution_count": 4,
   "id": "great-geometry",
   "metadata": {},
   "outputs": [
    {
     "data": {
      "application/vnd.jupyter.widget-view+json": {
       "model_id": "96c8624d583245239089bc3c086c3550",
       "version_major": 2,
       "version_minor": 0
      },
      "text/plain": [
       "Figure(fig_margin={'top': 60, 'bottom': 60, 'left': 60, 'right': 60}, marks=[Map(hovered_styles={'hovered_fill…"
      ]
     },
     "metadata": {},
     "output_type": "display_data"
    }
   ],
   "source": [
    "# 1. Data shape data (data/axis)\n",
    "shape_data = bqplot.topo_load('map_data/WorldMap.json')\n",
    "\n",
    "# 2. Scales\n",
    "sc_geo = bqplot.Gnomonic()\n",
    "\n",
    "# 3. Axis (sort of in #1)\n",
    "\n",
    "# 4. Marks\n",
    "shape_map = bqplot.Map(map_data=shape_data, scales={'projection':sc_geo})\n",
    "\n",
    "# put it together as a figure\n",
    "fig = bqplot.Figure(marks=[shape_map])\n",
    "fig"
   ]
  },
  {
   "cell_type": "code",
   "execution_count": 6,
   "id": "competitive-optimization",
   "metadata": {},
   "outputs": [
    {
     "data": {
      "application/vnd.jupyter.widget-view+json": {
       "model_id": "c3f4a16dcee04884b974229d4194b606",
       "version_major": 2,
       "version_minor": 0
      },
      "text/plain": [
       "Figure(fig_margin={'top': 60, 'bottom': 60, 'left': 60, 'right': 60}, marks=[Map(hovered_styles={'hovered_fill…"
      ]
     },
     "metadata": {},
     "output_type": "display_data"
    }
   ],
   "source": [
    "# 1. Data shape data (data/axis)\n",
    "shape_data = bqplot.topo_load('map_data/USStatesMap.json')\n",
    "\n",
    "# 2. Scales\n",
    "sc_geo = bqplot.AlbersUSA()\n",
    "\n",
    "# 3. Axis (sort of in #1)\n",
    "\n",
    "# 4. Marks\n",
    "shape_map = bqplot.Map(map_data=shape_data, scales={'projection':sc_geo})\n",
    "\n",
    "# put it together as a figure\n",
    "fig = bqplot.Figure(marks=[shape_map])\n",
    "fig"
   ]
  },
  {
   "cell_type": "code",
   "execution_count": 7,
   "id": "mathematical-amino",
   "metadata": {},
   "outputs": [
    {
     "name": "stdout",
     "output_type": "stream",
     "text": [
      "EuropeMap.json     USCountiesMap.json USStatesMap.json   WorldMap.json\r\n"
     ]
    }
   ],
   "source": [
    "!ls ~/opt/anaconda3/pkgs/bqplot-0.12.2-py_0/site-packages/bqplot/map_data"
   ]
  },
  {
   "cell_type": "code",
   "execution_count": null,
   "id": "innovative-cycle",
   "metadata": {},
   "outputs": [],
   "source": []
  }
 ],
 "metadata": {
  "kernelspec": {
   "display_name": "Python 3",
   "language": "python",
   "name": "python3"
  },
  "language_info": {
   "codemirror_mode": {
    "name": "ipython",
    "version": 3
   },
   "file_extension": ".py",
   "mimetype": "text/x-python",
   "name": "python",
   "nbconvert_exporter": "python",
   "pygments_lexer": "ipython3",
   "version": "3.7.9"
  }
 },
 "nbformat": 4,
 "nbformat_minor": 5
}
