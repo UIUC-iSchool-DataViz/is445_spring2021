{
 "cells": [
  {
   "cell_type": "markdown",
   "id": "innovative-airplane",
   "metadata": {},
   "source": [
    "# In Class Notebook, Week 14"
   ]
  },
  {
   "cell_type": "markdown",
   "id": "recovered-dimension",
   "metadata": {},
   "source": [
    "You can always paste the URL of this notebook (https://github.com/UIUC-iSchool-DataViz/is445_spring2021/blob/master/week14/inClass_week14.ipynb ) into the nbviewer interface for a plain-text rendering:\n",
    "\n",
    "https://kokes.github.io/nbviewer.js/viewer.html"
   ]
  },
  {
   "cell_type": "markdown",
   "id": "accessible-segment",
   "metadata": {},
   "source": [
    "Let me write something!"
   ]
  },
  {
   "cell_type": "markdown",
   "id": "exclusive-cooler",
   "metadata": {},
   "source": [
    "Before yt, let's check out ipyvolume\n",
    "\n",
    "## ipyvolume"
   ]
  },
  {
   "cell_type": "code",
   "execution_count": 1,
   "id": "eligible-owner",
   "metadata": {},
   "outputs": [],
   "source": [
    "# import our usual things\n",
    "import numpy as np\n",
    "import pandas as pd\n",
    "import ipyvolume"
   ]
  },
  {
   "cell_type": "code",
   "execution_count": 2,
   "id": "adjacent-license",
   "metadata": {},
   "outputs": [],
   "source": [
    "x, y, z = np.random.random((3, 100)) # 3 dimensions, 100 points total"
   ]
  },
  {
   "cell_type": "code",
   "execution_count": 7,
   "id": "maritime-syria",
   "metadata": {},
   "outputs": [],
   "source": [
    "ipyvolume.quickscatter?"
   ]
  },
  {
   "cell_type": "code",
   "execution_count": 8,
   "id": "available-employment",
   "metadata": {},
   "outputs": [
    {
     "data": {
      "application/vnd.jupyter.widget-view+json": {
       "model_id": "baf14fc09dcb4a988cb0c183a490d891",
       "version_major": 2,
       "version_minor": 0
      },
      "text/plain": [
       "VBox(children=(Figure(camera=PerspectiveCamera(fov=45.0, position=(0.0, 0.0, 2.0), projectionMatrix=(1.0, 0.0,…"
      ]
     },
     "metadata": {},
     "output_type": "display_data"
    }
   ],
   "source": [
    "# quick 3d scatter plot\n",
    "ipyvolume.quickscatter(x,y,z, size=5, marker='diamond')"
   ]
  },
  {
   "cell_type": "markdown",
   "id": "caring-grace",
   "metadata": {},
   "source": [
    "Now using \"real\" data -- data from a VERY low resolution simulation of 2 galaxies colliding. (Galaxies are collections of billions of stars, we live in the Milky Way galaxy, our star (the Sun!) is about 1/2 out on a disk of stars in the Milky Way)."
   ]
  },
  {
   "cell_type": "code",
   "execution_count": 9,
   "id": "fitting-natural",
   "metadata": {},
   "outputs": [],
   "source": [
    "galaxy_file = '/Users/jillnaiman/Downloads/outarrsnap_001_fac1n3.txt'"
   ]
  },
  {
   "cell_type": "markdown",
   "id": "internal-necklace",
   "metadata": {},
   "source": [
    "We note: the data is super confusing to look at!  Luckily there is a data reader -- solverlibs.py -- included in the galaxyFiles.zip!"
   ]
  },
  {
   "cell_type": "code",
   "execution_count": 22,
   "id": "available-humor",
   "metadata": {},
   "outputs": [],
   "source": [
    "# to load solver -- can copy to current directory\n",
    "\n",
    "# or update path:\n",
    "from sys import path\n",
    "path.append('/Users/jillnaiman/Downloads/')\n",
    "#path.append('C:\\\\Users\\\\jillnaiman\\\\Downloads\\\\') # maybe windows?!"
   ]
  },
  {
   "cell_type": "code",
   "execution_count": 23,
   "id": "hearing-seeker",
   "metadata": {},
   "outputs": [
    {
     "data": {
      "text/plain": [
       "['/Users/jillnaiman/is445_spring2021/week14',\n",
       " '/opt/anaconda3/envs/DataViz/lib/python37.zip',\n",
       " '/opt/anaconda3/envs/DataViz/lib/python3.7',\n",
       " '/opt/anaconda3/envs/DataViz/lib/python3.7/lib-dynload',\n",
       " '',\n",
       " '/Users/jillnaiman/.local/lib/python3.7/site-packages',\n",
       " '/opt/anaconda3/envs/DataViz/lib/python3.7/site-packages',\n",
       " '/opt/anaconda3/envs/DataViz/lib/python3.7/site-packages/IPython/extensions',\n",
       " '/Users/jillnaiman/.ipython',\n",
       " '/Users/jillnaiman/Downloads/',\n",
       " '/Users/jillnaiman/Downloads/']"
      ]
     },
     "execution_count": 23,
     "metadata": {},
     "output_type": "execute_result"
    }
   ],
   "source": [
    "path"
   ]
  },
  {
   "cell_type": "code",
   "execution_count": 21,
   "id": "identified-colors",
   "metadata": {},
   "outputs": [],
   "source": [
    "from solverlibs import read_in_galaxy_data"
   ]
  },
  {
   "cell_type": "code",
   "execution_count": 13,
   "id": "terminal-michael",
   "metadata": {},
   "outputs": [],
   "source": [
    "read_in_galaxy_data?"
   ]
  },
  {
   "cell_type": "code",
   "execution_count": 14,
   "id": "polyphonic-burning",
   "metadata": {},
   "outputs": [],
   "source": [
    "# Note: a terrible person has not included doc strings!!!"
   ]
  },
  {
   "cell_type": "code",
   "execution_count": 15,
   "id": "described-dictionary",
   "metadata": {},
   "outputs": [],
   "source": [
    "t_h, r_h, v_h, e_h, N, part_type = read_in_galaxy_data(galaxy_file)"
   ]
  },
  {
   "cell_type": "code",
   "execution_count": 17,
   "id": "immediate-narrative",
   "metadata": {},
   "outputs": [
    {
     "data": {
      "text/plain": [
       "(82, 3, 500)"
      ]
     },
     "execution_count": 17,
     "metadata": {},
     "output_type": "execute_result"
    }
   ],
   "source": [
    "r_h.shape # 82 particles, 3 positions -- x/y/z, 500 time steps"
   ]
  },
  {
   "cell_type": "code",
   "execution_count": 18,
   "id": "proved-handle",
   "metadata": {},
   "outputs": [
    {
     "data": {
      "text/plain": [
       "82"
      ]
     },
     "execution_count": 18,
     "metadata": {},
     "output_type": "execute_result"
    }
   ],
   "source": [
    "N"
   ]
  },
  {
   "cell_type": "code",
   "execution_count": 32,
   "id": "aquatic-vancouver",
   "metadata": {},
   "outputs": [],
   "source": [
    "# 3D plot of my initial time step:\n",
    "nT = 0 # first time step\n",
    "\n",
    "x, y, z = r_h[:,0, nT], r_h[:,1,nT], r_h[:,2,nT]"
   ]
  },
  {
   "cell_type": "code",
   "execution_count": 33,
   "id": "adopted-unemployment",
   "metadata": {},
   "outputs": [
    {
     "data": {
      "application/vnd.jupyter.widget-view+json": {
       "model_id": "84d24ccac9ba45c1ba704b36a5956f60",
       "version_major": 2,
       "version_minor": 0
      },
      "text/plain": [
       "VBox(children=(Figure(camera=PerspectiveCamera(fov=45.0, position=(0.0, 0.0, 2.0), projectionMatrix=(1.0, 0.0,…"
      ]
     },
     "metadata": {},
     "output_type": "display_data"
    }
   ],
   "source": [
    "ipyvolume.quickscatter(x,y,z, size=3, marker=\"sphere\") # plots one time step"
   ]
  },
  {
   "cell_type": "code",
   "execution_count": 34,
   "id": "iraqi-group",
   "metadata": {},
   "outputs": [],
   "source": [
    "# all timesteps by \"unwrapping\"\n",
    "\n",
    "x = r_h[:,0,:].ravel() # 1D\n",
    "y = r_h[:,1,:].ravel()\n",
    "z = r_h[:,2,:].ravel()"
   ]
  },
  {
   "cell_type": "code",
   "execution_count": 35,
   "id": "incomplete-dining",
   "metadata": {},
   "outputs": [
    {
     "data": {
      "text/plain": [
       "array([-0.55503449, -0.5316963 , -0.50835813, ..., -1.42056334,\n",
       "       -1.42175787, -1.42295243])"
      ]
     },
     "execution_count": 35,
     "metadata": {},
     "output_type": "execute_result"
    }
   ],
   "source": [
    "x"
   ]
  },
  {
   "cell_type": "code",
   "execution_count": 36,
   "id": "framed-polls",
   "metadata": {},
   "outputs": [
    {
     "data": {
      "application/vnd.jupyter.widget-view+json": {
       "model_id": "e7c87eeda5294f53a451b57a36d5b5b8",
       "version_major": 2,
       "version_minor": 0
      },
      "text/plain": [
       "VBox(children=(Figure(camera=PerspectiveCamera(fov=45.0, position=(0.0, 0.0, 2.0), projectionMatrix=(1.0, 0.0,…"
      ]
     },
     "metadata": {},
     "output_type": "display_data"
    }
   ],
   "source": [
    "ipyvolume.quickscatter(x,y,z, size=3, marker='sphere')"
   ]
  },
  {
   "cell_type": "markdown",
   "id": "coordinated-dependence",
   "metadata": {},
   "source": [
    "This is not super useful, but we can do better using a quiver plot:"
   ]
  },
  {
   "cell_type": "code",
   "execution_count": 38,
   "id": "vital-adapter",
   "metadata": {},
   "outputs": [
    {
     "data": {
      "application/vnd.jupyter.widget-view+json": {
       "model_id": "69072a73fb794d8a95b1952745eda4dc",
       "version_major": 2,
       "version_minor": 0
      },
      "text/plain": [
       "VBox(children=(Figure(camera=PerspectiveCamera(fov=45.0, position=(0.0, 0.0, 2.0), projectionMatrix=(1.0, 0.0,…"
      ]
     },
     "metadata": {},
     "output_type": "display_data"
    }
   ],
   "source": [
    "ipyvolume.figure()\n",
    "# use quiver plot -- x,y,z positions and vx,vy,vz velocity vector components\n",
    "\n",
    "for i in range(r_h.shape[0]): # loop through every particle\n",
    "    ipyvolume.quiver(r_h[i,0,:], # ith particle, x position, all time steps\n",
    "                    r_h[i,1,:], # ith particle, y postion, all time steps\n",
    "                    r_h[i,2,:], # ith particle, z postion, all timesteps\n",
    "                    v_h[i,0,:], # ith particle, vx (velocity in x direction), all time steps\n",
    "                    v_h[i,1,:], # ith particle, vy, all times\n",
    "                    v_h[i,2,:], # ith particle, vz, all times\n",
    "                    size=1)\n",
    "ipyvolume.show()"
   ]
  },
  {
   "cell_type": "code",
   "execution_count": 52,
   "id": "stable-builder",
   "metadata": {},
   "outputs": [
    {
     "data": {
      "text/plain": [
       "82"
      ]
     },
     "execution_count": 52,
     "metadata": {},
     "output_type": "execute_result"
    }
   ],
   "source": [
    "N # number of particles"
   ]
  },
  {
   "cell_type": "code",
   "execution_count": 54,
   "id": "liked-grenada",
   "metadata": {},
   "outputs": [
    {
     "data": {
      "text/plain": [
       "500"
      ]
     },
     "execution_count": 54,
     "metadata": {},
     "output_type": "execute_result"
    }
   ],
   "source": [
    "Nt = r_h.shape[2] # number of timesteps!\n",
    "Nt"
   ]
  },
  {
   "cell_type": "code",
   "execution_count": 55,
   "id": "dramatic-billy",
   "metadata": {},
   "outputs": [
    {
     "data": {
      "application/vnd.jupyter.widget-view+json": {
       "model_id": "0c502c94f36f44fb85763ff58f9492c2",
       "version_major": 2,
       "version_minor": 0
      },
      "text/plain": [
       "VBox(children=(Figure(camera=PerspectiveCamera(fov=45.0, position=(0.0, 0.0, 2.0), projectionMatrix=(1.0, 0.0,…"
      ]
     },
     "metadata": {},
     "output_type": "display_data"
    }
   ],
   "source": [
    "# sub sample to see arrows\n",
    "step = 10 # only plot each 10th timestep\n",
    "\n",
    "ipyvolume.figure()\n",
    "# use quiver plot -- x,y,z positions and vx,vy,vz velocity vector components\n",
    "\n",
    "for i in range(r_h.shape[0]): # loop through every particle\n",
    "    ipyvolume.quiver(r_h[i,0,0:Nt:step], # ith particle, x position, every 10th time step\n",
    "                    r_h[i,1,0:Nt:step], # ith particle, y postion\n",
    "                    r_h[i,2,0:Nt:step], # ith particle, z postion\n",
    "                    v_h[i,0,0:Nt:step], # ith particle, vx (velocity in x direction)\n",
    "                    v_h[i,1,0:Nt:step], # ith particle, vy\n",
    "                    v_h[i,2,0:Nt:step], # ith particle, vz\n",
    "                    size=1)\n",
    "ipyvolume.show()"
   ]
  },
  {
   "cell_type": "markdown",
   "id": "suitable-conclusion",
   "metadata": {},
   "source": [
    "## 3D animations with ipyvolume"
   ]
  },
  {
   "cell_type": "markdown",
   "id": "leading-bonus",
   "metadata": {},
   "source": [
    "For data formatting reasons, we will take the **transpose** of our data matricies"
   ]
  },
  {
   "cell_type": "code",
   "execution_count": 44,
   "id": "every-reputation",
   "metadata": {},
   "outputs": [
    {
     "name": "stdout",
     "output_type": "stream",
     "text": [
      "(82, 500) (500, 82)\n"
     ]
    }
   ],
   "source": [
    "print(r_h[:,0,:].shape, r_h[:,0,:].T.shape)"
   ]
  },
  {
   "cell_type": "markdown",
   "id": "processed-baker",
   "metadata": {},
   "source": [
    "Down sample our position and velocity vectors for smoother animations:"
   ]
  },
  {
   "cell_type": "code",
   "execution_count": 56,
   "id": "exclusive-telephone",
   "metadata": {},
   "outputs": [],
   "source": [
    "step = 10 # only save each 10th time step\n",
    "\n",
    "r = r_h[:,:,0:Nt:step]\n",
    "v = v_h[:,:,0:Nt:step]"
   ]
  },
  {
   "cell_type": "code",
   "execution_count": 58,
   "id": "artistic-stomach",
   "metadata": {},
   "outputs": [
    {
     "data": {
      "text/plain": [
       "(82, 3, 50)"
      ]
     },
     "execution_count": 58,
     "metadata": {},
     "output_type": "execute_result"
    }
   ],
   "source": [
    "r.shape"
   ]
  },
  {
   "cell_type": "markdown",
   "id": "returning-titanium",
   "metadata": {},
   "source": [
    "Scatter plot + animation:"
   ]
  },
  {
   "cell_type": "code",
   "execution_count": 65,
   "id": "contained-actor",
   "metadata": {},
   "outputs": [
    {
     "data": {
      "application/vnd.jupyter.widget-view+json": {
       "model_id": "95e6dcf4531c400a8fcbc5779748cc1b",
       "version_major": 2,
       "version_minor": 0
      },
      "text/plain": [
       "VBox(children=(Figure(animation=200.0, camera=PerspectiveCamera(fov=45.0, position=(0.0, 0.0, 2.0), projection…"
      ]
     },
     "metadata": {},
     "output_type": "display_data"
    }
   ],
   "source": [
    "ipyvolume.figure()\n",
    "\n",
    "s = ipyvolume.scatter(r[:,0,:].T, r[:,1,:].T, r[:,2,:].T, marker='sphere')\n",
    "#s = ipyvolume.scatter(r[:,0,:], r[:,1,:], r[:,2,:], marker='sphere') # shows 1 trajectory\n",
    "#s = ipyvolume.scatter(r[:,0,:].ravel(), r[:,1,:].ravel(), r[:,2,:].ravel(), marker='sphere') # all particles, all time\n",
    "\n",
    "# add in animation\n",
    "ani = ipyvolume.animation_control(s, interval=200) # 200 millisec between \"snapshots\"\n",
    "\n",
    "ipyvolume.show()"
   ]
  },
  {
   "cell_type": "markdown",
   "id": "drawn-monday",
   "metadata": {},
   "source": [
    "**Astronomy note:** this is a VERY low resolution simulation!  That is why the galaxies don't merge but fly apart!"
   ]
  },
  {
   "cell_type": "markdown",
   "id": "suspended-romantic",
   "metadata": {},
   "source": [
    "## Combine ipywidgets + ipyvolume for more controls"
   ]
  },
  {
   "cell_type": "code",
   "execution_count": 66,
   "id": "concerned-parliament",
   "metadata": {},
   "outputs": [],
   "source": [
    "import ipywidgets"
   ]
  },
  {
   "cell_type": "code",
   "execution_count": 67,
   "id": "swedish-milton",
   "metadata": {},
   "outputs": [],
   "source": [
    "# plot all trajectories, static scatter plot, downsampled data"
   ]
  },
  {
   "cell_type": "code",
   "execution_count": 74,
   "id": "absent-command",
   "metadata": {},
   "outputs": [
    {
     "data": {
      "application/vnd.jupyter.widget-view+json": {
       "model_id": "e74438875d3c4101baf9b1ee90d87ac6",
       "version_major": 2,
       "version_minor": 0
      },
      "text/plain": [
       "VBox(children=(Figure(camera=PerspectiveCamera(fov=45.0, position=(0.0, 0.0, 2.0), projectionMatrix=(1.0, 0.0,…"
      ]
     },
     "metadata": {},
     "output_type": "display_data"
    }
   ],
   "source": [
    "ipyvolume.figure()\n",
    "\n",
    "s = ipyvolume.scatter(r[:,0,:].ravel(), r[:,1,:].ravel(), r[:,2,:].ravel(), \n",
    "                     marker='sphere', size=5)\n",
    "\n",
    "ipyvolume.show()"
   ]
  },
  {
   "cell_type": "markdown",
   "id": "accredited-force",
   "metadata": {},
   "source": [
    "Make a float slider widget that I can use to change the sizes of my spheres:"
   ]
  },
  {
   "cell_type": "code",
   "execution_count": 69,
   "id": "medical-abraham",
   "metadata": {},
   "outputs": [],
   "source": [
    "size = ipywidgets.FloatSlider(min=0,max=30,step=0.1)"
   ]
  },
  {
   "cell_type": "code",
   "execution_count": 70,
   "id": "driving-mouse",
   "metadata": {},
   "outputs": [
    {
     "data": {
      "application/vnd.jupyter.widget-view+json": {
       "model_id": "5f16cb7c272044d3886f874a208edf84",
       "version_major": 2,
       "version_minor": 0
      },
      "text/plain": [
       "FloatSlider(value=0.0, max=30.0)"
      ]
     },
     "metadata": {},
     "output_type": "display_data"
    }
   ],
   "source": [
    "size"
   ]
  },
  {
   "cell_type": "code",
   "execution_count": 72,
   "id": "sitting-found",
   "metadata": {},
   "outputs": [
    {
     "data": {
      "text/plain": [
       "9.8"
      ]
     },
     "execution_count": 72,
     "metadata": {},
     "output_type": "execute_result"
    }
   ],
   "source": [
    "size.value # value attribute associated with this widget slider"
   ]
  },
  {
   "cell_type": "code",
   "execution_count": 75,
   "id": "immune-portfolio",
   "metadata": {},
   "outputs": [
    {
     "data": {
      "text/plain": [
       "array(5)"
      ]
     },
     "execution_count": 75,
     "metadata": {},
     "output_type": "execute_result"
    }
   ],
   "source": [
    "s.size"
   ]
  },
  {
   "cell_type": "markdown",
   "id": "sufficient-substance",
   "metadata": {},
   "source": [
    "Recall: `jslink` a function to link attributes of widgets on the JS/\"front-end\" side:"
   ]
  },
  {
   "cell_type": "code",
   "execution_count": 76,
   "id": "hollywood-boards",
   "metadata": {},
   "outputs": [
    {
     "data": {
      "text/plain": [
       "Link(source=(Scatter(color_selected=array('white', dtype='<U5'), geo='sphere', line_material=ShaderMaterial(),…"
      ]
     },
     "metadata": {},
     "output_type": "display_data"
    }
   ],
   "source": [
    "ipywidgets.jslink((s,'size'),(size,'value'))"
   ]
  },
  {
   "cell_type": "markdown",
   "id": "remarkable-broadway",
   "metadata": {},
   "source": [
    "Recall we can also use layout widgets:"
   ]
  },
  {
   "cell_type": "code",
   "execution_count": 77,
   "id": "chronic-treatment",
   "metadata": {},
   "outputs": [
    {
     "data": {
      "application/vnd.jupyter.widget-view+json": {
       "model_id": "51f033fd281e4ec8b28d693b1f3103cf",
       "version_major": 2,
       "version_minor": 0
      },
      "text/plain": [
       "VBox(children=(VBox(children=(Figure(camera=PerspectiveCamera(aspect=0.8, fov=45.0, matrixWorldNeedsUpdate=Tru…"
      ]
     },
     "metadata": {},
     "output_type": "display_data"
    }
   ],
   "source": [
    "ipywidgets.VBox([ipyvolume.gcc(),size]) # ipyvolume.gcc() grabs current plot"
   ]
  },
  {
   "cell_type": "markdown",
   "id": "structural-depression",
   "metadata": {},
   "source": [
    "Also link a color widget:"
   ]
  },
  {
   "cell_type": "code",
   "execution_count": 78,
   "id": "possible-hydrogen",
   "metadata": {},
   "outputs": [],
   "source": [
    "color = ipywidgets.ColorPicker()"
   ]
  },
  {
   "cell_type": "code",
   "execution_count": 79,
   "id": "knowing-progressive",
   "metadata": {},
   "outputs": [
    {
     "data": {
      "application/vnd.jupyter.widget-view+json": {
       "model_id": "4827d716a6af461ebc4281cd81508e4a",
       "version_major": 2,
       "version_minor": 0
      },
      "text/plain": [
       "ColorPicker(value='black')"
      ]
     },
     "metadata": {},
     "output_type": "display_data"
    }
   ],
   "source": [
    "color"
   ]
  },
  {
   "cell_type": "code",
   "execution_count": 81,
   "id": "sized-analyst",
   "metadata": {},
   "outputs": [
    {
     "data": {
      "text/plain": [
       "'#2f5b44'"
      ]
     },
     "execution_count": 81,
     "metadata": {},
     "output_type": "execute_result"
    }
   ],
   "source": [
    "color.value"
   ]
  },
  {
   "cell_type": "code",
   "execution_count": 80,
   "id": "leading-novelty",
   "metadata": {},
   "outputs": [
    {
     "data": {
      "text/plain": [
       "array('red', dtype='<U3')"
      ]
     },
     "execution_count": 80,
     "metadata": {},
     "output_type": "execute_result"
    }
   ],
   "source": [
    "s.color"
   ]
  },
  {
   "cell_type": "code",
   "execution_count": 82,
   "id": "unnecessary-belle",
   "metadata": {},
   "outputs": [
    {
     "data": {
      "text/plain": [
       "Link(source=(Scatter(color_selected=array('white', dtype='<U5'), geo='sphere', line_material=ShaderMaterial(),…"
      ]
     },
     "metadata": {},
     "output_type": "display_data"
    }
   ],
   "source": [
    "# link color attribute of ipyvolume plot with widget\n",
    "ipywidgets.jslink((s,'color'),(color,'value'))"
   ]
  },
  {
   "cell_type": "code",
   "execution_count": 83,
   "id": "digital-transparency",
   "metadata": {},
   "outputs": [
    {
     "data": {
      "application/vnd.jupyter.widget-view+json": {
       "model_id": "6d4bd4fc36ce444d9a953706e46c8fb9",
       "version_major": 2,
       "version_minor": 0
      },
      "text/plain": [
       "VBox(children=(VBox(children=(Figure(camera=PerspectiveCamera(aspect=0.8, fov=45.0, matrixWorldNeedsUpdate=Tru…"
      ]
     },
     "metadata": {},
     "output_type": "display_data"
    }
   ],
   "source": [
    "# layout again:\n",
    "ipywidgets.VBox([ipyvolume.gcc(), size, color])"
   ]
  },
  {
   "cell_type": "markdown",
   "id": "alert-religious",
   "metadata": {},
   "source": [
    "## Export ipyvolume to a HTML page"
   ]
  },
  {
   "cell_type": "code",
   "execution_count": 84,
   "id": "perfect-obligation",
   "metadata": {},
   "outputs": [],
   "source": [
    "myVBox = ipywidgets.VBox([ipyvolume.gcc(), size, color])"
   ]
  },
  {
   "cell_type": "code",
   "execution_count": 85,
   "id": "golden-newfoundland",
   "metadata": {},
   "outputs": [],
   "source": [
    "# some formatting things so that our box isn't super small\n",
    "ipyvolume.embed.layout = myVBox.children[1].layout\n",
    "ipyvolume.embed.layout.min_width = \"400px\""
   ]
  },
  {
   "cell_type": "markdown",
   "id": "played-rouge",
   "metadata": {},
   "source": [
    "Make this into a webpage!"
   ]
  },
  {
   "cell_type": "code",
   "execution_count": 86,
   "id": "persistent-basin",
   "metadata": {},
   "outputs": [],
   "source": [
    "ipyvolume.embed.embed_html(\"testPage.html\",myVBox,offline=False,devmode=False)"
   ]
  },
  {
   "cell_type": "markdown",
   "id": "enabling-house",
   "metadata": {},
   "source": [
    "If on mac/linux:"
   ]
  },
  {
   "cell_type": "code",
   "execution_count": 87,
   "id": "german-summer",
   "metadata": {},
   "outputs": [],
   "source": [
    "!open myPage.html"
   ]
  },
  {
   "cell_type": "markdown",
   "id": "fifteen-milan",
   "metadata": {},
   "source": [
    "## Export widgets + ipyvolume + animation"
   ]
  },
  {
   "cell_type": "code",
   "execution_count": 89,
   "id": "equivalent-danger",
   "metadata": {},
   "outputs": [
    {
     "data": {
      "application/vnd.jupyter.widget-view+json": {
       "model_id": "2e71b80a4d524e33a5627912d7a6e3e0",
       "version_major": 2,
       "version_minor": 0
      },
      "text/plain": [
       "VBox(children=(VBox(children=(Figure(camera=PerspectiveCamera(fov=45.0, position=(0.0, 0.0, 2.0), projectionMa…"
      ]
     },
     "metadata": {},
     "output_type": "display_data"
    }
   ],
   "source": [
    "ipyvolume.figure()\n",
    "\n",
    "s = ipyvolume.scatter(r[:,0,:].T, r[:,1,:].T, r[:,2,:].T, marker='sphere')\n",
    "\n",
    "#ipyvolume.show()\n",
    "ipywidgets.VBox([ipyvolume.gcc()])"
   ]
  },
  {
   "cell_type": "code",
   "execution_count": null,
   "id": "vietnamese-accordance",
   "metadata": {},
   "outputs": [],
   "source": []
  }
 ],
 "metadata": {
  "kernelspec": {
   "display_name": "Python 3",
   "language": "python",
   "name": "python3"
  },
  "language_info": {
   "codemirror_mode": {
    "name": "ipython",
    "version": 3
   },
   "file_extension": ".py",
   "mimetype": "text/x-python",
   "name": "python",
   "nbconvert_exporter": "python",
   "pygments_lexer": "ipython3",
   "version": "3.7.9"
  }
 },
 "nbformat": 4,
 "nbformat_minor": 5
}
