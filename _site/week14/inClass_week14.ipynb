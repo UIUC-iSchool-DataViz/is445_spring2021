{
 "cells": [
  {
   "cell_type": "markdown",
   "id": "innovative-airplane",
   "metadata": {},
   "source": [
    "# In Class Notebook, Week 14"
   ]
  },
  {
   "cell_type": "markdown",
   "id": "recovered-dimension",
   "metadata": {},
   "source": [
    "You can always paste the URL of this notebook (https://github.com/UIUC-iSchool-DataViz/is445_spring2021/blob/master/week14/inClass_week14.ipynb ) into the nbviewer interface for a plain-text rendering:\n",
    "\n",
    "https://kokes.github.io/nbviewer.js/viewer.html"
   ]
  },
  {
   "cell_type": "markdown",
   "id": "opened-sharing",
   "metadata": {},
   "source": [
    "Let me write something!"
   ]
  },
  {
   "cell_type": "markdown",
   "id": "after-muslim",
   "metadata": {},
   "source": [
    "Before yt, let's check out ipyvolume\n",
    "\n",
    "## ipyvolume"
   ]
  },
  {
   "cell_type": "code",
   "execution_count": 1,
   "id": "useful-doctor",
   "metadata": {},
   "outputs": [],
   "source": [
    "# import our usual things\n",
    "import numpy as np\n",
    "import pandas as pd\n",
    "import ipyvolume"
   ]
  },
  {
   "cell_type": "code",
   "execution_count": 2,
   "id": "atomic-affect",
   "metadata": {},
   "outputs": [],
   "source": [
    "x, y, z = np.random.random((3, 100)) # 3 dimensions, 100 points total"
   ]
  },
  {
   "cell_type": "code",
   "execution_count": 7,
   "id": "dress-spending",
   "metadata": {},
   "outputs": [],
   "source": [
    "ipyvolume.quickscatter?"
   ]
  },
  {
   "cell_type": "code",
   "execution_count": 8,
   "id": "innovative-trial",
   "metadata": {},
   "outputs": [
    {
     "data": {
      "application/vnd.jupyter.widget-view+json": {
       "model_id": "baf14fc09dcb4a988cb0c183a490d891",
       "version_major": 2,
       "version_minor": 0
      },
      "text/plain": [
       "VBox(children=(Figure(camera=PerspectiveCamera(fov=45.0, position=(0.0, 0.0, 2.0), projectionMatrix=(1.0, 0.0,…"
      ]
     },
     "metadata": {},
     "output_type": "display_data"
    }
   ],
   "source": [
    "# quick 3d scatter plot\n",
    "ipyvolume.quickscatter(x,y,z, size=5, marker='diamond')"
   ]
  },
  {
   "cell_type": "markdown",
   "id": "danish-fifty",
   "metadata": {},
   "source": [
    "Now using \"real\" data -- data from a VERY low resolution simulation of 2 galaxies colliding. (Galaxies are collections of billions of stars, we live in the Milky Way galaxy, our star (the Sun!) is about 1/2 out on a disk of stars in the Milky Way)."
   ]
  },
  {
   "cell_type": "code",
   "execution_count": 96,
   "id": "rising-blanket",
   "metadata": {},
   "outputs": [],
   "source": [
    "galaxy_file = '/Users/jillnaiman/Downloads/outarrsnap_001_fac1n3.txt' # 7 Mb\n",
    "galaxy_file = '/Users/jillnaiman/Downloads/outarrsnap_001_fac1n2_nt500.txt'\n",
    "\n"
   ]
  },
  {
   "cell_type": "markdown",
   "id": "adolescent-friday",
   "metadata": {},
   "source": [
    "We note: the data is super confusing to look at!  Luckily there is a data reader -- solverlibs.py -- included in the galaxyFiles.zip!"
   ]
  },
  {
   "cell_type": "code",
   "execution_count": 22,
   "id": "handy-firewall",
   "metadata": {},
   "outputs": [],
   "source": [
    "# to load solver -- can copy to current directory\n",
    "\n",
    "# or update path:\n",
    "from sys import path\n",
    "path.append('/Users/jillnaiman/Downloads/')\n",
    "#path.append('C:\\\\Users\\\\jillnaiman\\\\Downloads\\\\') # maybe windows?!"
   ]
  },
  {
   "cell_type": "code",
   "execution_count": 23,
   "id": "exterior-resident",
   "metadata": {},
   "outputs": [
    {
     "data": {
      "text/plain": [
       "['/Users/jillnaiman/is445_spring2021/week14',\n",
       " '/opt/anaconda3/envs/DataViz/lib/python37.zip',\n",
       " '/opt/anaconda3/envs/DataViz/lib/python3.7',\n",
       " '/opt/anaconda3/envs/DataViz/lib/python3.7/lib-dynload',\n",
       " '',\n",
       " '/Users/jillnaiman/.local/lib/python3.7/site-packages',\n",
       " '/opt/anaconda3/envs/DataViz/lib/python3.7/site-packages',\n",
       " '/opt/anaconda3/envs/DataViz/lib/python3.7/site-packages/IPython/extensions',\n",
       " '/Users/jillnaiman/.ipython',\n",
       " '/Users/jillnaiman/Downloads/',\n",
       " '/Users/jillnaiman/Downloads/']"
      ]
     },
     "execution_count": 23,
     "metadata": {},
     "output_type": "execute_result"
    }
   ],
   "source": [
    "path"
   ]
  },
  {
   "cell_type": "code",
   "execution_count": 21,
   "id": "communist-showcase",
   "metadata": {},
   "outputs": [],
   "source": [
    "from solverlibs import read_in_galaxy_data"
   ]
  },
  {
   "cell_type": "code",
   "execution_count": 13,
   "id": "noted-worse",
   "metadata": {},
   "outputs": [],
   "source": [
    "read_in_galaxy_data?"
   ]
  },
  {
   "cell_type": "code",
   "execution_count": 14,
   "id": "immediate-billy",
   "metadata": {},
   "outputs": [],
   "source": [
    "# Note: a terrible person has not included doc strings!!!"
   ]
  },
  {
   "cell_type": "code",
   "execution_count": 97,
   "id": "western-opening",
   "metadata": {},
   "outputs": [],
   "source": [
    "t_h, r_h, v_h, e_h, N, part_type = read_in_galaxy_data(galaxy_file)"
   ]
  },
  {
   "cell_type": "code",
   "execution_count": 17,
   "id": "considerable-arcade",
   "metadata": {},
   "outputs": [
    {
     "data": {
      "text/plain": [
       "(82, 3, 500)"
      ]
     },
     "execution_count": 17,
     "metadata": {},
     "output_type": "execute_result"
    }
   ],
   "source": [
    "r_h.shape # 82 particles, 3 positions -- x/y/z, 500 time steps"
   ]
  },
  {
   "cell_type": "code",
   "execution_count": 18,
   "id": "random-combat",
   "metadata": {},
   "outputs": [
    {
     "data": {
      "text/plain": [
       "82"
      ]
     },
     "execution_count": 18,
     "metadata": {},
     "output_type": "execute_result"
    }
   ],
   "source": [
    "N"
   ]
  },
  {
   "cell_type": "code",
   "execution_count": 98,
   "id": "improving-louis",
   "metadata": {},
   "outputs": [],
   "source": [
    "# 3D plot of my initial time step:\n",
    "nT = 0 # first time step\n",
    "\n",
    "x, y, z = r_h[:,0, nT], r_h[:,1,nT], r_h[:,2,nT]"
   ]
  },
  {
   "cell_type": "code",
   "execution_count": 99,
   "id": "marked-acrobat",
   "metadata": {},
   "outputs": [
    {
     "data": {
      "application/vnd.jupyter.widget-view+json": {
       "model_id": "948bdc74a7bd4cdcbac87765e84f2688",
       "version_major": 2,
       "version_minor": 0
      },
      "text/plain": [
       "VBox(children=(Figure(camera=PerspectiveCamera(fov=45.0, position=(0.0, 0.0, 2.0), projectionMatrix=(1.0, 0.0,…"
      ]
     },
     "metadata": {},
     "output_type": "display_data"
    }
   ],
   "source": [
    "ipyvolume.quickscatter(x,y,z, size=3, marker=\"sphere\") # plots one time step"
   ]
  },
  {
   "cell_type": "code",
   "execution_count": 34,
   "id": "relevant-costa",
   "metadata": {},
   "outputs": [],
   "source": [
    "# all timesteps by \"unwrapping\"\n",
    "\n",
    "x = r_h[:,0,:].ravel() # 1D\n",
    "y = r_h[:,1,:].ravel()\n",
    "z = r_h[:,2,:].ravel()"
   ]
  },
  {
   "cell_type": "code",
   "execution_count": 35,
   "id": "hybrid-islam",
   "metadata": {},
   "outputs": [
    {
     "data": {
      "text/plain": [
       "array([-0.55503449, -0.5316963 , -0.50835813, ..., -1.42056334,\n",
       "       -1.42175787, -1.42295243])"
      ]
     },
     "execution_count": 35,
     "metadata": {},
     "output_type": "execute_result"
    }
   ],
   "source": [
    "x"
   ]
  },
  {
   "cell_type": "code",
   "execution_count": 36,
   "id": "affecting-syndrome",
   "metadata": {},
   "outputs": [
    {
     "data": {
      "application/vnd.jupyter.widget-view+json": {
       "model_id": "e7c87eeda5294f53a451b57a36d5b5b8",
       "version_major": 2,
       "version_minor": 0
      },
      "text/plain": [
       "VBox(children=(Figure(camera=PerspectiveCamera(fov=45.0, position=(0.0, 0.0, 2.0), projectionMatrix=(1.0, 0.0,…"
      ]
     },
     "metadata": {},
     "output_type": "display_data"
    }
   ],
   "source": [
    "ipyvolume.quickscatter(x,y,z, size=3, marker='sphere')"
   ]
  },
  {
   "cell_type": "markdown",
   "id": "animal-episode",
   "metadata": {},
   "source": [
    "This is not super useful, but we can do better using a quiver plot:"
   ]
  },
  {
   "cell_type": "code",
   "execution_count": 38,
   "id": "intense-amino",
   "metadata": {},
   "outputs": [
    {
     "data": {
      "application/vnd.jupyter.widget-view+json": {
       "model_id": "69072a73fb794d8a95b1952745eda4dc",
       "version_major": 2,
       "version_minor": 0
      },
      "text/plain": [
       "VBox(children=(Figure(camera=PerspectiveCamera(fov=45.0, position=(0.0, 0.0, 2.0), projectionMatrix=(1.0, 0.0,…"
      ]
     },
     "metadata": {},
     "output_type": "display_data"
    }
   ],
   "source": [
    "ipyvolume.figure()\n",
    "# use quiver plot -- x,y,z positions and vx,vy,vz velocity vector components\n",
    "\n",
    "for i in range(r_h.shape[0]): # loop through every particle\n",
    "    ipyvolume.quiver(r_h[i,0,:], # ith particle, x position, all time steps\n",
    "                    r_h[i,1,:], # ith particle, y postion, all time steps\n",
    "                    r_h[i,2,:], # ith particle, z postion, all timesteps\n",
    "                    v_h[i,0,:], # ith particle, vx (velocity in x direction), all time steps\n",
    "                    v_h[i,1,:], # ith particle, vy, all times\n",
    "                    v_h[i,2,:], # ith particle, vz, all times\n",
    "                    size=1)\n",
    "ipyvolume.show()"
   ]
  },
  {
   "cell_type": "code",
   "execution_count": 52,
   "id": "champion-chancellor",
   "metadata": {},
   "outputs": [
    {
     "data": {
      "text/plain": [
       "82"
      ]
     },
     "execution_count": 52,
     "metadata": {},
     "output_type": "execute_result"
    }
   ],
   "source": [
    "N # number of particles"
   ]
  },
  {
   "cell_type": "code",
   "execution_count": 54,
   "id": "minute-silence",
   "metadata": {},
   "outputs": [
    {
     "data": {
      "text/plain": [
       "500"
      ]
     },
     "execution_count": 54,
     "metadata": {},
     "output_type": "execute_result"
    }
   ],
   "source": [
    "Nt = r_h.shape[2] # number of timesteps!\n",
    "Nt"
   ]
  },
  {
   "cell_type": "code",
   "execution_count": 55,
   "id": "accessible-computer",
   "metadata": {},
   "outputs": [
    {
     "data": {
      "application/vnd.jupyter.widget-view+json": {
       "model_id": "0c502c94f36f44fb85763ff58f9492c2",
       "version_major": 2,
       "version_minor": 0
      },
      "text/plain": [
       "VBox(children=(Figure(camera=PerspectiveCamera(fov=45.0, position=(0.0, 0.0, 2.0), projectionMatrix=(1.0, 0.0,…"
      ]
     },
     "metadata": {},
     "output_type": "display_data"
    }
   ],
   "source": [
    "# sub sample to see arrows\n",
    "step = 10 # only plot each 10th timestep\n",
    "\n",
    "ipyvolume.figure()\n",
    "# use quiver plot -- x,y,z positions and vx,vy,vz velocity vector components\n",
    "\n",
    "for i in range(r_h.shape[0]): # loop through every particle\n",
    "    ipyvolume.quiver(r_h[i,0,0:Nt:step], # ith particle, x position, every 10th time step\n",
    "                    r_h[i,1,0:Nt:step], # ith particle, y postion\n",
    "                    r_h[i,2,0:Nt:step], # ith particle, z postion\n",
    "                    v_h[i,0,0:Nt:step], # ith particle, vx (velocity in x direction)\n",
    "                    v_h[i,1,0:Nt:step], # ith particle, vy\n",
    "                    v_h[i,2,0:Nt:step], # ith particle, vz\n",
    "                    size=1)\n",
    "ipyvolume.show()"
   ]
  },
  {
   "cell_type": "markdown",
   "id": "broad-concentration",
   "metadata": {},
   "source": [
    "## 3D animations with ipyvolume"
   ]
  },
  {
   "cell_type": "markdown",
   "id": "blocked-smith",
   "metadata": {},
   "source": [
    "For data formatting reasons, we will take the **transpose** of our data matricies"
   ]
  },
  {
   "cell_type": "code",
   "execution_count": 44,
   "id": "liable-animation",
   "metadata": {},
   "outputs": [
    {
     "name": "stdout",
     "output_type": "stream",
     "text": [
      "(82, 500) (500, 82)\n"
     ]
    }
   ],
   "source": [
    "print(r_h[:,0,:].shape, r_h[:,0,:].T.shape)"
   ]
  },
  {
   "cell_type": "markdown",
   "id": "micro-basis",
   "metadata": {},
   "source": [
    "Down sample our position and velocity vectors for smoother animations:"
   ]
  },
  {
   "cell_type": "code",
   "execution_count": 100,
   "id": "native-aquarium",
   "metadata": {},
   "outputs": [],
   "source": [
    "step = 10 # only save each 10th time step\n",
    "\n",
    "r = r_h[:,:,0:Nt:step]\n",
    "v = v_h[:,:,0:Nt:step]"
   ]
  },
  {
   "cell_type": "code",
   "execution_count": 58,
   "id": "meaning-london",
   "metadata": {},
   "outputs": [
    {
     "data": {
      "text/plain": [
       "(82, 3, 50)"
      ]
     },
     "execution_count": 58,
     "metadata": {},
     "output_type": "execute_result"
    }
   ],
   "source": [
    "r.shape"
   ]
  },
  {
   "cell_type": "markdown",
   "id": "capable-bristol",
   "metadata": {},
   "source": [
    "Scatter plot + animation:"
   ]
  },
  {
   "cell_type": "code",
   "execution_count": 101,
   "id": "studied-dublin",
   "metadata": {},
   "outputs": [
    {
     "data": {
      "application/vnd.jupyter.widget-view+json": {
       "model_id": "d1158f381d3f4c74bc0008b014e580c2",
       "version_major": 2,
       "version_minor": 0
      },
      "text/plain": [
       "VBox(children=(Figure(animation=200.0, camera=PerspectiveCamera(fov=45.0, position=(0.0, 0.0, 2.0), projection…"
      ]
     },
     "metadata": {},
     "output_type": "display_data"
    }
   ],
   "source": [
    "ipyvolume.figure()\n",
    "\n",
    "s = ipyvolume.scatter(r[:,0,:].T, r[:,1,:].T, r[:,2,:].T, marker='sphere')\n",
    "#s = ipyvolume.scatter(r[:,0,:], r[:,1,:], r[:,2,:], marker='sphere') # shows 1 trajectory\n",
    "#s = ipyvolume.scatter(r[:,0,:].ravel(), r[:,1,:].ravel(), r[:,2,:].ravel(), marker='sphere') # all particles, all time\n",
    "\n",
    "# add in animation\n",
    "ani = ipyvolume.animation_control(s, interval=200) # 200 millisec between \"snapshots\"\n",
    "\n",
    "ipyvolume.show()"
   ]
  },
  {
   "cell_type": "markdown",
   "id": "boolean-binary",
   "metadata": {},
   "source": [
    "**Astronomy note:** this is a VERY low resolution simulation!  That is why the galaxies don't merge but fly apart!"
   ]
  },
  {
   "cell_type": "markdown",
   "id": "abroad-elder",
   "metadata": {},
   "source": [
    "## Combine ipywidgets + ipyvolume for more controls"
   ]
  },
  {
   "cell_type": "code",
   "execution_count": 66,
   "id": "center-demand",
   "metadata": {},
   "outputs": [],
   "source": [
    "import ipywidgets"
   ]
  },
  {
   "cell_type": "code",
   "execution_count": 67,
   "id": "dedicated-brunswick",
   "metadata": {},
   "outputs": [],
   "source": [
    "# plot all trajectories, static scatter plot, downsampled data"
   ]
  },
  {
   "cell_type": "code",
   "execution_count": 74,
   "id": "basic-cause",
   "metadata": {},
   "outputs": [
    {
     "data": {
      "application/vnd.jupyter.widget-view+json": {
       "model_id": "e74438875d3c4101baf9b1ee90d87ac6",
       "version_major": 2,
       "version_minor": 0
      },
      "text/plain": [
       "VBox(children=(Figure(camera=PerspectiveCamera(fov=45.0, position=(0.0, 0.0, 2.0), projectionMatrix=(1.0, 0.0,…"
      ]
     },
     "metadata": {},
     "output_type": "display_data"
    }
   ],
   "source": [
    "ipyvolume.figure()\n",
    "\n",
    "s = ipyvolume.scatter(r[:,0,:].ravel(), r[:,1,:].ravel(), r[:,2,:].ravel(), \n",
    "                     marker='sphere', size=5)\n",
    "\n",
    "ipyvolume.show()"
   ]
  },
  {
   "cell_type": "markdown",
   "id": "rational-myanmar",
   "metadata": {},
   "source": [
    "Make a float slider widget that I can use to change the sizes of my spheres:"
   ]
  },
  {
   "cell_type": "code",
   "execution_count": 69,
   "id": "integrated-bradley",
   "metadata": {},
   "outputs": [],
   "source": [
    "size = ipywidgets.FloatSlider(min=0,max=30,step=0.1)"
   ]
  },
  {
   "cell_type": "code",
   "execution_count": 70,
   "id": "precise-wrestling",
   "metadata": {},
   "outputs": [
    {
     "data": {
      "application/vnd.jupyter.widget-view+json": {
       "model_id": "5f16cb7c272044d3886f874a208edf84",
       "version_major": 2,
       "version_minor": 0
      },
      "text/plain": [
       "FloatSlider(value=0.0, max=30.0)"
      ]
     },
     "metadata": {},
     "output_type": "display_data"
    }
   ],
   "source": [
    "size"
   ]
  },
  {
   "cell_type": "code",
   "execution_count": 72,
   "id": "peripheral-thesaurus",
   "metadata": {},
   "outputs": [
    {
     "data": {
      "text/plain": [
       "9.8"
      ]
     },
     "execution_count": 72,
     "metadata": {},
     "output_type": "execute_result"
    }
   ],
   "source": [
    "size.value # value attribute associated with this widget slider"
   ]
  },
  {
   "cell_type": "code",
   "execution_count": 75,
   "id": "circular-poland",
   "metadata": {},
   "outputs": [
    {
     "data": {
      "text/plain": [
       "array(5)"
      ]
     },
     "execution_count": 75,
     "metadata": {},
     "output_type": "execute_result"
    }
   ],
   "source": [
    "s.size"
   ]
  },
  {
   "cell_type": "markdown",
   "id": "strong-antenna",
   "metadata": {},
   "source": [
    "Recall: `jslink` a function to link attributes of widgets on the JS/\"front-end\" side:"
   ]
  },
  {
   "cell_type": "code",
   "execution_count": 76,
   "id": "different-forge",
   "metadata": {},
   "outputs": [
    {
     "data": {
      "text/plain": [
       "Link(source=(Scatter(color_selected=array('white', dtype='<U5'), geo='sphere', line_material=ShaderMaterial(),…"
      ]
     },
     "metadata": {},
     "output_type": "display_data"
    }
   ],
   "source": [
    "ipywidgets.jslink((s,'size'),(size,'value'))"
   ]
  },
  {
   "cell_type": "markdown",
   "id": "compliant-hungary",
   "metadata": {},
   "source": [
    "Recall we can also use layout widgets:"
   ]
  },
  {
   "cell_type": "code",
   "execution_count": 77,
   "id": "veterinary-hawaii",
   "metadata": {},
   "outputs": [
    {
     "data": {
      "application/vnd.jupyter.widget-view+json": {
       "model_id": "51f033fd281e4ec8b28d693b1f3103cf",
       "version_major": 2,
       "version_minor": 0
      },
      "text/plain": [
       "VBox(children=(VBox(children=(Figure(camera=PerspectiveCamera(aspect=0.8, fov=45.0, matrixWorldNeedsUpdate=Tru…"
      ]
     },
     "metadata": {},
     "output_type": "display_data"
    }
   ],
   "source": [
    "ipywidgets.VBox([ipyvolume.gcc(),size]) # ipyvolume.gcc() grabs current plot"
   ]
  },
  {
   "cell_type": "markdown",
   "id": "failing-veteran",
   "metadata": {},
   "source": [
    "Also link a color widget:"
   ]
  },
  {
   "cell_type": "code",
   "execution_count": 78,
   "id": "technical-cookbook",
   "metadata": {},
   "outputs": [],
   "source": [
    "color = ipywidgets.ColorPicker()"
   ]
  },
  {
   "cell_type": "code",
   "execution_count": 79,
   "id": "floppy-morgan",
   "metadata": {},
   "outputs": [
    {
     "data": {
      "application/vnd.jupyter.widget-view+json": {
       "model_id": "4827d716a6af461ebc4281cd81508e4a",
       "version_major": 2,
       "version_minor": 0
      },
      "text/plain": [
       "ColorPicker(value='black')"
      ]
     },
     "metadata": {},
     "output_type": "display_data"
    }
   ],
   "source": [
    "color"
   ]
  },
  {
   "cell_type": "code",
   "execution_count": 81,
   "id": "chemical-transition",
   "metadata": {},
   "outputs": [
    {
     "data": {
      "text/plain": [
       "'#2f5b44'"
      ]
     },
     "execution_count": 81,
     "metadata": {},
     "output_type": "execute_result"
    }
   ],
   "source": [
    "color.value"
   ]
  },
  {
   "cell_type": "code",
   "execution_count": 80,
   "id": "identical-sunglasses",
   "metadata": {},
   "outputs": [
    {
     "data": {
      "text/plain": [
       "array('red', dtype='<U3')"
      ]
     },
     "execution_count": 80,
     "metadata": {},
     "output_type": "execute_result"
    }
   ],
   "source": [
    "s.color"
   ]
  },
  {
   "cell_type": "code",
   "execution_count": 82,
   "id": "natural-mounting",
   "metadata": {},
   "outputs": [
    {
     "data": {
      "text/plain": [
       "Link(source=(Scatter(color_selected=array('white', dtype='<U5'), geo='sphere', line_material=ShaderMaterial(),…"
      ]
     },
     "metadata": {},
     "output_type": "display_data"
    }
   ],
   "source": [
    "# link color attribute of ipyvolume plot with widget\n",
    "ipywidgets.jslink((s,'color'),(color,'value'))"
   ]
  },
  {
   "cell_type": "code",
   "execution_count": 83,
   "id": "fifty-tension",
   "metadata": {},
   "outputs": [
    {
     "data": {
      "application/vnd.jupyter.widget-view+json": {
       "model_id": "6d4bd4fc36ce444d9a953706e46c8fb9",
       "version_major": 2,
       "version_minor": 0
      },
      "text/plain": [
       "VBox(children=(VBox(children=(Figure(camera=PerspectiveCamera(aspect=0.8, fov=45.0, matrixWorldNeedsUpdate=Tru…"
      ]
     },
     "metadata": {},
     "output_type": "display_data"
    }
   ],
   "source": [
    "# layout again:\n",
    "ipywidgets.VBox([ipyvolume.gcc(), size, color])"
   ]
  },
  {
   "cell_type": "markdown",
   "id": "metallic-aruba",
   "metadata": {},
   "source": [
    "## Export ipyvolume to a HTML page"
   ]
  },
  {
   "cell_type": "code",
   "execution_count": 84,
   "id": "regional-purse",
   "metadata": {},
   "outputs": [],
   "source": [
    "myVBox = ipywidgets.VBox([ipyvolume.gcc(), size, color])"
   ]
  },
  {
   "cell_type": "code",
   "execution_count": 85,
   "id": "double-jordan",
   "metadata": {},
   "outputs": [],
   "source": [
    "# some formatting things so that our box isn't super small\n",
    "ipyvolume.embed.layout = myVBox.children[1].layout\n",
    "ipyvolume.embed.layout.min_width = \"400px\""
   ]
  },
  {
   "cell_type": "markdown",
   "id": "cosmetic-spelling",
   "metadata": {},
   "source": [
    "Make this into a webpage!"
   ]
  },
  {
   "cell_type": "code",
   "execution_count": 86,
   "id": "silent-aberdeen",
   "metadata": {},
   "outputs": [],
   "source": [
    "ipyvolume.embed.embed_html(\"testPage.html\",myVBox,offline=False,devmode=False)"
   ]
  },
  {
   "cell_type": "markdown",
   "id": "wanted-stuff",
   "metadata": {},
   "source": [
    "If on mac/linux:"
   ]
  },
  {
   "cell_type": "code",
   "execution_count": 87,
   "id": "automated-glory",
   "metadata": {},
   "outputs": [],
   "source": [
    "!open myPage.html"
   ]
  },
  {
   "cell_type": "markdown",
   "id": "reported-twist",
   "metadata": {},
   "source": [
    "## Export widgets + ipyvolume + animation"
   ]
  },
  {
   "cell_type": "code",
   "execution_count": 94,
   "id": "excited-alfred",
   "metadata": {},
   "outputs": [],
   "source": [
    "ipyvolume.figure()\n",
    "\n",
    "# widgets\n",
    "size = ipywidgets.FloatSlider(min=0,max=30, step=0.1, description='Size')\n",
    "color = ipywidgets.ColorPicker()\n",
    "\n",
    "# scatter plot\n",
    "s = ipyvolume.scatter(r[:,0,:].T, r[:,1,:].T, r[:,2,:].T, marker='sphere')\n",
    "\n",
    "# widget links to scatter plot\n",
    "ipywidgets.jslink((s,'size'),(size,'value'))\n",
    "ipywidgets.jslink((s,'color'),(color,'value'))\n",
    "\n",
    "# add in animation\n",
    "ani = ipyvolume.animation_control(s, interval=200)\n",
    "\n",
    "#ipyvolume.show()\n",
    "myVbox = ipywidgets.VBox([ipyvolume.gcc(),size,color])\n",
    "\n",
    "# layout things like before:\n",
    "ipyvolume.embed.layout = myVbox.children[1].layout \n",
    "ipyvolume.embed.layout.min_width = '400px'\n",
    "ipyvolume.embed.embed_html(\"testPage2.html\", myVbox, offline=False, devmode=False)"
   ]
  },
  {
   "cell_type": "code",
   "execution_count": 95,
   "id": "thousand-design",
   "metadata": {},
   "outputs": [],
   "source": [
    "!open testPage2.html"
   ]
  },
  {
   "cell_type": "markdown",
   "id": "worthy-custom",
   "metadata": {},
   "source": [
    "# yt (finally!)"
   ]
  },
  {
   "cell_type": "code",
   "execution_count": 102,
   "id": "excellent-passing",
   "metadata": {},
   "outputs": [],
   "source": [
    "import yt"
   ]
  },
  {
   "cell_type": "code",
   "execution_count": 103,
   "id": "upper-librarian",
   "metadata": {},
   "outputs": [
    {
     "name": "stderr",
     "output_type": "stream",
     "text": [
      "yt : [INFO     ] 2021-04-26 11:13:14,039 Parameters: current_time              = 0.0060000200028298\n",
      "yt : [INFO     ] 2021-04-26 11:13:14,040 Parameters: domain_dimensions         = [32 32 32]\n",
      "yt : [INFO     ] 2021-04-26 11:13:14,041 Parameters: domain_left_edge          = [0. 0. 0.]\n",
      "yt : [INFO     ] 2021-04-26 11:13:14,041 Parameters: domain_right_edge         = [1. 1. 1.]\n",
      "yt : [INFO     ] 2021-04-26 11:13:14,042 Parameters: cosmological_simulation   = 0.0\n"
     ]
    }
   ],
   "source": [
    "ds = yt.load(\"/Users/jillnaiman/Downloads/IsolatedGalaxy/galaxy0030/galaxy0030\")"
   ]
  },
  {
   "cell_type": "code",
   "execution_count": 104,
   "id": "african-board",
   "metadata": {},
   "outputs": [
    {
     "name": "stderr",
     "output_type": "stream",
     "text": [
      "Parsing Hierarchy : 100%|██████████| 173/173 [00:00<00:00, 10187.21it/s]\n",
      "yt : [INFO     ] 2021-04-26 11:14:46,977 Gathering a field list (this may take a moment.)\n"
     ]
    },
    {
     "name": "stdout",
     "output_type": "stream",
     "text": [
      "level\t# grids\t       # cells\t     # cells^3\n",
      "----------------------------------------------\n",
      "  0\t     1\t         32768\t            32\n",
      "  1\t     8\t         34304\t            33\n",
      "  2\t     8\t        181888\t            57\n",
      "  3\t     8\t        646968\t            87\n",
      "  4\t    15\t        947856\t            99\n",
      "  5\t    51\t        874128\t            96\n",
      "  6\t    18\t        786328\t            93\n",
      "  7\t    28\t        446776\t            77\n",
      "  8\t    36\t        209400\t            60\n",
      "----------------------------------------------\n",
      "   \t   173\t       4160416\n",
      "\n",
      "\n",
      "t = 6.00002000e-03 = 1.39768066e+16 s = 4.42898275e+08 years\n",
      "\n",
      "Smallest Cell:\n",
      "\tWidth: 1.221e-04 Mpc\n",
      "\tWidth: 1.221e+02 pc\n",
      "\tWidth: 2.518e+07 AU\n",
      "\tWidth: 3.767e+20 cm\n"
     ]
    }
   ],
   "source": [
    "ds.print_stats()"
   ]
  },
  {
   "cell_type": "code",
   "execution_count": 105,
   "id": "empty-contrast",
   "metadata": {},
   "outputs": [
    {
     "data": {
      "text/plain": [
       "[('all', 'creation_time'),\n",
       " ('all', 'dynamical_time'),\n",
       " ('all', 'metallicity_fraction'),\n",
       " ('all', 'particle_index'),\n",
       " ('all', 'particle_mass'),\n",
       " ('all', 'particle_position_x'),\n",
       " ('all', 'particle_position_y'),\n",
       " ('all', 'particle_position_z'),\n",
       " ('all', 'particle_type'),\n",
       " ('all', 'particle_velocity_x'),\n",
       " ('all', 'particle_velocity_y'),\n",
       " ('all', 'particle_velocity_z'),\n",
       " ('enzo', 'Average_creation_time'),\n",
       " ('enzo', 'Bx'),\n",
       " ('enzo', 'By'),\n",
       " ('enzo', 'Bz'),\n",
       " ('enzo', 'Cooling_Time'),\n",
       " ('enzo', 'Dark_Matter_Density'),\n",
       " ('enzo', 'Density'),\n",
       " ('enzo', 'Electron_Density'),\n",
       " ('enzo', 'Forming_Stellar_Mass_Density'),\n",
       " ('enzo', 'Galaxy1Colour'),\n",
       " ('enzo', 'Galaxy2Colour'),\n",
       " ('enzo', 'HII_Density'),\n",
       " ('enzo', 'HI_Density'),\n",
       " ('enzo', 'HeIII_Density'),\n",
       " ('enzo', 'HeII_Density'),\n",
       " ('enzo', 'HeI_Density'),\n",
       " ('enzo', 'MBHColour'),\n",
       " ('enzo', 'Metal_Density'),\n",
       " ('enzo', 'PhiField'),\n",
       " ('enzo', 'Phi_pField'),\n",
       " ('enzo', 'SFR_Density'),\n",
       " ('enzo', 'Star_Particle_Density'),\n",
       " ('enzo', 'Temperature'),\n",
       " ('enzo', 'TotalEnergy'),\n",
       " ('enzo', 'gammaHI'),\n",
       " ('enzo', 'kphHI'),\n",
       " ('enzo', 'kphHeI'),\n",
       " ('enzo', 'kphHeII'),\n",
       " ('enzo', 'x-velocity'),\n",
       " ('enzo', 'y-velocity'),\n",
       " ('enzo', 'z-velocity'),\n",
       " ('io', 'creation_time'),\n",
       " ('io', 'dynamical_time'),\n",
       " ('io', 'metallicity_fraction'),\n",
       " ('io', 'particle_index'),\n",
       " ('io', 'particle_mass'),\n",
       " ('io', 'particle_position_x'),\n",
       " ('io', 'particle_position_y'),\n",
       " ('io', 'particle_position_z'),\n",
       " ('io', 'particle_type'),\n",
       " ('io', 'particle_velocity_x'),\n",
       " ('io', 'particle_velocity_y'),\n",
       " ('io', 'particle_velocity_z')]"
      ]
     },
     "execution_count": 105,
     "metadata": {},
     "output_type": "execute_result"
    }
   ],
   "source": [
    "ds.field_list"
   ]
  },
  {
   "cell_type": "code",
   "execution_count": 106,
   "id": "compliant-perfume",
   "metadata": {},
   "outputs": [
    {
     "data": {
      "text/plain": [
       "[('all', 'age'),\n",
       " ('all', 'creation_time'),\n",
       " ('all', 'dynamical_time'),\n",
       " ('all', 'mesh_id'),\n",
       " ('all', 'metallicity_fraction'),\n",
       " ('all', 'particle_angular_momentum'),\n",
       " ('all', 'particle_angular_momentum_magnitude'),\n",
       " ('all', 'particle_angular_momentum_x'),\n",
       " ('all', 'particle_angular_momentum_y'),\n",
       " ('all', 'particle_angular_momentum_z'),\n",
       " ('all', 'particle_cylindrical_velocity_theta'),\n",
       " ('all', 'particle_cylindrical_velocity_z'),\n",
       " ('all', 'particle_index'),\n",
       " ('all', 'particle_mass'),\n",
       " ('all', 'particle_ones'),\n",
       " ('all', 'particle_position'),\n",
       " ('all', 'particle_position_cylindrical_radius'),\n",
       " ('all', 'particle_position_cylindrical_theta'),\n",
       " ('all', 'particle_position_cylindrical_z'),\n",
       " ('all', 'particle_position_relative'),\n",
       " ('all', 'particle_position_relative_x'),\n",
       " ('all', 'particle_position_relative_y'),\n",
       " ('all', 'particle_position_relative_z'),\n",
       " ('all', 'particle_position_spherical_phi'),\n",
       " ('all', 'particle_position_spherical_radius'),\n",
       " ('all', 'particle_position_spherical_theta'),\n",
       " ('all', 'particle_position_x'),\n",
       " ('all', 'particle_position_y'),\n",
       " ('all', 'particle_position_z'),\n",
       " ('all', 'particle_radial_velocity'),\n",
       " ('all', 'particle_radius'),\n",
       " ('all', 'particle_specific_angular_momentum'),\n",
       " ('all', 'particle_specific_angular_momentum_x'),\n",
       " ('all', 'particle_specific_angular_momentum_y'),\n",
       " ('all', 'particle_specific_angular_momentum_z'),\n",
       " ('all', 'particle_spherical_position_phi'),\n",
       " ('all', 'particle_spherical_position_radius'),\n",
       " ('all', 'particle_spherical_position_theta'),\n",
       " ('all', 'particle_spherical_velocity_phi'),\n",
       " ('all', 'particle_spherical_velocity_radius'),\n",
       " ('all', 'particle_spherical_velocity_theta'),\n",
       " ('all', 'particle_type'),\n",
       " ('all', 'particle_velocity'),\n",
       " ('all', 'particle_velocity_cylindrical_radius'),\n",
       " ('all', 'particle_velocity_cylindrical_theta'),\n",
       " ('all', 'particle_velocity_cylindrical_z'),\n",
       " ('all', 'particle_velocity_magnitude'),\n",
       " ('all', 'particle_velocity_relative'),\n",
       " ('all', 'particle_velocity_relative_x'),\n",
       " ('all', 'particle_velocity_relative_y'),\n",
       " ('all', 'particle_velocity_relative_z'),\n",
       " ('all', 'particle_velocity_spherical_phi'),\n",
       " ('all', 'particle_velocity_spherical_radius'),\n",
       " ('all', 'particle_velocity_spherical_theta'),\n",
       " ('all', 'particle_velocity_x'),\n",
       " ('all', 'particle_velocity_y'),\n",
       " ('all', 'particle_velocity_z'),\n",
       " ('all', 'relative_particle_position'),\n",
       " ('all', 'relative_particle_position_x'),\n",
       " ('all', 'relative_particle_position_y'),\n",
       " ('all', 'relative_particle_position_z'),\n",
       " ('all', 'relative_particle_velocity'),\n",
       " ('all', 'relative_particle_velocity_x'),\n",
       " ('all', 'relative_particle_velocity_y'),\n",
       " ('all', 'relative_particle_velocity_z'),\n",
       " ('deposit', 'all_cic'),\n",
       " ('deposit', 'all_cic_age'),\n",
       " ('deposit', 'all_cic_velocity_x'),\n",
       " ('deposit', 'all_cic_velocity_y'),\n",
       " ('deposit', 'all_cic_velocity_z'),\n",
       " ('deposit', 'all_count'),\n",
       " ('deposit', 'all_density'),\n",
       " ('deposit', 'all_mass'),\n",
       " ('deposit', 'all_nn_age'),\n",
       " ('deposit', 'all_nn_velocity_x'),\n",
       " ('deposit', 'all_nn_velocity_y'),\n",
       " ('deposit', 'all_nn_velocity_z'),\n",
       " ('deposit', 'io_cic'),\n",
       " ('deposit', 'io_cic_age'),\n",
       " ('deposit', 'io_cic_velocity_x'),\n",
       " ('deposit', 'io_cic_velocity_y'),\n",
       " ('deposit', 'io_cic_velocity_z'),\n",
       " ('deposit', 'io_count'),\n",
       " ('deposit', 'io_density'),\n",
       " ('deposit', 'io_mass'),\n",
       " ('deposit', 'io_nn_age'),\n",
       " ('deposit', 'io_nn_velocity_x'),\n",
       " ('deposit', 'io_nn_velocity_y'),\n",
       " ('deposit', 'io_nn_velocity_z'),\n",
       " ('enzo', 'Average_creation_time'),\n",
       " ('enzo', 'Bx'),\n",
       " ('enzo', 'By'),\n",
       " ('enzo', 'Bz'),\n",
       " ('enzo', 'Cooling_Time'),\n",
       " ('enzo', 'Dark_Matter_Density'),\n",
       " ('enzo', 'Density'),\n",
       " ('enzo', 'Electron_Density'),\n",
       " ('enzo', 'Forming_Stellar_Mass_Density'),\n",
       " ('enzo', 'Galaxy1Colour'),\n",
       " ('enzo', 'Galaxy2Colour'),\n",
       " ('enzo', 'HII_Density'),\n",
       " ('enzo', 'HI_Density'),\n",
       " ('enzo', 'HeIII_Density'),\n",
       " ('enzo', 'HeII_Density'),\n",
       " ('enzo', 'HeI_Density'),\n",
       " ('enzo', 'MBHColour'),\n",
       " ('enzo', 'Metal_Density'),\n",
       " ('enzo', 'PhiField'),\n",
       " ('enzo', 'Phi_pField'),\n",
       " ('enzo', 'SFR_Density'),\n",
       " ('enzo', 'Star_Particle_Density'),\n",
       " ('enzo', 'Temperature'),\n",
       " ('enzo', 'TotalEnergy'),\n",
       " ('enzo', 'cell_volume'),\n",
       " ('enzo', 'dx'),\n",
       " ('enzo', 'dy'),\n",
       " ('enzo', 'dz'),\n",
       " ('enzo', 'gammaHI'),\n",
       " ('enzo', 'kphHI'),\n",
       " ('enzo', 'kphHeI'),\n",
       " ('enzo', 'kphHeII'),\n",
       " ('enzo', 'path_element_x'),\n",
       " ('enzo', 'path_element_y'),\n",
       " ('enzo', 'path_element_z'),\n",
       " ('enzo', 'vertex_x'),\n",
       " ('enzo', 'vertex_y'),\n",
       " ('enzo', 'vertex_z'),\n",
       " ('enzo', 'x'),\n",
       " ('enzo', 'x-velocity'),\n",
       " ('enzo', 'y'),\n",
       " ('enzo', 'y-velocity'),\n",
       " ('enzo', 'z'),\n",
       " ('enzo', 'z-velocity'),\n",
       " ('gas', 'El_density'),\n",
       " ('gas', 'El_fraction'),\n",
       " ('gas', 'El_mass'),\n",
       " ('gas', 'El_number_density'),\n",
       " ('gas', 'H_density'),\n",
       " ('gas', 'H_fraction'),\n",
       " ('gas', 'H_mass'),\n",
       " ('gas', 'H_nuclei_density'),\n",
       " ('gas', 'H_number_density'),\n",
       " ('gas', 'H_p0_density'),\n",
       " ('gas', 'H_p0_fraction'),\n",
       " ('gas', 'H_p0_mass'),\n",
       " ('gas', 'H_p0_number_density'),\n",
       " ('gas', 'H_p1_density'),\n",
       " ('gas', 'H_p1_fraction'),\n",
       " ('gas', 'H_p1_mass'),\n",
       " ('gas', 'H_p1_number_density'),\n",
       " ('gas', 'He_density'),\n",
       " ('gas', 'He_fraction'),\n",
       " ('gas', 'He_mass'),\n",
       " ('gas', 'He_nuclei_density'),\n",
       " ('gas', 'He_number_density'),\n",
       " ('gas', 'He_p0_density'),\n",
       " ('gas', 'He_p0_fraction'),\n",
       " ('gas', 'He_p0_mass'),\n",
       " ('gas', 'He_p0_number_density'),\n",
       " ('gas', 'He_p1_density'),\n",
       " ('gas', 'He_p1_fraction'),\n",
       " ('gas', 'He_p1_mass'),\n",
       " ('gas', 'He_p1_number_density'),\n",
       " ('gas', 'He_p2_density'),\n",
       " ('gas', 'He_p2_fraction'),\n",
       " ('gas', 'He_p2_mass'),\n",
       " ('gas', 'He_p2_number_density'),\n",
       " ('gas', 'alfven_speed'),\n",
       " ('gas', 'angular_momentum_magnitude'),\n",
       " ('gas', 'angular_momentum_x'),\n",
       " ('gas', 'angular_momentum_y'),\n",
       " ('gas', 'angular_momentum_z'),\n",
       " ('gas', 'averaged_density'),\n",
       " ('gas', 'baroclinic_vorticity_magnitude'),\n",
       " ('gas', 'baroclinic_vorticity_x'),\n",
       " ('gas', 'baroclinic_vorticity_y'),\n",
       " ('gas', 'baroclinic_vorticity_z'),\n",
       " ('gas', 'cell_mass'),\n",
       " ('gas', 'cell_volume'),\n",
       " ('gas', 'chandra_emissivity'),\n",
       " ('gas', 'cooling_time'),\n",
       " ('gas', 'courant_time_step'),\n",
       " ('gas', 'cutting_plane_magnetic_field_x'),\n",
       " ('gas', 'cutting_plane_magnetic_field_y'),\n",
       " ('gas', 'cutting_plane_magnetic_field_z'),\n",
       " ('gas', 'cutting_plane_velocity_x'),\n",
       " ('gas', 'cutting_plane_velocity_y'),\n",
       " ('gas', 'cutting_plane_velocity_z'),\n",
       " ('gas', 'cylindrical_radial_magnetic_field'),\n",
       " ('gas', 'cylindrical_radial_magnetic_field_absolute'),\n",
       " ('gas', 'cylindrical_radial_velocity'),\n",
       " ('gas', 'cylindrical_radial_velocity_absolute'),\n",
       " ('gas', 'cylindrical_tangential_magnetic_field'),\n",
       " ('gas', 'cylindrical_tangential_magnetic_field_absolute'),\n",
       " ('gas', 'cylindrical_tangential_velocity'),\n",
       " ('gas', 'cylindrical_tangential_velocity_absolute'),\n",
       " ('gas', 'dark_matter_density'),\n",
       " ('gas', 'density'),\n",
       " ('gas', 'density_gradient_magnitude'),\n",
       " ('gas', 'density_gradient_x'),\n",
       " ('gas', 'density_gradient_y'),\n",
       " ('gas', 'density_gradient_z'),\n",
       " ('gas', 'dx'),\n",
       " ('gas', 'dy'),\n",
       " ('gas', 'dynamical_time'),\n",
       " ('gas', 'dz'),\n",
       " ('gas', 'emission_measure'),\n",
       " ('gas', 'entropy'),\n",
       " ('gas', 'jeans_mass'),\n",
       " ('gas', 'kT'),\n",
       " ('gas', 'kinetic_energy'),\n",
       " ('gas', 'mach_alfven'),\n",
       " ('gas', 'mach_number'),\n",
       " ('gas', 'magnetic_energy'),\n",
       " ('gas', 'magnetic_field_cylindrical_radius'),\n",
       " ('gas', 'magnetic_field_cylindrical_theta'),\n",
       " ('gas', 'magnetic_field_cylindrical_z'),\n",
       " ('gas', 'magnetic_field_divergence'),\n",
       " ('gas', 'magnetic_field_divergence_absolute'),\n",
       " ('gas', 'magnetic_field_magnitude'),\n",
       " ('gas', 'magnetic_field_poloidal'),\n",
       " ('gas', 'magnetic_field_spherical_phi'),\n",
       " ('gas', 'magnetic_field_spherical_radius'),\n",
       " ('gas', 'magnetic_field_spherical_theta'),\n",
       " ('gas', 'magnetic_field_strength'),\n",
       " ('gas', 'magnetic_field_toroidal'),\n",
       " ('gas', 'magnetic_field_x'),\n",
       " ('gas', 'magnetic_field_y'),\n",
       " ('gas', 'magnetic_field_z'),\n",
       " ('gas', 'magnetic_pressure'),\n",
       " ('gas', 'matter_density'),\n",
       " ('gas', 'matter_mass'),\n",
       " ('gas', 'mazzotta_weighting'),\n",
       " ('gas', 'mean_molecular_weight'),\n",
       " ('gas', 'metal_density'),\n",
       " ('gas', 'metal_mass'),\n",
       " ('gas', 'metallicity'),\n",
       " ('gas', 'number_density'),\n",
       " ('gas', 'path_element_x'),\n",
       " ('gas', 'path_element_y'),\n",
       " ('gas', 'path_element_z'),\n",
       " ('gas', 'plasma_beta'),\n",
       " ('gas', 'pressure'),\n",
       " ('gas', 'pressure_gradient_magnitude'),\n",
       " ('gas', 'pressure_gradient_x'),\n",
       " ('gas', 'pressure_gradient_y'),\n",
       " ('gas', 'pressure_gradient_z'),\n",
       " ('gas', 'radial_mach_number'),\n",
       " ('gas', 'radial_magnetic_field'),\n",
       " ('gas', 'radial_magnetic_field_absolute'),\n",
       " ('gas', 'radial_velocity'),\n",
       " ('gas', 'radial_velocity_absolute'),\n",
       " ('gas', 'relative_magnetic_field_x'),\n",
       " ('gas', 'relative_magnetic_field_y'),\n",
       " ('gas', 'relative_magnetic_field_z'),\n",
       " ('gas', 'relative_velocity_x'),\n",
       " ('gas', 'relative_velocity_y'),\n",
       " ('gas', 'relative_velocity_z'),\n",
       " ('gas', 'shear'),\n",
       " ('gas', 'shear_criterion'),\n",
       " ('gas', 'shear_mach'),\n",
       " ('gas', 'sound_speed'),\n",
       " ('gas', 'specific_angular_momentum_magnitude'),\n",
       " ('gas', 'specific_angular_momentum_x'),\n",
       " ('gas', 'specific_angular_momentum_y'),\n",
       " ('gas', 'specific_angular_momentum_z'),\n",
       " ('gas', 'sz_kinetic'),\n",
       " ('gas', 'szy'),\n",
       " ('gas', 'tangential_magnetic_field'),\n",
       " ('gas', 'tangential_over_magnetic_field_magnitude'),\n",
       " ('gas', 'tangential_over_velocity_magnitude'),\n",
       " ('gas', 'tangential_velocity'),\n",
       " ('gas', 'temperature'),\n",
       " ('gas', 'thermal_energy'),\n",
       " ('gas', 'total_energy'),\n",
       " ('gas', 'velocity_cylindrical_radius'),\n",
       " ('gas', 'velocity_cylindrical_theta'),\n",
       " ('gas', 'velocity_cylindrical_z'),\n",
       " ('gas', 'velocity_divergence'),\n",
       " ('gas', 'velocity_divergence_absolute'),\n",
       " ('gas', 'velocity_magnitude'),\n",
       " ('gas', 'velocity_spherical_phi'),\n",
       " ('gas', 'velocity_spherical_radius'),\n",
       " ('gas', 'velocity_spherical_theta'),\n",
       " ('gas', 'velocity_x'),\n",
       " ('gas', 'velocity_y'),\n",
       " ('gas', 'velocity_z'),\n",
       " ('gas', 'vertex_x'),\n",
       " ('gas', 'vertex_y'),\n",
       " ('gas', 'vertex_z'),\n",
       " ('gas', 'vorticity_growth_magnitude'),\n",
       " ('gas', 'vorticity_growth_magnitude_absolute'),\n",
       " ('gas', 'vorticity_growth_timescale'),\n",
       " ('gas', 'vorticity_growth_x'),\n",
       " ('gas', 'vorticity_growth_y'),\n",
       " ('gas', 'vorticity_growth_z'),\n",
       " ('gas', 'vorticity_magnitude'),\n",
       " ('gas', 'vorticity_squared'),\n",
       " ('gas', 'vorticity_stretching_magnitude'),\n",
       " ('gas', 'vorticity_stretching_x'),\n",
       " ('gas', 'vorticity_stretching_y'),\n",
       " ('gas', 'vorticity_stretching_z'),\n",
       " ('gas', 'vorticity_x'),\n",
       " ('gas', 'vorticity_y'),\n",
       " ('gas', 'vorticity_z'),\n",
       " ('gas', 'x'),\n",
       " ('gas', 'xray_emissivity'),\n",
       " ('gas', 'y'),\n",
       " ('gas', 'z'),\n",
       " ('index', 'cell_volume'),\n",
       " ('index', 'cylindrical_r'),\n",
       " ('index', 'cylindrical_radius'),\n",
       " ('index', 'cylindrical_theta'),\n",
       " ('index', 'cylindrical_z'),\n",
       " ('index', 'disk_angle'),\n",
       " ('index', 'dx'),\n",
       " ('index', 'dy'),\n",
       " ('index', 'dz'),\n",
       " ('index', 'grid_indices'),\n",
       " ('index', 'grid_level'),\n",
       " ('index', 'height'),\n",
       " ('index', 'morton_index'),\n",
       " ('index', 'ones'),\n",
       " ('index', 'ones_over_dx'),\n",
       " ('index', 'path_element_x'),\n",
       " ('index', 'path_element_y'),\n",
       " ('index', 'path_element_z'),\n",
       " ('index', 'radius'),\n",
       " ('index', 'spherical_phi'),\n",
       " ('index', 'spherical_r'),\n",
       " ('index', 'spherical_radius'),\n",
       " ('index', 'spherical_theta'),\n",
       " ('index', 'vertex_x'),\n",
       " ('index', 'vertex_y'),\n",
       " ('index', 'vertex_z'),\n",
       " ('index', 'virial_radius_fraction'),\n",
       " ('index', 'x'),\n",
       " ('index', 'y'),\n",
       " ('index', 'z'),\n",
       " ('index', 'zeros'),\n",
       " ('io', 'age'),\n",
       " ('io', 'creation_time'),\n",
       " ('io', 'dynamical_time'),\n",
       " ('io', 'mesh_id'),\n",
       " ('io', 'metallicity_fraction'),\n",
       " ('io', 'particle_angular_momentum'),\n",
       " ('io', 'particle_angular_momentum_magnitude'),\n",
       " ('io', 'particle_angular_momentum_x'),\n",
       " ('io', 'particle_angular_momentum_y'),\n",
       " ('io', 'particle_angular_momentum_z'),\n",
       " ('io', 'particle_cylindrical_velocity_theta'),\n",
       " ('io', 'particle_cylindrical_velocity_z'),\n",
       " ('io', 'particle_index'),\n",
       " ('io', 'particle_mass'),\n",
       " ('io', 'particle_ones'),\n",
       " ('io', 'particle_position'),\n",
       " ('io', 'particle_position_cylindrical_radius'),\n",
       " ('io', 'particle_position_cylindrical_theta'),\n",
       " ('io', 'particle_position_cylindrical_z'),\n",
       " ('io', 'particle_position_relative'),\n",
       " ('io', 'particle_position_relative_x'),\n",
       " ('io', 'particle_position_relative_y'),\n",
       " ('io', 'particle_position_relative_z'),\n",
       " ('io', 'particle_position_spherical_phi'),\n",
       " ('io', 'particle_position_spherical_radius'),\n",
       " ('io', 'particle_position_spherical_theta'),\n",
       " ('io', 'particle_position_x'),\n",
       " ('io', 'particle_position_y'),\n",
       " ('io', 'particle_position_z'),\n",
       " ('io', 'particle_radial_velocity'),\n",
       " ('io', 'particle_radius'),\n",
       " ('io', 'particle_specific_angular_momentum'),\n",
       " ('io', 'particle_specific_angular_momentum_x'),\n",
       " ('io', 'particle_specific_angular_momentum_y'),\n",
       " ('io', 'particle_specific_angular_momentum_z'),\n",
       " ('io', 'particle_spherical_position_phi'),\n",
       " ('io', 'particle_spherical_position_radius'),\n",
       " ('io', 'particle_spherical_position_theta'),\n",
       " ('io', 'particle_spherical_velocity_phi'),\n",
       " ('io', 'particle_spherical_velocity_radius'),\n",
       " ('io', 'particle_spherical_velocity_theta'),\n",
       " ('io', 'particle_type'),\n",
       " ('io', 'particle_velocity'),\n",
       " ('io', 'particle_velocity_cylindrical_radius'),\n",
       " ('io', 'particle_velocity_cylindrical_theta'),\n",
       " ('io', 'particle_velocity_cylindrical_z'),\n",
       " ('io', 'particle_velocity_magnitude'),\n",
       " ('io', 'particle_velocity_relative'),\n",
       " ('io', 'particle_velocity_relative_x'),\n",
       " ('io', 'particle_velocity_relative_y'),\n",
       " ('io', 'particle_velocity_relative_z'),\n",
       " ('io', 'particle_velocity_spherical_phi'),\n",
       " ('io', 'particle_velocity_spherical_radius'),\n",
       " ('io', 'particle_velocity_spherical_theta'),\n",
       " ('io', 'particle_velocity_x'),\n",
       " ('io', 'particle_velocity_y'),\n",
       " ('io', 'particle_velocity_z'),\n",
       " ('io', 'relative_particle_position'),\n",
       " ('io', 'relative_particle_position_x'),\n",
       " ('io', 'relative_particle_position_y'),\n",
       " ('io', 'relative_particle_position_z'),\n",
       " ('io', 'relative_particle_velocity'),\n",
       " ('io', 'relative_particle_velocity_x'),\n",
       " ('io', 'relative_particle_velocity_y'),\n",
       " ('io', 'relative_particle_velocity_z')]"
      ]
     },
     "execution_count": 106,
     "metadata": {},
     "output_type": "execute_result"
    }
   ],
   "source": [
    "ds.derived_field_list"
   ]
  },
  {
   "cell_type": "code",
   "execution_count": 107,
   "id": "increased-local",
   "metadata": {},
   "outputs": [
    {
     "data": {
      "application/vnd.jupyter.widget-view+json": {
       "model_id": "bdbab40311af48bdb7d3a53acda7445e",
       "version_major": 2,
       "version_minor": 0
      },
      "text/plain": [
       "HBox(children=(Text(value='1.0', disabled=True), Text(value='1.0', disabled=True), Text(value='1.0', disabled=…"
      ]
     },
     "metadata": {},
     "output_type": "display_data"
    }
   ],
   "source": [
    "ds.domain_right_edge"
   ]
  },
  {
   "cell_type": "code",
   "execution_count": 108,
   "id": "angry-encounter",
   "metadata": {},
   "outputs": [
    {
     "data": {
      "application/vnd.jupyter.widget-view+json": {
       "model_id": "39931e8b1291411ba95d741acc364154",
       "version_major": 2,
       "version_minor": 0
      },
      "text/plain": [
       "HBox(children=(Text(value='0.0', disabled=True), Text(value='0.0', disabled=True), Text(value='0.0', disabled=…"
      ]
     },
     "metadata": {},
     "output_type": "display_data"
    }
   ],
   "source": [
    "ds.domain_left_edge"
   ]
  },
  {
   "cell_type": "code",
   "execution_count": 109,
   "id": "statistical-healthcare",
   "metadata": {},
   "outputs": [
    {
     "data": {
      "text/plain": [
       "7.73426503924e-24 g/cm**3"
      ]
     },
     "execution_count": 109,
     "metadata": {},
     "output_type": "execute_result"
    }
   ],
   "source": [
    "ds.r[:].max(\"density\")"
   ]
  },
  {
   "cell_type": "code",
   "execution_count": 110,
   "id": "developed-transport",
   "metadata": {},
   "outputs": [
    {
     "data": {
      "text/plain": [
       "8.472937507539987e-32 g/cm**3"
      ]
     },
     "execution_count": 110,
     "metadata": {},
     "output_type": "execute_result"
    }
   ],
   "source": [
    "ds.r[:].min(\"density\")"
   ]
  },
  {
   "cell_type": "code",
   "execution_count": 111,
   "id": "immediate-fiction",
   "metadata": {},
   "outputs": [
    {
     "data": {
      "text/plain": [
       "(1.5556197509765625e+24 cm,\n",
       " 1.5424349365234375e+24 cm,\n",
       " 1.5435650634765623e+24 cm)"
      ]
     },
     "execution_count": 111,
     "metadata": {},
     "output_type": "execute_result"
    }
   ],
   "source": [
    "ds.r[:].argmax(\"density\")"
   ]
  },
  {
   "cell_type": "code",
   "execution_count": 114,
   "id": "swedish-happening",
   "metadata": {},
   "outputs": [
    {
     "name": "stderr",
     "output_type": "stream",
     "text": [
      "yt : [INFO     ] 2021-04-26 11:22:34,953 xlim = 0.000000 1.000000\n",
      "yt : [INFO     ] 2021-04-26 11:22:34,954 ylim = 0.000000 1.000000\n",
      "yt : [INFO     ] 2021-04-26 11:22:34,956 Making a fixed resolution buffer of (density) 800 by 800\n",
      "yt : [INFO     ] 2021-04-26 11:22:35,035 Making a fixed resolution buffer of (('gas', 'density')) 800 by 800\n"
     ]
    },
    {
     "data": {
      "text/html": [
       "<img style=\"max-width:100%%;max-height:100%%;\" src=\"data:image/png;base64,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\"><br>"
      ],
      "text/plain": [
       "<yt.visualization.plot_window.PWViewerMPL at 0x7f7e8a6918d0>"
      ]
     },
     "metadata": {},
     "output_type": "display_data"
    }
   ],
   "source": [
    "# quick slice plot -- 1/2 of the way through the z-direction:\n",
    "import matplotlib.pyplot as plt\n",
    "plt.rcParams['figure.figsize'] = [2,2]\n",
    "\n",
    "\n",
    "p = ds.r[:,:,0.5].plot(\"density\")"
   ]
  },
  {
   "cell_type": "code",
   "execution_count": 115,
   "id": "certain-zealand",
   "metadata": {},
   "outputs": [
    {
     "name": "stderr",
     "output_type": "stream",
     "text": [
      "yt : [INFO     ] 2021-04-26 11:23:41,769 Making a fixed resolution buffer of (density) 800 by 800\n",
      "yt : [INFO     ] 2021-04-26 11:23:41,777 Making a fixed resolution buffer of (('gas', 'density')) 800 by 800\n"
     ]
    },
    {
     "data": {
      "text/html": [
       "<img style=\"max-width:100%%;max-height:100%%;\" src=\"data:image/png;base64,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\"><br>"
      ],
      "text/plain": [
       "<yt.visualization.plot_window.PWViewerMPL at 0x7f7e8a6918d0>"
      ]
     },
     "execution_count": 115,
     "metadata": {},
     "output_type": "execute_result"
    }
   ],
   "source": [
    "p.zoom(10)"
   ]
  },
  {
   "cell_type": "code",
   "execution_count": 117,
   "id": "usual-frame",
   "metadata": {},
   "outputs": [
    {
     "data": {
      "text/plain": [
       "3.0856775809623245e+21 cm"
      ]
     },
     "execution_count": 117,
     "metadata": {},
     "output_type": "execute_result"
    }
   ],
   "source": [
    "yt.units.kpc.in_units(\"cm\") # yt is \"unit-aware\""
   ]
  },
  {
   "cell_type": "code",
   "execution_count": 119,
   "id": "strange-teens",
   "metadata": {},
   "outputs": [
    {
     "data": {
      "text/plain": [
       "2.937998944585178e+64 cm**3"
      ]
     },
     "execution_count": 119,
     "metadata": {},
     "output_type": "execute_result"
    }
   ],
   "source": [
    "# can also do unit-based calculations:\n",
    "(yt.units.kpc**3).in_units(\"cm**3\")"
   ]
  },
  {
   "cell_type": "code",
   "execution_count": 122,
   "id": "breathing-affect",
   "metadata": {},
   "outputs": [],
   "source": [
    "#(yt.units.kpc**3).in_units(\"cm\")\n",
    "# error: YTUnitConversionError: Unit dimensionalities do not match. Tried to convert between kpc**3 (dim (length)**3) and cm (dim (length))."
   ]
  },
  {
   "cell_type": "code",
   "execution_count": 123,
   "id": "bearing-israel",
   "metadata": {},
   "outputs": [
    {
     "data": {
      "text/html": [
       "<img style=\"max-width:100%%;max-height:100%%;\" src=\"data:image/png;base64,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\"><br>"
      ],
      "text/plain": [
       "<yt.visualization.plot_window.PWViewerMPL at 0x7f7e8a6918d0>"
      ]
     },
     "execution_count": 123,
     "metadata": {},
     "output_type": "execute_result"
    }
   ],
   "source": [
    "# changing the units of my plot:\n",
    "p.set_unit(\"density\", \"kg/m**3\")"
   ]
  },
  {
   "cell_type": "code",
   "execution_count": null,
   "id": "touched-small",
   "metadata": {},
   "outputs": [],
   "source": [
    "# annotate my plot with velocity vectors:\n",
    "p.annotate_veloci"
   ]
  }
 ],
 "metadata": {
  "kernelspec": {
   "display_name": "Python 3",
   "language": "python",
   "name": "python3"
  },
  "language_info": {
   "codemirror_mode": {
    "name": "ipython",
    "version": 3
   },
   "file_extension": ".py",
   "mimetype": "text/x-python",
   "name": "python",
   "nbconvert_exporter": "python",
   "pygments_lexer": "ipython3",
   "version": "3.7.9"
  }
 },
 "nbformat": 4,
 "nbformat_minor": 5
}
