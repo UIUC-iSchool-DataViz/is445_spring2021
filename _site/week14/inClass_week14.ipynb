{
 "cells": [
  {
   "cell_type": "markdown",
   "id": "innovative-airplane",
   "metadata": {},
   "source": [
    "# In Class Notebook, Week 14"
   ]
  },
  {
   "cell_type": "markdown",
   "id": "recovered-dimension",
   "metadata": {},
   "source": [
    "You can always paste the URL of this notebook (https://github.com/UIUC-iSchool-DataViz/is445_spring2021/blob/master/week14/inClass_week14.ipynb ) into the nbviewer interface for a plain-text rendering:\n",
    "\n",
    "https://kokes.github.io/nbviewer.js/viewer.html"
   ]
  },
  {
   "cell_type": "markdown",
   "id": "forced-habitat",
   "metadata": {},
   "source": [
    "Let me write something!"
   ]
  },
  {
   "cell_type": "markdown",
   "id": "hairy-pittsburgh",
   "metadata": {},
   "source": [
    "Before yt, let's check out ipyvolume\n",
    "\n",
    "## ipyvolume"
   ]
  },
  {
   "cell_type": "code",
   "execution_count": 1,
   "id": "different-attachment",
   "metadata": {},
   "outputs": [],
   "source": [
    "# import our usual things\n",
    "import numpy as np\n",
    "import pandas as pd\n",
    "import ipyvolume"
   ]
  },
  {
   "cell_type": "code",
   "execution_count": 2,
   "id": "respiratory-blink",
   "metadata": {},
   "outputs": [],
   "source": [
    "x, y, z = np.random.random((3, 100)) # 3 dimensions, 100 points total"
   ]
  },
  {
   "cell_type": "code",
   "execution_count": 7,
   "id": "liquid-cutting",
   "metadata": {},
   "outputs": [],
   "source": [
    "ipyvolume.quickscatter?"
   ]
  },
  {
   "cell_type": "code",
   "execution_count": 8,
   "id": "dying-calvin",
   "metadata": {},
   "outputs": [
    {
     "data": {
      "application/vnd.jupyter.widget-view+json": {
       "model_id": "baf14fc09dcb4a988cb0c183a490d891",
       "version_major": 2,
       "version_minor": 0
      },
      "text/plain": [
       "VBox(children=(Figure(camera=PerspectiveCamera(fov=45.0, position=(0.0, 0.0, 2.0), projectionMatrix=(1.0, 0.0,…"
      ]
     },
     "metadata": {},
     "output_type": "display_data"
    }
   ],
   "source": [
    "# quick 3d scatter plot\n",
    "ipyvolume.quickscatter(x,y,z, size=5, marker='diamond')"
   ]
  },
  {
   "cell_type": "markdown",
   "id": "legislative-triumph",
   "metadata": {},
   "source": [
    "Now using \"real\" data -- data from a VERY low resolution simulation of 2 galaxies colliding. (Galaxies are collections of billions of stars, we live in the Milky Way galaxy, our star (the Sun!) is about 1/2 out on a disk of stars in the Milky Way)."
   ]
  },
  {
   "cell_type": "code",
   "execution_count": 96,
   "id": "ahead-coach",
   "metadata": {},
   "outputs": [],
   "source": [
    "galaxy_file = '/Users/jillnaiman/Downloads/outarrsnap_001_fac1n3.txt' # 7 Mb\n",
    "galaxy_file = '/Users/jillnaiman/Downloads/outarrsnap_001_fac1n2_nt500.txt'\n",
    "\n"
   ]
  },
  {
   "cell_type": "markdown",
   "id": "binary-maria",
   "metadata": {},
   "source": [
    "We note: the data is super confusing to look at!  Luckily there is a data reader -- solverlibs.py -- included in the galaxyFiles.zip!"
   ]
  },
  {
   "cell_type": "code",
   "execution_count": 22,
   "id": "corrected-tokyo",
   "metadata": {},
   "outputs": [],
   "source": [
    "# to load solver -- can copy to current directory\n",
    "\n",
    "# or update path:\n",
    "from sys import path\n",
    "path.append('/Users/jillnaiman/Downloads/')\n",
    "#path.append('C:\\\\Users\\\\jillnaiman\\\\Downloads\\\\') # maybe windows?!"
   ]
  },
  {
   "cell_type": "code",
   "execution_count": 23,
   "id": "sunrise-document",
   "metadata": {},
   "outputs": [
    {
     "data": {
      "text/plain": [
       "['/Users/jillnaiman/is445_spring2021/week14',\n",
       " '/opt/anaconda3/envs/DataViz/lib/python37.zip',\n",
       " '/opt/anaconda3/envs/DataViz/lib/python3.7',\n",
       " '/opt/anaconda3/envs/DataViz/lib/python3.7/lib-dynload',\n",
       " '',\n",
       " '/Users/jillnaiman/.local/lib/python3.7/site-packages',\n",
       " '/opt/anaconda3/envs/DataViz/lib/python3.7/site-packages',\n",
       " '/opt/anaconda3/envs/DataViz/lib/python3.7/site-packages/IPython/extensions',\n",
       " '/Users/jillnaiman/.ipython',\n",
       " '/Users/jillnaiman/Downloads/',\n",
       " '/Users/jillnaiman/Downloads/']"
      ]
     },
     "execution_count": 23,
     "metadata": {},
     "output_type": "execute_result"
    }
   ],
   "source": [
    "path"
   ]
  },
  {
   "cell_type": "code",
   "execution_count": 21,
   "id": "caring-magazine",
   "metadata": {},
   "outputs": [],
   "source": [
    "from solverlibs import read_in_galaxy_data"
   ]
  },
  {
   "cell_type": "code",
   "execution_count": 13,
   "id": "happy-seven",
   "metadata": {},
   "outputs": [],
   "source": [
    "read_in_galaxy_data?"
   ]
  },
  {
   "cell_type": "code",
   "execution_count": 14,
   "id": "laden-element",
   "metadata": {},
   "outputs": [],
   "source": [
    "# Note: a terrible person has not included doc strings!!!"
   ]
  },
  {
   "cell_type": "code",
   "execution_count": 97,
   "id": "restricted-velvet",
   "metadata": {},
   "outputs": [],
   "source": [
    "t_h, r_h, v_h, e_h, N, part_type = read_in_galaxy_data(galaxy_file)"
   ]
  },
  {
   "cell_type": "code",
   "execution_count": 17,
   "id": "hispanic-cornell",
   "metadata": {},
   "outputs": [
    {
     "data": {
      "text/plain": [
       "(82, 3, 500)"
      ]
     },
     "execution_count": 17,
     "metadata": {},
     "output_type": "execute_result"
    }
   ],
   "source": [
    "r_h.shape # 82 particles, 3 positions -- x/y/z, 500 time steps"
   ]
  },
  {
   "cell_type": "code",
   "execution_count": 18,
   "id": "ambient-exercise",
   "metadata": {},
   "outputs": [
    {
     "data": {
      "text/plain": [
       "82"
      ]
     },
     "execution_count": 18,
     "metadata": {},
     "output_type": "execute_result"
    }
   ],
   "source": [
    "N"
   ]
  },
  {
   "cell_type": "code",
   "execution_count": 98,
   "id": "willing-columbus",
   "metadata": {},
   "outputs": [],
   "source": [
    "# 3D plot of my initial time step:\n",
    "nT = 0 # first time step\n",
    "\n",
    "x, y, z = r_h[:,0, nT], r_h[:,1,nT], r_h[:,2,nT]"
   ]
  },
  {
   "cell_type": "code",
   "execution_count": 99,
   "id": "governmental-train",
   "metadata": {},
   "outputs": [
    {
     "data": {
      "application/vnd.jupyter.widget-view+json": {
       "model_id": "948bdc74a7bd4cdcbac87765e84f2688",
       "version_major": 2,
       "version_minor": 0
      },
      "text/plain": [
       "VBox(children=(Figure(camera=PerspectiveCamera(fov=45.0, position=(0.0, 0.0, 2.0), projectionMatrix=(1.0, 0.0,…"
      ]
     },
     "metadata": {},
     "output_type": "display_data"
    }
   ],
   "source": [
    "ipyvolume.quickscatter(x,y,z, size=3, marker=\"sphere\") # plots one time step"
   ]
  },
  {
   "cell_type": "code",
   "execution_count": 34,
   "id": "chief-domain",
   "metadata": {},
   "outputs": [],
   "source": [
    "# all timesteps by \"unwrapping\"\n",
    "\n",
    "x = r_h[:,0,:].ravel() # 1D\n",
    "y = r_h[:,1,:].ravel()\n",
    "z = r_h[:,2,:].ravel()"
   ]
  },
  {
   "cell_type": "code",
   "execution_count": 35,
   "id": "floating-indianapolis",
   "metadata": {},
   "outputs": [
    {
     "data": {
      "text/plain": [
       "array([-0.55503449, -0.5316963 , -0.50835813, ..., -1.42056334,\n",
       "       -1.42175787, -1.42295243])"
      ]
     },
     "execution_count": 35,
     "metadata": {},
     "output_type": "execute_result"
    }
   ],
   "source": [
    "x"
   ]
  },
  {
   "cell_type": "code",
   "execution_count": 36,
   "id": "chronic-treat",
   "metadata": {},
   "outputs": [
    {
     "data": {
      "application/vnd.jupyter.widget-view+json": {
       "model_id": "e7c87eeda5294f53a451b57a36d5b5b8",
       "version_major": 2,
       "version_minor": 0
      },
      "text/plain": [
       "VBox(children=(Figure(camera=PerspectiveCamera(fov=45.0, position=(0.0, 0.0, 2.0), projectionMatrix=(1.0, 0.0,…"
      ]
     },
     "metadata": {},
     "output_type": "display_data"
    }
   ],
   "source": [
    "ipyvolume.quickscatter(x,y,z, size=3, marker='sphere')"
   ]
  },
  {
   "cell_type": "markdown",
   "id": "verbal-billy",
   "metadata": {},
   "source": [
    "This is not super useful, but we can do better using a quiver plot:"
   ]
  },
  {
   "cell_type": "code",
   "execution_count": 38,
   "id": "going-algebra",
   "metadata": {},
   "outputs": [
    {
     "data": {
      "application/vnd.jupyter.widget-view+json": {
       "model_id": "69072a73fb794d8a95b1952745eda4dc",
       "version_major": 2,
       "version_minor": 0
      },
      "text/plain": [
       "VBox(children=(Figure(camera=PerspectiveCamera(fov=45.0, position=(0.0, 0.0, 2.0), projectionMatrix=(1.0, 0.0,…"
      ]
     },
     "metadata": {},
     "output_type": "display_data"
    }
   ],
   "source": [
    "ipyvolume.figure()\n",
    "# use quiver plot -- x,y,z positions and vx,vy,vz velocity vector components\n",
    "\n",
    "for i in range(r_h.shape[0]): # loop through every particle\n",
    "    ipyvolume.quiver(r_h[i,0,:], # ith particle, x position, all time steps\n",
    "                    r_h[i,1,:], # ith particle, y postion, all time steps\n",
    "                    r_h[i,2,:], # ith particle, z postion, all timesteps\n",
    "                    v_h[i,0,:], # ith particle, vx (velocity in x direction), all time steps\n",
    "                    v_h[i,1,:], # ith particle, vy, all times\n",
    "                    v_h[i,2,:], # ith particle, vz, all times\n",
    "                    size=1)\n",
    "ipyvolume.show()"
   ]
  },
  {
   "cell_type": "code",
   "execution_count": 52,
   "id": "mature-armenia",
   "metadata": {},
   "outputs": [
    {
     "data": {
      "text/plain": [
       "82"
      ]
     },
     "execution_count": 52,
     "metadata": {},
     "output_type": "execute_result"
    }
   ],
   "source": [
    "N # number of particles"
   ]
  },
  {
   "cell_type": "code",
   "execution_count": 54,
   "id": "systematic-kingston",
   "metadata": {},
   "outputs": [
    {
     "data": {
      "text/plain": [
       "500"
      ]
     },
     "execution_count": 54,
     "metadata": {},
     "output_type": "execute_result"
    }
   ],
   "source": [
    "Nt = r_h.shape[2] # number of timesteps!\n",
    "Nt"
   ]
  },
  {
   "cell_type": "code",
   "execution_count": 55,
   "id": "european-montgomery",
   "metadata": {},
   "outputs": [
    {
     "data": {
      "application/vnd.jupyter.widget-view+json": {
       "model_id": "0c502c94f36f44fb85763ff58f9492c2",
       "version_major": 2,
       "version_minor": 0
      },
      "text/plain": [
       "VBox(children=(Figure(camera=PerspectiveCamera(fov=45.0, position=(0.0, 0.0, 2.0), projectionMatrix=(1.0, 0.0,…"
      ]
     },
     "metadata": {},
     "output_type": "display_data"
    }
   ],
   "source": [
    "# sub sample to see arrows\n",
    "step = 10 # only plot each 10th timestep\n",
    "\n",
    "ipyvolume.figure()\n",
    "# use quiver plot -- x,y,z positions and vx,vy,vz velocity vector components\n",
    "\n",
    "for i in range(r_h.shape[0]): # loop through every particle\n",
    "    ipyvolume.quiver(r_h[i,0,0:Nt:step], # ith particle, x position, every 10th time step\n",
    "                    r_h[i,1,0:Nt:step], # ith particle, y postion\n",
    "                    r_h[i,2,0:Nt:step], # ith particle, z postion\n",
    "                    v_h[i,0,0:Nt:step], # ith particle, vx (velocity in x direction)\n",
    "                    v_h[i,1,0:Nt:step], # ith particle, vy\n",
    "                    v_h[i,2,0:Nt:step], # ith particle, vz\n",
    "                    size=1)\n",
    "ipyvolume.show()"
   ]
  },
  {
   "cell_type": "markdown",
   "id": "advanced-rapid",
   "metadata": {},
   "source": [
    "## 3D animations with ipyvolume"
   ]
  },
  {
   "cell_type": "markdown",
   "id": "conditional-result",
   "metadata": {},
   "source": [
    "For data formatting reasons, we will take the **transpose** of our data matricies"
   ]
  },
  {
   "cell_type": "code",
   "execution_count": 44,
   "id": "respected-champion",
   "metadata": {},
   "outputs": [
    {
     "name": "stdout",
     "output_type": "stream",
     "text": [
      "(82, 500) (500, 82)\n"
     ]
    }
   ],
   "source": [
    "print(r_h[:,0,:].shape, r_h[:,0,:].T.shape)"
   ]
  },
  {
   "cell_type": "markdown",
   "id": "active-float",
   "metadata": {},
   "source": [
    "Down sample our position and velocity vectors for smoother animations:"
   ]
  },
  {
   "cell_type": "code",
   "execution_count": 100,
   "id": "turned-virtue",
   "metadata": {},
   "outputs": [],
   "source": [
    "step = 10 # only save each 10th time step\n",
    "\n",
    "r = r_h[:,:,0:Nt:step]\n",
    "v = v_h[:,:,0:Nt:step]"
   ]
  },
  {
   "cell_type": "code",
   "execution_count": 58,
   "id": "tight-radar",
   "metadata": {},
   "outputs": [
    {
     "data": {
      "text/plain": [
       "(82, 3, 50)"
      ]
     },
     "execution_count": 58,
     "metadata": {},
     "output_type": "execute_result"
    }
   ],
   "source": [
    "r.shape"
   ]
  },
  {
   "cell_type": "markdown",
   "id": "complimentary-cisco",
   "metadata": {},
   "source": [
    "Scatter plot + animation:"
   ]
  },
  {
   "cell_type": "code",
   "execution_count": 101,
   "id": "angry-anniversary",
   "metadata": {},
   "outputs": [
    {
     "data": {
      "application/vnd.jupyter.widget-view+json": {
       "model_id": "d1158f381d3f4c74bc0008b014e580c2",
       "version_major": 2,
       "version_minor": 0
      },
      "text/plain": [
       "VBox(children=(Figure(animation=200.0, camera=PerspectiveCamera(fov=45.0, position=(0.0, 0.0, 2.0), projection…"
      ]
     },
     "metadata": {},
     "output_type": "display_data"
    }
   ],
   "source": [
    "ipyvolume.figure()\n",
    "\n",
    "s = ipyvolume.scatter(r[:,0,:].T, r[:,1,:].T, r[:,2,:].T, marker='sphere')\n",
    "#s = ipyvolume.scatter(r[:,0,:], r[:,1,:], r[:,2,:], marker='sphere') # shows 1 trajectory\n",
    "#s = ipyvolume.scatter(r[:,0,:].ravel(), r[:,1,:].ravel(), r[:,2,:].ravel(), marker='sphere') # all particles, all time\n",
    "\n",
    "# add in animation\n",
    "ani = ipyvolume.animation_control(s, interval=200) # 200 millisec between \"snapshots\"\n",
    "\n",
    "ipyvolume.show()"
   ]
  },
  {
   "cell_type": "markdown",
   "id": "fixed-empty",
   "metadata": {},
   "source": [
    "**Astronomy note:** this is a VERY low resolution simulation!  That is why the galaxies don't merge but fly apart!"
   ]
  },
  {
   "cell_type": "markdown",
   "id": "composite-puzzle",
   "metadata": {},
   "source": [
    "## Combine ipywidgets + ipyvolume for more controls"
   ]
  },
  {
   "cell_type": "code",
   "execution_count": 66,
   "id": "mexican-tyler",
   "metadata": {},
   "outputs": [],
   "source": [
    "import ipywidgets"
   ]
  },
  {
   "cell_type": "code",
   "execution_count": 67,
   "id": "private-trading",
   "metadata": {},
   "outputs": [],
   "source": [
    "# plot all trajectories, static scatter plot, downsampled data"
   ]
  },
  {
   "cell_type": "code",
   "execution_count": 74,
   "id": "demographic-experience",
   "metadata": {},
   "outputs": [
    {
     "data": {
      "application/vnd.jupyter.widget-view+json": {
       "model_id": "e74438875d3c4101baf9b1ee90d87ac6",
       "version_major": 2,
       "version_minor": 0
      },
      "text/plain": [
       "VBox(children=(Figure(camera=PerspectiveCamera(fov=45.0, position=(0.0, 0.0, 2.0), projectionMatrix=(1.0, 0.0,…"
      ]
     },
     "metadata": {},
     "output_type": "display_data"
    }
   ],
   "source": [
    "ipyvolume.figure()\n",
    "\n",
    "s = ipyvolume.scatter(r[:,0,:].ravel(), r[:,1,:].ravel(), r[:,2,:].ravel(), \n",
    "                     marker='sphere', size=5)\n",
    "\n",
    "ipyvolume.show()"
   ]
  },
  {
   "cell_type": "markdown",
   "id": "interesting-closer",
   "metadata": {},
   "source": [
    "Make a float slider widget that I can use to change the sizes of my spheres:"
   ]
  },
  {
   "cell_type": "code",
   "execution_count": 69,
   "id": "relevant-anaheim",
   "metadata": {},
   "outputs": [],
   "source": [
    "size = ipywidgets.FloatSlider(min=0,max=30,step=0.1)"
   ]
  },
  {
   "cell_type": "code",
   "execution_count": 70,
   "id": "inner-knock",
   "metadata": {},
   "outputs": [
    {
     "data": {
      "application/vnd.jupyter.widget-view+json": {
       "model_id": "5f16cb7c272044d3886f874a208edf84",
       "version_major": 2,
       "version_minor": 0
      },
      "text/plain": [
       "FloatSlider(value=0.0, max=30.0)"
      ]
     },
     "metadata": {},
     "output_type": "display_data"
    }
   ],
   "source": [
    "size"
   ]
  },
  {
   "cell_type": "code",
   "execution_count": 72,
   "id": "grave-invention",
   "metadata": {},
   "outputs": [
    {
     "data": {
      "text/plain": [
       "9.8"
      ]
     },
     "execution_count": 72,
     "metadata": {},
     "output_type": "execute_result"
    }
   ],
   "source": [
    "size.value # value attribute associated with this widget slider"
   ]
  },
  {
   "cell_type": "code",
   "execution_count": 75,
   "id": "vital-survivor",
   "metadata": {},
   "outputs": [
    {
     "data": {
      "text/plain": [
       "array(5)"
      ]
     },
     "execution_count": 75,
     "metadata": {},
     "output_type": "execute_result"
    }
   ],
   "source": [
    "s.size"
   ]
  },
  {
   "cell_type": "markdown",
   "id": "downtown-timber",
   "metadata": {},
   "source": [
    "Recall: `jslink` a function to link attributes of widgets on the JS/\"front-end\" side:"
   ]
  },
  {
   "cell_type": "code",
   "execution_count": 76,
   "id": "rolled-interference",
   "metadata": {},
   "outputs": [
    {
     "data": {
      "text/plain": [
       "Link(source=(Scatter(color_selected=array('white', dtype='<U5'), geo='sphere', line_material=ShaderMaterial(),…"
      ]
     },
     "metadata": {},
     "output_type": "display_data"
    }
   ],
   "source": [
    "ipywidgets.jslink((s,'size'),(size,'value'))"
   ]
  },
  {
   "cell_type": "markdown",
   "id": "racial-municipality",
   "metadata": {},
   "source": [
    "Recall we can also use layout widgets:"
   ]
  },
  {
   "cell_type": "code",
   "execution_count": 77,
   "id": "least-ready",
   "metadata": {},
   "outputs": [
    {
     "data": {
      "application/vnd.jupyter.widget-view+json": {
       "model_id": "51f033fd281e4ec8b28d693b1f3103cf",
       "version_major": 2,
       "version_minor": 0
      },
      "text/plain": [
       "VBox(children=(VBox(children=(Figure(camera=PerspectiveCamera(aspect=0.8, fov=45.0, matrixWorldNeedsUpdate=Tru…"
      ]
     },
     "metadata": {},
     "output_type": "display_data"
    }
   ],
   "source": [
    "ipywidgets.VBox([ipyvolume.gcc(),size]) # ipyvolume.gcc() grabs current plot"
   ]
  },
  {
   "cell_type": "markdown",
   "id": "second-keyboard",
   "metadata": {},
   "source": [
    "Also link a color widget:"
   ]
  },
  {
   "cell_type": "code",
   "execution_count": 78,
   "id": "afraid-seafood",
   "metadata": {},
   "outputs": [],
   "source": [
    "color = ipywidgets.ColorPicker()"
   ]
  },
  {
   "cell_type": "code",
   "execution_count": 79,
   "id": "incomplete-northwest",
   "metadata": {},
   "outputs": [
    {
     "data": {
      "application/vnd.jupyter.widget-view+json": {
       "model_id": "4827d716a6af461ebc4281cd81508e4a",
       "version_major": 2,
       "version_minor": 0
      },
      "text/plain": [
       "ColorPicker(value='black')"
      ]
     },
     "metadata": {},
     "output_type": "display_data"
    }
   ],
   "source": [
    "color"
   ]
  },
  {
   "cell_type": "code",
   "execution_count": 81,
   "id": "above-wrong",
   "metadata": {},
   "outputs": [
    {
     "data": {
      "text/plain": [
       "'#2f5b44'"
      ]
     },
     "execution_count": 81,
     "metadata": {},
     "output_type": "execute_result"
    }
   ],
   "source": [
    "color.value"
   ]
  },
  {
   "cell_type": "code",
   "execution_count": 80,
   "id": "objective-arena",
   "metadata": {},
   "outputs": [
    {
     "data": {
      "text/plain": [
       "array('red', dtype='<U3')"
      ]
     },
     "execution_count": 80,
     "metadata": {},
     "output_type": "execute_result"
    }
   ],
   "source": [
    "s.color"
   ]
  },
  {
   "cell_type": "code",
   "execution_count": 82,
   "id": "ceramic-dynamics",
   "metadata": {},
   "outputs": [
    {
     "data": {
      "text/plain": [
       "Link(source=(Scatter(color_selected=array('white', dtype='<U5'), geo='sphere', line_material=ShaderMaterial(),…"
      ]
     },
     "metadata": {},
     "output_type": "display_data"
    }
   ],
   "source": [
    "# link color attribute of ipyvolume plot with widget\n",
    "ipywidgets.jslink((s,'color'),(color,'value'))"
   ]
  },
  {
   "cell_type": "code",
   "execution_count": 83,
   "id": "tender-court",
   "metadata": {},
   "outputs": [
    {
     "data": {
      "application/vnd.jupyter.widget-view+json": {
       "model_id": "6d4bd4fc36ce444d9a953706e46c8fb9",
       "version_major": 2,
       "version_minor": 0
      },
      "text/plain": [
       "VBox(children=(VBox(children=(Figure(camera=PerspectiveCamera(aspect=0.8, fov=45.0, matrixWorldNeedsUpdate=Tru…"
      ]
     },
     "metadata": {},
     "output_type": "display_data"
    }
   ],
   "source": [
    "# layout again:\n",
    "ipywidgets.VBox([ipyvolume.gcc(), size, color])"
   ]
  },
  {
   "cell_type": "markdown",
   "id": "parliamentary-olympus",
   "metadata": {},
   "source": [
    "## Export ipyvolume to a HTML page"
   ]
  },
  {
   "cell_type": "code",
   "execution_count": 84,
   "id": "assigned-coffee",
   "metadata": {},
   "outputs": [],
   "source": [
    "myVBox = ipywidgets.VBox([ipyvolume.gcc(), size, color])"
   ]
  },
  {
   "cell_type": "code",
   "execution_count": 85,
   "id": "smaller-mobility",
   "metadata": {},
   "outputs": [],
   "source": [
    "# some formatting things so that our box isn't super small\n",
    "ipyvolume.embed.layout = myVBox.children[1].layout\n",
    "ipyvolume.embed.layout.min_width = \"400px\""
   ]
  },
  {
   "cell_type": "markdown",
   "id": "first-husband",
   "metadata": {},
   "source": [
    "Make this into a webpage!"
   ]
  },
  {
   "cell_type": "code",
   "execution_count": 86,
   "id": "informational-watershed",
   "metadata": {},
   "outputs": [],
   "source": [
    "ipyvolume.embed.embed_html(\"testPage.html\",myVBox,offline=False,devmode=False)"
   ]
  },
  {
   "cell_type": "markdown",
   "id": "improving-investing",
   "metadata": {},
   "source": [
    "If on mac/linux:"
   ]
  },
  {
   "cell_type": "code",
   "execution_count": 87,
   "id": "collected-confirmation",
   "metadata": {},
   "outputs": [],
   "source": [
    "!open myPage.html"
   ]
  },
  {
   "cell_type": "markdown",
   "id": "british-burke",
   "metadata": {},
   "source": [
    "## Export widgets + ipyvolume + animation"
   ]
  },
  {
   "cell_type": "code",
   "execution_count": 94,
   "id": "amended-austria",
   "metadata": {},
   "outputs": [],
   "source": [
    "ipyvolume.figure()\n",
    "\n",
    "# widgets\n",
    "size = ipywidgets.FloatSlider(min=0,max=30, step=0.1, description='Size')\n",
    "color = ipywidgets.ColorPicker()\n",
    "\n",
    "# scatter plot\n",
    "s = ipyvolume.scatter(r[:,0,:].T, r[:,1,:].T, r[:,2,:].T, marker='sphere')\n",
    "\n",
    "# widget links to scatter plot\n",
    "ipywidgets.jslink((s,'size'),(size,'value'))\n",
    "ipywidgets.jslink((s,'color'),(color,'value'))\n",
    "\n",
    "# add in animation\n",
    "ani = ipyvolume.animation_control(s, interval=200)\n",
    "\n",
    "#ipyvolume.show()\n",
    "myVbox = ipywidgets.VBox([ipyvolume.gcc(),size,color])\n",
    "\n",
    "# layout things like before:\n",
    "ipyvolume.embed.layout = myVbox.children[1].layout \n",
    "ipyvolume.embed.layout.min_width = '400px'\n",
    "ipyvolume.embed.embed_html(\"testPage2.html\", myVbox, offline=False, devmode=False)"
   ]
  },
  {
   "cell_type": "code",
   "execution_count": 95,
   "id": "nuclear-knife",
   "metadata": {},
   "outputs": [],
   "source": [
    "!open testPage2.html"
   ]
  },
  {
   "cell_type": "markdown",
   "id": "functional-administrator",
   "metadata": {},
   "source": [
    "# yt (finally!)"
   ]
  },
  {
   "cell_type": "code",
   "execution_count": 102,
   "id": "swiss-joint",
   "metadata": {},
   "outputs": [],
   "source": [
    "import yt"
   ]
  },
  {
   "cell_type": "code",
   "execution_count": 103,
   "id": "sorted-bench",
   "metadata": {},
   "outputs": [
    {
     "name": "stderr",
     "output_type": "stream",
     "text": [
      "yt : [INFO     ] 2021-04-26 11:13:14,039 Parameters: current_time              = 0.0060000200028298\n",
      "yt : [INFO     ] 2021-04-26 11:13:14,040 Parameters: domain_dimensions         = [32 32 32]\n",
      "yt : [INFO     ] 2021-04-26 11:13:14,041 Parameters: domain_left_edge          = [0. 0. 0.]\n",
      "yt : [INFO     ] 2021-04-26 11:13:14,041 Parameters: domain_right_edge         = [1. 1. 1.]\n",
      "yt : [INFO     ] 2021-04-26 11:13:14,042 Parameters: cosmological_simulation   = 0.0\n"
     ]
    }
   ],
   "source": [
    "ds = yt.load(\"/Users/jillnaiman/Downloads/IsolatedGalaxy/galaxy0030/galaxy0030\")"
   ]
  },
  {
   "cell_type": "code",
   "execution_count": 104,
   "id": "north-sleeping",
   "metadata": {},
   "outputs": [
    {
     "name": "stderr",
     "output_type": "stream",
     "text": [
      "Parsing Hierarchy : 100%|██████████| 173/173 [00:00<00:00, 10187.21it/s]\n",
      "yt : [INFO     ] 2021-04-26 11:14:46,977 Gathering a field list (this may take a moment.)\n"
     ]
    },
    {
     "name": "stdout",
     "output_type": "stream",
     "text": [
      "level\t# grids\t       # cells\t     # cells^3\n",
      "----------------------------------------------\n",
      "  0\t     1\t         32768\t            32\n",
      "  1\t     8\t         34304\t            33\n",
      "  2\t     8\t        181888\t            57\n",
      "  3\t     8\t        646968\t            87\n",
      "  4\t    15\t        947856\t            99\n",
      "  5\t    51\t        874128\t            96\n",
      "  6\t    18\t        786328\t            93\n",
      "  7\t    28\t        446776\t            77\n",
      "  8\t    36\t        209400\t            60\n",
      "----------------------------------------------\n",
      "   \t   173\t       4160416\n",
      "\n",
      "\n",
      "t = 6.00002000e-03 = 1.39768066e+16 s = 4.42898275e+08 years\n",
      "\n",
      "Smallest Cell:\n",
      "\tWidth: 1.221e-04 Mpc\n",
      "\tWidth: 1.221e+02 pc\n",
      "\tWidth: 2.518e+07 AU\n",
      "\tWidth: 3.767e+20 cm\n"
     ]
    }
   ],
   "source": [
    "ds.print_stats()"
   ]
  },
  {
   "cell_type": "code",
   "execution_count": 105,
   "id": "inappropriate-essex",
   "metadata": {},
   "outputs": [
    {
     "data": {
      "text/plain": [
       "[('all', 'creation_time'),\n",
       " ('all', 'dynamical_time'),\n",
       " ('all', 'metallicity_fraction'),\n",
       " ('all', 'particle_index'),\n",
       " ('all', 'particle_mass'),\n",
       " ('all', 'particle_position_x'),\n",
       " ('all', 'particle_position_y'),\n",
       " ('all', 'particle_position_z'),\n",
       " ('all', 'particle_type'),\n",
       " ('all', 'particle_velocity_x'),\n",
       " ('all', 'particle_velocity_y'),\n",
       " ('all', 'particle_velocity_z'),\n",
       " ('enzo', 'Average_creation_time'),\n",
       " ('enzo', 'Bx'),\n",
       " ('enzo', 'By'),\n",
       " ('enzo', 'Bz'),\n",
       " ('enzo', 'Cooling_Time'),\n",
       " ('enzo', 'Dark_Matter_Density'),\n",
       " ('enzo', 'Density'),\n",
       " ('enzo', 'Electron_Density'),\n",
       " ('enzo', 'Forming_Stellar_Mass_Density'),\n",
       " ('enzo', 'Galaxy1Colour'),\n",
       " ('enzo', 'Galaxy2Colour'),\n",
       " ('enzo', 'HII_Density'),\n",
       " ('enzo', 'HI_Density'),\n",
       " ('enzo', 'HeIII_Density'),\n",
       " ('enzo', 'HeII_Density'),\n",
       " ('enzo', 'HeI_Density'),\n",
       " ('enzo', 'MBHColour'),\n",
       " ('enzo', 'Metal_Density'),\n",
       " ('enzo', 'PhiField'),\n",
       " ('enzo', 'Phi_pField'),\n",
       " ('enzo', 'SFR_Density'),\n",
       " ('enzo', 'Star_Particle_Density'),\n",
       " ('enzo', 'Temperature'),\n",
       " ('enzo', 'TotalEnergy'),\n",
       " ('enzo', 'gammaHI'),\n",
       " ('enzo', 'kphHI'),\n",
       " ('enzo', 'kphHeI'),\n",
       " ('enzo', 'kphHeII'),\n",
       " ('enzo', 'x-velocity'),\n",
       " ('enzo', 'y-velocity'),\n",
       " ('enzo', 'z-velocity'),\n",
       " ('io', 'creation_time'),\n",
       " ('io', 'dynamical_time'),\n",
       " ('io', 'metallicity_fraction'),\n",
       " ('io', 'particle_index'),\n",
       " ('io', 'particle_mass'),\n",
       " ('io', 'particle_position_x'),\n",
       " ('io', 'particle_position_y'),\n",
       " ('io', 'particle_position_z'),\n",
       " ('io', 'particle_type'),\n",
       " ('io', 'particle_velocity_x'),\n",
       " ('io', 'particle_velocity_y'),\n",
       " ('io', 'particle_velocity_z')]"
      ]
     },
     "execution_count": 105,
     "metadata": {},
     "output_type": "execute_result"
    }
   ],
   "source": [
    "ds.field_list"
   ]
  },
  {
   "cell_type": "code",
   "execution_count": 106,
   "id": "second-absorption",
   "metadata": {},
   "outputs": [
    {
     "data": {
      "text/plain": [
       "[('all', 'age'),\n",
       " ('all', 'creation_time'),\n",
       " ('all', 'dynamical_time'),\n",
       " ('all', 'mesh_id'),\n",
       " ('all', 'metallicity_fraction'),\n",
       " ('all', 'particle_angular_momentum'),\n",
       " ('all', 'particle_angular_momentum_magnitude'),\n",
       " ('all', 'particle_angular_momentum_x'),\n",
       " ('all', 'particle_angular_momentum_y'),\n",
       " ('all', 'particle_angular_momentum_z'),\n",
       " ('all', 'particle_cylindrical_velocity_theta'),\n",
       " ('all', 'particle_cylindrical_velocity_z'),\n",
       " ('all', 'particle_index'),\n",
       " ('all', 'particle_mass'),\n",
       " ('all', 'particle_ones'),\n",
       " ('all', 'particle_position'),\n",
       " ('all', 'particle_position_cylindrical_radius'),\n",
       " ('all', 'particle_position_cylindrical_theta'),\n",
       " ('all', 'particle_position_cylindrical_z'),\n",
       " ('all', 'particle_position_relative'),\n",
       " ('all', 'particle_position_relative_x'),\n",
       " ('all', 'particle_position_relative_y'),\n",
       " ('all', 'particle_position_relative_z'),\n",
       " ('all', 'particle_position_spherical_phi'),\n",
       " ('all', 'particle_position_spherical_radius'),\n",
       " ('all', 'particle_position_spherical_theta'),\n",
       " ('all', 'particle_position_x'),\n",
       " ('all', 'particle_position_y'),\n",
       " ('all', 'particle_position_z'),\n",
       " ('all', 'particle_radial_velocity'),\n",
       " ('all', 'particle_radius'),\n",
       " ('all', 'particle_specific_angular_momentum'),\n",
       " ('all', 'particle_specific_angular_momentum_x'),\n",
       " ('all', 'particle_specific_angular_momentum_y'),\n",
       " ('all', 'particle_specific_angular_momentum_z'),\n",
       " ('all', 'particle_spherical_position_phi'),\n",
       " ('all', 'particle_spherical_position_radius'),\n",
       " ('all', 'particle_spherical_position_theta'),\n",
       " ('all', 'particle_spherical_velocity_phi'),\n",
       " ('all', 'particle_spherical_velocity_radius'),\n",
       " ('all', 'particle_spherical_velocity_theta'),\n",
       " ('all', 'particle_type'),\n",
       " ('all', 'particle_velocity'),\n",
       " ('all', 'particle_velocity_cylindrical_radius'),\n",
       " ('all', 'particle_velocity_cylindrical_theta'),\n",
       " ('all', 'particle_velocity_cylindrical_z'),\n",
       " ('all', 'particle_velocity_magnitude'),\n",
       " ('all', 'particle_velocity_relative'),\n",
       " ('all', 'particle_velocity_relative_x'),\n",
       " ('all', 'particle_velocity_relative_y'),\n",
       " ('all', 'particle_velocity_relative_z'),\n",
       " ('all', 'particle_velocity_spherical_phi'),\n",
       " ('all', 'particle_velocity_spherical_radius'),\n",
       " ('all', 'particle_velocity_spherical_theta'),\n",
       " ('all', 'particle_velocity_x'),\n",
       " ('all', 'particle_velocity_y'),\n",
       " ('all', 'particle_velocity_z'),\n",
       " ('all', 'relative_particle_position'),\n",
       " ('all', 'relative_particle_position_x'),\n",
       " ('all', 'relative_particle_position_y'),\n",
       " ('all', 'relative_particle_position_z'),\n",
       " ('all', 'relative_particle_velocity'),\n",
       " ('all', 'relative_particle_velocity_x'),\n",
       " ('all', 'relative_particle_velocity_y'),\n",
       " ('all', 'relative_particle_velocity_z'),\n",
       " ('deposit', 'all_cic'),\n",
       " ('deposit', 'all_cic_age'),\n",
       " ('deposit', 'all_cic_velocity_x'),\n",
       " ('deposit', 'all_cic_velocity_y'),\n",
       " ('deposit', 'all_cic_velocity_z'),\n",
       " ('deposit', 'all_count'),\n",
       " ('deposit', 'all_density'),\n",
       " ('deposit', 'all_mass'),\n",
       " ('deposit', 'all_nn_age'),\n",
       " ('deposit', 'all_nn_velocity_x'),\n",
       " ('deposit', 'all_nn_velocity_y'),\n",
       " ('deposit', 'all_nn_velocity_z'),\n",
       " ('deposit', 'io_cic'),\n",
       " ('deposit', 'io_cic_age'),\n",
       " ('deposit', 'io_cic_velocity_x'),\n",
       " ('deposit', 'io_cic_velocity_y'),\n",
       " ('deposit', 'io_cic_velocity_z'),\n",
       " ('deposit', 'io_count'),\n",
       " ('deposit', 'io_density'),\n",
       " ('deposit', 'io_mass'),\n",
       " ('deposit', 'io_nn_age'),\n",
       " ('deposit', 'io_nn_velocity_x'),\n",
       " ('deposit', 'io_nn_velocity_y'),\n",
       " ('deposit', 'io_nn_velocity_z'),\n",
       " ('enzo', 'Average_creation_time'),\n",
       " ('enzo', 'Bx'),\n",
       " ('enzo', 'By'),\n",
       " ('enzo', 'Bz'),\n",
       " ('enzo', 'Cooling_Time'),\n",
       " ('enzo', 'Dark_Matter_Density'),\n",
       " ('enzo', 'Density'),\n",
       " ('enzo', 'Electron_Density'),\n",
       " ('enzo', 'Forming_Stellar_Mass_Density'),\n",
       " ('enzo', 'Galaxy1Colour'),\n",
       " ('enzo', 'Galaxy2Colour'),\n",
       " ('enzo', 'HII_Density'),\n",
       " ('enzo', 'HI_Density'),\n",
       " ('enzo', 'HeIII_Density'),\n",
       " ('enzo', 'HeII_Density'),\n",
       " ('enzo', 'HeI_Density'),\n",
       " ('enzo', 'MBHColour'),\n",
       " ('enzo', 'Metal_Density'),\n",
       " ('enzo', 'PhiField'),\n",
       " ('enzo', 'Phi_pField'),\n",
       " ('enzo', 'SFR_Density'),\n",
       " ('enzo', 'Star_Particle_Density'),\n",
       " ('enzo', 'Temperature'),\n",
       " ('enzo', 'TotalEnergy'),\n",
       " ('enzo', 'cell_volume'),\n",
       " ('enzo', 'dx'),\n",
       " ('enzo', 'dy'),\n",
       " ('enzo', 'dz'),\n",
       " ('enzo', 'gammaHI'),\n",
       " ('enzo', 'kphHI'),\n",
       " ('enzo', 'kphHeI'),\n",
       " ('enzo', 'kphHeII'),\n",
       " ('enzo', 'path_element_x'),\n",
       " ('enzo', 'path_element_y'),\n",
       " ('enzo', 'path_element_z'),\n",
       " ('enzo', 'vertex_x'),\n",
       " ('enzo', 'vertex_y'),\n",
       " ('enzo', 'vertex_z'),\n",
       " ('enzo', 'x'),\n",
       " ('enzo', 'x-velocity'),\n",
       " ('enzo', 'y'),\n",
       " ('enzo', 'y-velocity'),\n",
       " ('enzo', 'z'),\n",
       " ('enzo', 'z-velocity'),\n",
       " ('gas', 'El_density'),\n",
       " ('gas', 'El_fraction'),\n",
       " ('gas', 'El_mass'),\n",
       " ('gas', 'El_number_density'),\n",
       " ('gas', 'H_density'),\n",
       " ('gas', 'H_fraction'),\n",
       " ('gas', 'H_mass'),\n",
       " ('gas', 'H_nuclei_density'),\n",
       " ('gas', 'H_number_density'),\n",
       " ('gas', 'H_p0_density'),\n",
       " ('gas', 'H_p0_fraction'),\n",
       " ('gas', 'H_p0_mass'),\n",
       " ('gas', 'H_p0_number_density'),\n",
       " ('gas', 'H_p1_density'),\n",
       " ('gas', 'H_p1_fraction'),\n",
       " ('gas', 'H_p1_mass'),\n",
       " ('gas', 'H_p1_number_density'),\n",
       " ('gas', 'He_density'),\n",
       " ('gas', 'He_fraction'),\n",
       " ('gas', 'He_mass'),\n",
       " ('gas', 'He_nuclei_density'),\n",
       " ('gas', 'He_number_density'),\n",
       " ('gas', 'He_p0_density'),\n",
       " ('gas', 'He_p0_fraction'),\n",
       " ('gas', 'He_p0_mass'),\n",
       " ('gas', 'He_p0_number_density'),\n",
       " ('gas', 'He_p1_density'),\n",
       " ('gas', 'He_p1_fraction'),\n",
       " ('gas', 'He_p1_mass'),\n",
       " ('gas', 'He_p1_number_density'),\n",
       " ('gas', 'He_p2_density'),\n",
       " ('gas', 'He_p2_fraction'),\n",
       " ('gas', 'He_p2_mass'),\n",
       " ('gas', 'He_p2_number_density'),\n",
       " ('gas', 'alfven_speed'),\n",
       " ('gas', 'angular_momentum_magnitude'),\n",
       " ('gas', 'angular_momentum_x'),\n",
       " ('gas', 'angular_momentum_y'),\n",
       " ('gas', 'angular_momentum_z'),\n",
       " ('gas', 'averaged_density'),\n",
       " ('gas', 'baroclinic_vorticity_magnitude'),\n",
       " ('gas', 'baroclinic_vorticity_x'),\n",
       " ('gas', 'baroclinic_vorticity_y'),\n",
       " ('gas', 'baroclinic_vorticity_z'),\n",
       " ('gas', 'cell_mass'),\n",
       " ('gas', 'cell_volume'),\n",
       " ('gas', 'chandra_emissivity'),\n",
       " ('gas', 'cooling_time'),\n",
       " ('gas', 'courant_time_step'),\n",
       " ('gas', 'cutting_plane_magnetic_field_x'),\n",
       " ('gas', 'cutting_plane_magnetic_field_y'),\n",
       " ('gas', 'cutting_plane_magnetic_field_z'),\n",
       " ('gas', 'cutting_plane_velocity_x'),\n",
       " ('gas', 'cutting_plane_velocity_y'),\n",
       " ('gas', 'cutting_plane_velocity_z'),\n",
       " ('gas', 'cylindrical_radial_magnetic_field'),\n",
       " ('gas', 'cylindrical_radial_magnetic_field_absolute'),\n",
       " ('gas', 'cylindrical_radial_velocity'),\n",
       " ('gas', 'cylindrical_radial_velocity_absolute'),\n",
       " ('gas', 'cylindrical_tangential_magnetic_field'),\n",
       " ('gas', 'cylindrical_tangential_magnetic_field_absolute'),\n",
       " ('gas', 'cylindrical_tangential_velocity'),\n",
       " ('gas', 'cylindrical_tangential_velocity_absolute'),\n",
       " ('gas', 'dark_matter_density'),\n",
       " ('gas', 'density'),\n",
       " ('gas', 'density_gradient_magnitude'),\n",
       " ('gas', 'density_gradient_x'),\n",
       " ('gas', 'density_gradient_y'),\n",
       " ('gas', 'density_gradient_z'),\n",
       " ('gas', 'dx'),\n",
       " ('gas', 'dy'),\n",
       " ('gas', 'dynamical_time'),\n",
       " ('gas', 'dz'),\n",
       " ('gas', 'emission_measure'),\n",
       " ('gas', 'entropy'),\n",
       " ('gas', 'jeans_mass'),\n",
       " ('gas', 'kT'),\n",
       " ('gas', 'kinetic_energy'),\n",
       " ('gas', 'mach_alfven'),\n",
       " ('gas', 'mach_number'),\n",
       " ('gas', 'magnetic_energy'),\n",
       " ('gas', 'magnetic_field_cylindrical_radius'),\n",
       " ('gas', 'magnetic_field_cylindrical_theta'),\n",
       " ('gas', 'magnetic_field_cylindrical_z'),\n",
       " ('gas', 'magnetic_field_divergence'),\n",
       " ('gas', 'magnetic_field_divergence_absolute'),\n",
       " ('gas', 'magnetic_field_magnitude'),\n",
       " ('gas', 'magnetic_field_poloidal'),\n",
       " ('gas', 'magnetic_field_spherical_phi'),\n",
       " ('gas', 'magnetic_field_spherical_radius'),\n",
       " ('gas', 'magnetic_field_spherical_theta'),\n",
       " ('gas', 'magnetic_field_strength'),\n",
       " ('gas', 'magnetic_field_toroidal'),\n",
       " ('gas', 'magnetic_field_x'),\n",
       " ('gas', 'magnetic_field_y'),\n",
       " ('gas', 'magnetic_field_z'),\n",
       " ('gas', 'magnetic_pressure'),\n",
       " ('gas', 'matter_density'),\n",
       " ('gas', 'matter_mass'),\n",
       " ('gas', 'mazzotta_weighting'),\n",
       " ('gas', 'mean_molecular_weight'),\n",
       " ('gas', 'metal_density'),\n",
       " ('gas', 'metal_mass'),\n",
       " ('gas', 'metallicity'),\n",
       " ('gas', 'number_density'),\n",
       " ('gas', 'path_element_x'),\n",
       " ('gas', 'path_element_y'),\n",
       " ('gas', 'path_element_z'),\n",
       " ('gas', 'plasma_beta'),\n",
       " ('gas', 'pressure'),\n",
       " ('gas', 'pressure_gradient_magnitude'),\n",
       " ('gas', 'pressure_gradient_x'),\n",
       " ('gas', 'pressure_gradient_y'),\n",
       " ('gas', 'pressure_gradient_z'),\n",
       " ('gas', 'radial_mach_number'),\n",
       " ('gas', 'radial_magnetic_field'),\n",
       " ('gas', 'radial_magnetic_field_absolute'),\n",
       " ('gas', 'radial_velocity'),\n",
       " ('gas', 'radial_velocity_absolute'),\n",
       " ('gas', 'relative_magnetic_field_x'),\n",
       " ('gas', 'relative_magnetic_field_y'),\n",
       " ('gas', 'relative_magnetic_field_z'),\n",
       " ('gas', 'relative_velocity_x'),\n",
       " ('gas', 'relative_velocity_y'),\n",
       " ('gas', 'relative_velocity_z'),\n",
       " ('gas', 'shear'),\n",
       " ('gas', 'shear_criterion'),\n",
       " ('gas', 'shear_mach'),\n",
       " ('gas', 'sound_speed'),\n",
       " ('gas', 'specific_angular_momentum_magnitude'),\n",
       " ('gas', 'specific_angular_momentum_x'),\n",
       " ('gas', 'specific_angular_momentum_y'),\n",
       " ('gas', 'specific_angular_momentum_z'),\n",
       " ('gas', 'sz_kinetic'),\n",
       " ('gas', 'szy'),\n",
       " ('gas', 'tangential_magnetic_field'),\n",
       " ('gas', 'tangential_over_magnetic_field_magnitude'),\n",
       " ('gas', 'tangential_over_velocity_magnitude'),\n",
       " ('gas', 'tangential_velocity'),\n",
       " ('gas', 'temperature'),\n",
       " ('gas', 'thermal_energy'),\n",
       " ('gas', 'total_energy'),\n",
       " ('gas', 'velocity_cylindrical_radius'),\n",
       " ('gas', 'velocity_cylindrical_theta'),\n",
       " ('gas', 'velocity_cylindrical_z'),\n",
       " ('gas', 'velocity_divergence'),\n",
       " ('gas', 'velocity_divergence_absolute'),\n",
       " ('gas', 'velocity_magnitude'),\n",
       " ('gas', 'velocity_spherical_phi'),\n",
       " ('gas', 'velocity_spherical_radius'),\n",
       " ('gas', 'velocity_spherical_theta'),\n",
       " ('gas', 'velocity_x'),\n",
       " ('gas', 'velocity_y'),\n",
       " ('gas', 'velocity_z'),\n",
       " ('gas', 'vertex_x'),\n",
       " ('gas', 'vertex_y'),\n",
       " ('gas', 'vertex_z'),\n",
       " ('gas', 'vorticity_growth_magnitude'),\n",
       " ('gas', 'vorticity_growth_magnitude_absolute'),\n",
       " ('gas', 'vorticity_growth_timescale'),\n",
       " ('gas', 'vorticity_growth_x'),\n",
       " ('gas', 'vorticity_growth_y'),\n",
       " ('gas', 'vorticity_growth_z'),\n",
       " ('gas', 'vorticity_magnitude'),\n",
       " ('gas', 'vorticity_squared'),\n",
       " ('gas', 'vorticity_stretching_magnitude'),\n",
       " ('gas', 'vorticity_stretching_x'),\n",
       " ('gas', 'vorticity_stretching_y'),\n",
       " ('gas', 'vorticity_stretching_z'),\n",
       " ('gas', 'vorticity_x'),\n",
       " ('gas', 'vorticity_y'),\n",
       " ('gas', 'vorticity_z'),\n",
       " ('gas', 'x'),\n",
       " ('gas', 'xray_emissivity'),\n",
       " ('gas', 'y'),\n",
       " ('gas', 'z'),\n",
       " ('index', 'cell_volume'),\n",
       " ('index', 'cylindrical_r'),\n",
       " ('index', 'cylindrical_radius'),\n",
       " ('index', 'cylindrical_theta'),\n",
       " ('index', 'cylindrical_z'),\n",
       " ('index', 'disk_angle'),\n",
       " ('index', 'dx'),\n",
       " ('index', 'dy'),\n",
       " ('index', 'dz'),\n",
       " ('index', 'grid_indices'),\n",
       " ('index', 'grid_level'),\n",
       " ('index', 'height'),\n",
       " ('index', 'morton_index'),\n",
       " ('index', 'ones'),\n",
       " ('index', 'ones_over_dx'),\n",
       " ('index', 'path_element_x'),\n",
       " ('index', 'path_element_y'),\n",
       " ('index', 'path_element_z'),\n",
       " ('index', 'radius'),\n",
       " ('index', 'spherical_phi'),\n",
       " ('index', 'spherical_r'),\n",
       " ('index', 'spherical_radius'),\n",
       " ('index', 'spherical_theta'),\n",
       " ('index', 'vertex_x'),\n",
       " ('index', 'vertex_y'),\n",
       " ('index', 'vertex_z'),\n",
       " ('index', 'virial_radius_fraction'),\n",
       " ('index', 'x'),\n",
       " ('index', 'y'),\n",
       " ('index', 'z'),\n",
       " ('index', 'zeros'),\n",
       " ('io', 'age'),\n",
       " ('io', 'creation_time'),\n",
       " ('io', 'dynamical_time'),\n",
       " ('io', 'mesh_id'),\n",
       " ('io', 'metallicity_fraction'),\n",
       " ('io', 'particle_angular_momentum'),\n",
       " ('io', 'particle_angular_momentum_magnitude'),\n",
       " ('io', 'particle_angular_momentum_x'),\n",
       " ('io', 'particle_angular_momentum_y'),\n",
       " ('io', 'particle_angular_momentum_z'),\n",
       " ('io', 'particle_cylindrical_velocity_theta'),\n",
       " ('io', 'particle_cylindrical_velocity_z'),\n",
       " ('io', 'particle_index'),\n",
       " ('io', 'particle_mass'),\n",
       " ('io', 'particle_ones'),\n",
       " ('io', 'particle_position'),\n",
       " ('io', 'particle_position_cylindrical_radius'),\n",
       " ('io', 'particle_position_cylindrical_theta'),\n",
       " ('io', 'particle_position_cylindrical_z'),\n",
       " ('io', 'particle_position_relative'),\n",
       " ('io', 'particle_position_relative_x'),\n",
       " ('io', 'particle_position_relative_y'),\n",
       " ('io', 'particle_position_relative_z'),\n",
       " ('io', 'particle_position_spherical_phi'),\n",
       " ('io', 'particle_position_spherical_radius'),\n",
       " ('io', 'particle_position_spherical_theta'),\n",
       " ('io', 'particle_position_x'),\n",
       " ('io', 'particle_position_y'),\n",
       " ('io', 'particle_position_z'),\n",
       " ('io', 'particle_radial_velocity'),\n",
       " ('io', 'particle_radius'),\n",
       " ('io', 'particle_specific_angular_momentum'),\n",
       " ('io', 'particle_specific_angular_momentum_x'),\n",
       " ('io', 'particle_specific_angular_momentum_y'),\n",
       " ('io', 'particle_specific_angular_momentum_z'),\n",
       " ('io', 'particle_spherical_position_phi'),\n",
       " ('io', 'particle_spherical_position_radius'),\n",
       " ('io', 'particle_spherical_position_theta'),\n",
       " ('io', 'particle_spherical_velocity_phi'),\n",
       " ('io', 'particle_spherical_velocity_radius'),\n",
       " ('io', 'particle_spherical_velocity_theta'),\n",
       " ('io', 'particle_type'),\n",
       " ('io', 'particle_velocity'),\n",
       " ('io', 'particle_velocity_cylindrical_radius'),\n",
       " ('io', 'particle_velocity_cylindrical_theta'),\n",
       " ('io', 'particle_velocity_cylindrical_z'),\n",
       " ('io', 'particle_velocity_magnitude'),\n",
       " ('io', 'particle_velocity_relative'),\n",
       " ('io', 'particle_velocity_relative_x'),\n",
       " ('io', 'particle_velocity_relative_y'),\n",
       " ('io', 'particle_velocity_relative_z'),\n",
       " ('io', 'particle_velocity_spherical_phi'),\n",
       " ('io', 'particle_velocity_spherical_radius'),\n",
       " ('io', 'particle_velocity_spherical_theta'),\n",
       " ('io', 'particle_velocity_x'),\n",
       " ('io', 'particle_velocity_y'),\n",
       " ('io', 'particle_velocity_z'),\n",
       " ('io', 'relative_particle_position'),\n",
       " ('io', 'relative_particle_position_x'),\n",
       " ('io', 'relative_particle_position_y'),\n",
       " ('io', 'relative_particle_position_z'),\n",
       " ('io', 'relative_particle_velocity'),\n",
       " ('io', 'relative_particle_velocity_x'),\n",
       " ('io', 'relative_particle_velocity_y'),\n",
       " ('io', 'relative_particle_velocity_z')]"
      ]
     },
     "execution_count": 106,
     "metadata": {},
     "output_type": "execute_result"
    }
   ],
   "source": [
    "ds.derived_field_list"
   ]
  },
  {
   "cell_type": "code",
   "execution_count": 107,
   "id": "broad-douglas",
   "metadata": {},
   "outputs": [
    {
     "data": {
      "application/vnd.jupyter.widget-view+json": {
       "model_id": "bdbab40311af48bdb7d3a53acda7445e",
       "version_major": 2,
       "version_minor": 0
      },
      "text/plain": [
       "HBox(children=(Text(value='1.0', disabled=True), Text(value='1.0', disabled=True), Text(value='1.0', disabled=…"
      ]
     },
     "metadata": {},
     "output_type": "display_data"
    }
   ],
   "source": [
    "ds.domain_right_edge"
   ]
  },
  {
   "cell_type": "code",
   "execution_count": 108,
   "id": "turned-mediterranean",
   "metadata": {},
   "outputs": [
    {
     "data": {
      "application/vnd.jupyter.widget-view+json": {
       "model_id": "39931e8b1291411ba95d741acc364154",
       "version_major": 2,
       "version_minor": 0
      },
      "text/plain": [
       "HBox(children=(Text(value='0.0', disabled=True), Text(value='0.0', disabled=True), Text(value='0.0', disabled=…"
      ]
     },
     "metadata": {},
     "output_type": "display_data"
    }
   ],
   "source": [
    "ds.domain_left_edge"
   ]
  },
  {
   "cell_type": "code",
   "execution_count": null,
   "id": "banner-carol",
   "metadata": {},
   "outputs": [],
   "source": []
  }
 ],
 "metadata": {
  "kernelspec": {
   "display_name": "Python 3",
   "language": "python",
   "name": "python3"
  },
  "language_info": {
   "codemirror_mode": {
    "name": "ipython",
    "version": 3
   },
   "file_extension": ".py",
   "mimetype": "text/x-python",
   "name": "python",
   "nbconvert_exporter": "python",
   "pygments_lexer": "ipython3",
   "version": "3.7.9"
  }
 },
 "nbformat": 4,
 "nbformat_minor": 5
}
