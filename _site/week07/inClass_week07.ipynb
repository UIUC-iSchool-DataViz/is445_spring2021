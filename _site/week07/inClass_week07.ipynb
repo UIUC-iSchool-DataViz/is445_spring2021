{
 "cells": [
  {
   "cell_type": "markdown",
   "id": "supported-favor",
   "metadata": {},
   "source": [
    "# In Class Notebook, Week 07"
   ]
  },
  {
   "cell_type": "markdown",
   "id": "complex-civilization",
   "metadata": {},
   "source": [
    "You can always paste the URL of this notebook (https://github.com/UIUC-iSchool-DataViz/is445_spring2021/blob/master/week07/inClass_week07.ipynb ) into the nbviewer interface for a plain-text rendering:\n",
    "\n",
    "https://kokes.github.io/nbviewer.js/viewer.html"
   ]
  },
  {
   "cell_type": "markdown",
   "id": "floral-flood",
   "metadata": {},
   "source": [
    "## Start off with bqplot"
   ]
  },
  {
   "cell_type": "code",
   "execution_count": 2,
   "id": "rotary-chemistry",
   "metadata": {},
   "outputs": [],
   "source": [
    "import bqplot\n",
    "# for later:\n",
    "import geopandas\n",
    "import numpy as np\n",
    "import pandas as pd\n",
    "import matplotlib.pyplot"
   ]
  },
  {
   "cell_type": "code",
   "execution_count": null,
   "id": "stretch-relationship",
   "metadata": {},
   "outputs": [],
   "source": [
    "# 1. Data shape data (data/axis)\n",
    "\n",
    "# 2. Scales\n",
    "\n",
    "# 3. Axis (sort of in #1)\n",
    "\n",
    "# 4. Marks"
   ]
  }
 ],
 "metadata": {
  "kernelspec": {
   "display_name": "Python 3",
   "language": "python",
   "name": "python3"
  },
  "language_info": {
   "codemirror_mode": {
    "name": "ipython",
    "version": 3
   },
   "file_extension": ".py",
   "mimetype": "text/x-python",
   "name": "python",
   "nbconvert_exporter": "python",
   "pygments_lexer": "ipython3",
   "version": "3.7.9"
  }
 },
 "nbformat": 4,
 "nbformat_minor": 5
}
